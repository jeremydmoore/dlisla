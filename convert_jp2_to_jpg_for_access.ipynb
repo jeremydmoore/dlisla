{
 "cells": [
  {
   "cell_type": "code",
   "execution_count": 1,
   "metadata": {},
   "outputs": [],
   "source": [
    "from pathlib import Path\n",
    "import subprocess\n",
    "\n",
    "from ipywidgets import IntProgress, Label, VBox\n",
    "from IPython.display import display\n",
    "from PIL import Image"
   ]
  },
  {
   "cell_type": "code",
   "execution_count": 2,
   "metadata": {},
   "outputs": [],
   "source": [
    "# Pillow didn't work to convert 16bit *.jp2 into PDFs so . . . \n",
    "# We'll try converting them to JPG first with ImageMagick then maybe pipe\n",
    "# that output as input for Pillow to make a PDF as it's quick"
   ]
  },
  {
   "cell_type": "code",
   "execution_count": 3,
   "metadata": {},
   "outputs": [
    {
     "name": "stdout",
     "output_type": "stream",
     "text": [
      "5 directories to process into PDFs\n"
     ]
    }
   ],
   "source": [
    "directory_of_directories_to_convert_to_PDF_path = Path('/Users/dlisla/Pictures/athletics-programs/Output/toJpeg')\n",
    "\n",
    "convert_to_PDF_directory_paths_list = sorted([x for x in directory_of_directories_to_convert_to_PDF_path.iterdir() if x.is_dir()])\n",
    "\n",
    "number_of_directories = len(convert_to_PDF_directory_paths_list)\n",
    "print(f'{number_of_directories} directories to process into PDFs')"
   ]
  },
  {
   "cell_type": "code",
   "execution_count": 4,
   "metadata": {},
   "outputs": [
    {
     "data": {
      "application/vnd.jupyter.widget-view+json": {
       "model_id": "6ed4006070fc4f428ddc8e88fe0ad6af",
       "version_major": 2,
       "version_minor": 0
      },
      "text/plain": [
       "VBox(children=(Label(value='Directories to convert to PDF'), IntProgress(value=0, max=5)))"
      ]
     },
     "metadata": {},
     "output_type": "display_data"
    },
    {
     "name": "stdout",
     "output_type": "stream",
     "text": [
      "Starting find convert in /Users/dlisla/Pictures/athletics-programs/Output/toJpeg/vols-track-and-field_1987-05\n",
      "Starting find convert in /Users/dlisla/Pictures/athletics-programs/Output/toJpeg/vols-track-and-field_1988\n",
      "Starting find convert in /Users/dlisla/Pictures/athletics-programs/Output/toJpeg/vols-track-and-field_1989\n",
      "Starting find convert in /Users/dlisla/Pictures/athletics-programs/Output/toJpeg/vols-track-and-field_1990\n",
      "Starting find convert in /Users/dlisla/Pictures/athletics-programs/Output/toJpeg/vols-track-and-field_1991\n",
      "Starting to validate convert in /Users/dlisla/Pictures/athletics-programs/Output/toJpeg/vols-track-and-field_1987-05\n",
      "vols-track-and-field_1987-05 has all jpgs\n",
      "\n",
      "Starting to validate convert in /Users/dlisla/Pictures/athletics-programs/Output/toJpeg/vols-track-and-field_1988\n",
      "vols-track-and-field_1988 has all jpgs\n",
      "\n",
      "Starting to validate convert in /Users/dlisla/Pictures/athletics-programs/Output/toJpeg/vols-track-and-field_1989\n",
      "vols-track-and-field_1989 has all jpgs\n",
      "\n",
      "Starting to validate convert in /Users/dlisla/Pictures/athletics-programs/Output/toJpeg/vols-track-and-field_1990\n",
      "vols-track-and-field_1990 has all jpgs\n",
      "\n",
      "Starting to validate convert in /Users/dlisla/Pictures/athletics-programs/Output/toJpeg/vols-track-and-field_1991\n",
      "vols-track-and-field_1991 has all jpgs\n",
      "\n"
     ]
    }
   ],
   "source": [
    "# batch process\n",
    "\n",
    "# progress bar\n",
    "progress_label = Label('Directories to convert to PDF')\n",
    "progress_bar = IntProgress(min=0, max=number_of_directories)\n",
    "progress_widget = VBox([progress_label, progress_bar])\n",
    "display(progress_widget)\n",
    "\n",
    "\n",
    "for index, directory_path in enumerate(convert_to_PDF_directory_paths_list, start=1):\n",
    "    \n",
    "    label = f'Processing {directory_path.name} . . . '\n",
    "    progress_label.value = label\n",
    "    \n",
    "    images_list = []\n",
    "    print(f'Starting find convert in {directory_path}')\n",
    "    # find and convert everything with imagemagick to jpeg\n",
    "    !find {str(directory_path)} -name \"*.jp2\" -print0 | xargs -0 -I [] -n 1 -P 16 magick \"[]\" -strip -resize 2500x2500 -quality 60 -density 72x72 -units pixelsperinch \"[]\".jpg\n",
    "    progress_bar.value = index\n",
    "\n",
    "# run the validation as a 2nd pass so there aren't race issues\n",
    "for index, directory_path in enumerate(convert_to_PDF_directory_paths_list, start=1):\n",
    "    \n",
    "    label = f'Verifying {directory_path.name} . . . '\n",
    "    progress_label.value = label\n",
    "    error_list = []\n",
    "    images_list = []\n",
    "    print(f'Starting to validate convert in {directory_path}')\n",
    "    image_paths_list = sorted(directory_path.glob('*.jp2'))\n",
    "    for image_path in image_paths_list:\n",
    "        jp2_jpg_name = f'{image_path.name}.jpg'\n",
    "        jp2_jpg_path = directory_path.joinpath(jp2_jpg_name)\n",
    "        # remove *.jp2.jpg because it bugs me\n",
    "        jpg_name = f'{image_path.stem}.jpg'\n",
    "        jpg_path = directory_path.joinpath(jpg_name)\n",
    "        jp2_jpg_path.rename(jpg_path)\n",
    "        \n",
    "        # test if jpg_path is a file or not\n",
    "        if jpg_path.is_file():  # delete *.jp2\n",
    "            image_path.unlink()\n",
    "        else:  # add the image to our error list\n",
    "            error_list.append(jpg_path)\n",
    "    if error_list:\n",
    "        print('*************************************************** ERRORS:')\n",
    "        print(f'{error_list}\\n')\n",
    "    else:\n",
    "        print(f'{directory_path.name} has all jpgs\\n')\n",
    "    progress_bar.value = index"
   ]
  },
  {
   "cell_type": "code",
   "execution_count": 46,
   "metadata": {},
   "outputs": [
    {
     "name": "stdout",
     "output_type": "stream",
     "text": [
      "Starting to validate convert in /Users/dlisla/Pictures/athletics-programs/Output/vols-basketball_batch2/vols-basketball_1988\n",
      "vols-basketball_1988 has all jpgs\n",
      "\n",
      "Starting to validate convert in /Users/dlisla/Pictures/athletics-programs/Output/vols-basketball_batch2/vols-basketball_1989\n",
      "vols-basketball_1989 has all jpgs\n",
      "\n",
      "Starting to validate convert in /Users/dlisla/Pictures/athletics-programs/Output/vols-basketball_batch2/vols-basketball_1990\n",
      "vols-basketball_1990 has all jpgs\n",
      "\n",
      "Starting to validate convert in /Users/dlisla/Pictures/athletics-programs/Output/vols-basketball_batch2/vols-basketball_1991\n",
      "vols-basketball_1991 has all jpgs\n",
      "\n",
      "Starting to validate convert in /Users/dlisla/Pictures/athletics-programs/Output/vols-basketball_batch2/vols-basketball_1992\n",
      "vols-basketball_1992 has all jpgs\n",
      "\n",
      "Starting to validate convert in /Users/dlisla/Pictures/athletics-programs/Output/vols-basketball_batch2/vols-basketball_1993\n",
      "vols-basketball_1993 has all jpgs\n",
      "\n",
      "Starting to validate convert in /Users/dlisla/Pictures/athletics-programs/Output/vols-basketball_batch2/vols-basketball_1997-outlook\n",
      "vols-basketball_1997-outlook has all jpgs\n",
      "\n",
      "Starting to validate convert in /Users/dlisla/Pictures/athletics-programs/Output/vols-basketball_batch2/vols-basketball_1998-outlook\n",
      "vols-basketball_1998-outlook has all jpgs\n",
      "\n",
      "Starting to validate convert in /Users/dlisla/Pictures/athletics-programs/Output/vols-basketball_batch2/vols-basketball_1998-post-season\n",
      "vols-basketball_1998-post-season has all jpgs\n",
      "\n",
      "Starting to validate convert in /Users/dlisla/Pictures/athletics-programs/Output/vols-basketball_batch2/vols-basketball_1999-post-season\n",
      "vols-basketball_1999-post-season has all jpgs\n",
      "\n",
      "Starting to validate convert in /Users/dlisla/Pictures/athletics-programs/Output/vols-basketball_batch2/vols-basketball_2000-post-season\n",
      "vols-basketball_2000-post-season has all jpgs\n",
      "\n",
      "Starting to validate convert in /Users/dlisla/Pictures/athletics-programs/Output/vols-basketball_batch2/vols-basketball_2000-pre-season\n",
      "vols-basketball_2000-pre-season has all jpgs\n",
      "\n",
      "Starting to validate convert in /Users/dlisla/Pictures/athletics-programs/Output/vols-basketball_batch2/vols-basketball_2001-post-season\n",
      "vols-basketball_2001-post-season has all jpgs\n",
      "\n",
      "Starting to validate convert in /Users/dlisla/Pictures/athletics-programs/Output/vols-basketball_batch2/vols-basketball_2001-pre-season\n",
      "vols-basketball_2001-pre-season has all jpgs\n",
      "\n",
      "Starting to validate convert in /Users/dlisla/Pictures/athletics-programs/Output/vols-basketball_batch2/vols-basketball_2002-pre-season\n",
      "vols-basketball_2002-pre-season has all jpgs\n",
      "\n",
      "Starting to validate convert in /Users/dlisla/Pictures/athletics-programs/Output/vols-basketball_batch2/vols-basketball_2003-pre-season\n",
      "vols-basketball_2003-pre-season has all jpgs\n",
      "\n",
      "Starting to validate convert in /Users/dlisla/Pictures/athletics-programs/Output/vols-basketball_batch2/vols-basketball_2004-preview\n",
      "vols-basketball_2004-preview has all jpgs\n",
      "\n",
      "Starting to validate convert in /Users/dlisla/Pictures/athletics-programs/Output/vols-basketball_batch2/vols-basketball_2004-yearbook\n",
      "vols-basketball_2004-yearbook has all jpgs\n",
      "\n",
      "Starting to validate convert in /Users/dlisla/Pictures/athletics-programs/Output/vols-basketball_batch2/vols-basketball_2005-yearbook\n",
      "vols-basketball_2005-yearbook has all jpgs\n",
      "\n",
      "Starting to validate convert in /Users/dlisla/Pictures/athletics-programs/Output/vols-basketball_batch2/vols-basketball_2006-post-season\n",
      "vols-basketball_2006-post-season has all jpgs\n",
      "\n",
      "Starting to validate convert in /Users/dlisla/Pictures/athletics-programs/Output/vols-basketball_batch2/vols-basketball_2007-post-season\n",
      "vols-basketball_2007-post-season has all jpgs\n",
      "\n",
      "Starting to validate convert in /Users/dlisla/Pictures/athletics-programs/Output/vols-basketball_batch2/vols-basketball_2008-post-season\n",
      "vols-basketball_2008-post-season has all jpgs\n",
      "\n",
      "Starting to validate convert in /Users/dlisla/Pictures/athletics-programs/Output/vols-basketball_batch2/vols-basketball_2010-post-season\n",
      "vols-basketball_2010-post-season has all jpgs\n",
      "\n"
     ]
    }
   ],
   "source": [
    "# run the validation as a 2nd pass so there aren't race issues\n",
    "for index, directory_path in enumerate(convert_to_PDF_directory_paths_list, start=1):\n",
    "    \n",
    "    label = f'Verifying {directory_path.name} . . . '\n",
    "    progress_label.value = label\n",
    "    error_list = []\n",
    "    print(f'Starting to validate convert in {directory_path}')\n",
    "    image_paths_list = sorted(directory_path.glob('*.jp2'))\n",
    "    for image_path in image_paths_list:\n",
    "        jpg_name = f'{image_path.name}.jpg'\n",
    "        jpg_path = directory_path.joinpath(jpg_name)\n",
    "        if not jpg_path.is_file():\n",
    "            error_list.append(jpg_path)\n",
    "    if error_list:\n",
    "        print('*************************************************** ERRORS:')\n",
    "        print(f'{error_list}\\n')\n",
    "    else:\n",
    "        print(f'{directory_path.name} has all jpgs\\n')\n",
    "    progress_bar.value = index"
   ]
  },
  {
   "cell_type": "code",
   "execution_count": 45,
   "metadata": {},
   "outputs": [
    {
     "name": "stdout",
     "output_type": "stream",
     "text": [
      "['find', '.', '-name', '\"*.jp2\"', '-print0', '|', 'xargs', '-0', '-I', '{}', '-n', '1', '-P', '16', 'magick', '\"{}\"', '-strip', '-resize', '4000x4000', '-quality', '60', '-density', '72x72', '-units', 'pixelsperinch', '\"{}\".jpg']\n"
     ]
    }
   ],
   "source": [
    "s = 'find . -name \"*.jp2\" -print0 | xargs -0 -I {} -n 1 -P 16 magick \"{}\" -strip -resize 4000x4000 -quality 60 -density 72x72 -units pixelsperinch \"{}\".jpg'\n",
    "s_list = s.split(' ')\n",
    "print(s_list)"
   ]
  },
  {
   "cell_type": "code",
   "execution_count": 32,
   "metadata": {},
   "outputs": [
    {
     "data": {
      "text/plain": [
       "False"
      ]
     },
     "execution_count": 32,
     "metadata": {},
     "output_type": "execute_result"
    }
   ],
   "source": [
    "test_path = Path('/Users/dlisla/Pictures/athletics-programs/Output/toJhove/vols-baseball_1986/vols-baseball_1986_001.jpg')\n",
    "test_path.exists()"
   ]
  },
  {
   "cell_type": "code",
   "execution_count": null,
   "metadata": {},
   "outputs": [],
   "source": []
  }
 ],
 "metadata": {
  "kernelspec": {
   "display_name": "Python 3",
   "language": "python",
   "name": "python3"
  },
  "language_info": {
   "codemirror_mode": {
    "name": "ipython",
    "version": 3
   },
   "file_extension": ".py",
   "mimetype": "text/x-python",
   "name": "python",
   "nbconvert_exporter": "python",
   "pygments_lexer": "ipython3",
   "version": "3.7.7"
  }
 },
 "nbformat": 4,
 "nbformat_minor": 4
}
