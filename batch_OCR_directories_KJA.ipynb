{
 "cells": [
  {
   "cell_type": "code",
   "execution_count": 18,
   "metadata": {},
   "outputs": [],
   "source": [
    "# imports\n",
    "import shutil\n",
    "from pathlib import Path\n",
    "\n",
    "from ipywidgets import IntProgress, Label, VBox\n",
    "from IPython.display import display"
   ]
  },
  {
   "cell_type": "code",
   "execution_count": 19,
   "metadata": {},
   "outputs": [
    {
     "name": "stdout",
     "output_type": "stream",
     "text": [
      "10 directories to process\n"
     ]
    }
   ],
   "source": [
    "# set network path and get list of directories to process\n",
    "data_directory = Path('/Users/jeremy/Pictures/KJA/Output/1963')\n",
    "input_directory = data_directory.joinpath('1.toOCR')\n",
    "output_directory = data_directory.joinpath('2.OCRed')\n",
    "\n",
    "directories_to_convert_to_pdf_paths_list = sorted([x for x in input_directory.iterdir() if x.is_dir()])\n",
    "\n",
    "print(f'{len(directories_to_convert_to_pdf_paths_list)} directories to process')"
   ]
  },
  {
   "cell_type": "code",
   "execution_count": 20,
   "metadata": {
    "code_folding": [
     2,
     24,
     41,
     78
    ]
   },
   "outputs": [],
   "source": [
    "# functions\n",
    "\n",
    "def get_tif_paths_list(directory_path, scantailor=False):\n",
    "    \n",
    "    # if directory_path not a Path-like object then make it one\n",
    "    if not isinstance(directory_path, Path):\n",
    "        directory_path = Path(directory_path)\n",
    "        \n",
    "    # add 'out' path to directory if processed with ScanTailor\n",
    "    if scantailor:\n",
    "        directory_path = Path(directory_path).joinpath('out')\n",
    "    \n",
    "    # get paths to *.tif to process\n",
    "    tif_paths_list = sorted(directory_path.glob('*.tif'))\n",
    "    \n",
    "    if len(tif_paths_list) == 0:\n",
    "        tif_paths_list = sorted(directory_path.glob('*.tiff'))\n",
    "    \n",
    "    # only keep *.tif that DO NOT start with '.' to exclude macOS index files\n",
    "    tif_paths_list = [x for x in tif_paths_list if not str(x.name).startswith('.')]\n",
    "    \n",
    "    return tif_paths_list\n",
    "\n",
    "\n",
    "def create_temporary_pdf_directory(directory_path):\n",
    "    \n",
    "    # if directory_path not a Path-like object then make it one\n",
    "    if not isinstance(directory_path, Path):\n",
    "        directory_path = Path(directory_path)\n",
    "        \n",
    "    temporary_pdf_directory_path = Path.home().joinpath(f'Desktop/_temporary_pdfs/_temp_{directory_path.name}')\n",
    "    \n",
    "    try:  # creating the temporary directory\n",
    "        temporary_pdf_directory_path.mkdir(parents=True)\n",
    "    except FileExistsError:  # delete the directory & all contents then create it\n",
    "        shutil.rmtree(temporary_pdf_directory_path)\n",
    "        temporary_pdf_directory_path.mkdir()\n",
    "        \n",
    "    return temporary_pdf_directory_path\n",
    "\n",
    "\n",
    "def batch_ocr_tifs_into_pdfs(tif_paths_list, temporary_pdf_directory_path):\n",
    "    \n",
    "    number_of_tifs = len(tif_paths_list)\n",
    "    number_of_pdfs = 0\n",
    "    \n",
    "    # progress bar\n",
    "    progress_label = Label('OCR *.tif')\n",
    "    progress_bar = IntProgress(min=0, max=number_of_tifs)\n",
    "    progress_widget = VBox([progress_label, progress_bar])\n",
    "    display(progress_widget)\n",
    "    \n",
    "    for tif_path in tif_paths_list:\n",
    "        \n",
    "        label = f'OCRing {tif_path.name}'\n",
    "        progress_label.value = label\n",
    "\n",
    "        temporary_pdf_output_path = temporary_pdf_directory_path.joinpath(tif_path.stem)\n",
    "\n",
    "        # ocr *.tif with tesseract\n",
    "        # NOTE: output SHOULD NOT have extension on end!\n",
    "        !tesseract \"{str(tif_path)}\" \"{str(temporary_pdf_output_path)}\" pdf 2>/dev/null\n",
    "\n",
    "        # Add the suffix .pdf that tesseract didn't want\n",
    "        temporary_pdf_output_path = temporary_pdf_directory_path.joinpath(f'{tif_path.stem}.pdf') \n",
    "\n",
    "        if temporary_pdf_output_path.is_file():\n",
    "            number_of_pdfs += 1\n",
    "            progress_bar.value = number_of_pdfs\n",
    "        \n",
    "    if number_of_pdfs != number_of_tifs:\n",
    "        print(f'ERROR - ERROR - ERROR')\n",
    "        print(f'# of *.tif: {number_of_tifs}')\n",
    "        print(f'# of PDFs: {number_of_pdfs}')\n",
    "    else:\n",
    "        print(f'{number_of_pdfs} PDFs created and saved in {temporary_pdf_directory_path}')\n",
    "    \n",
    "    \n",
    "def concatenate_pdfs(temporary_pdf_directory_path):\n",
    "\n",
    "    # strip '_temporary_pdfs_' from beginning of directory path to get combined PDF name\n",
    "    combined_pdf_name = f\"{str(temporary_pdf_directory_path).split('_temp_')[1]}.pdf\"\n",
    "\n",
    "    combined_pdf_output_path = temporary_pdf_directory_path.joinpath(combined_pdf_name)\n",
    "\n",
    "    # concatenate with pdftk\n",
    "    !pdftk \"{str(temporary_pdf_directory_path)}\"/*.pdf cat output \"{str(combined_pdf_output_path)}\"\n",
    "\n",
    "    if combined_pdf_output_path.is_file() and combined_pdf_output_path.stat().st_size > 0:\n",
    "        print(f'{combined_pdf_output_path} created with size {round((combined_pdf_output_path.stat().st_size/1024/1024/1024), 2)} GB')\n",
    "\n",
    "    return combined_pdf_output_path"
   ]
  },
  {
   "cell_type": "code",
   "execution_count": 21,
   "metadata": {
    "code_folding": [],
    "scrolled": false
   },
   "outputs": [
    {
     "name": "stdout",
     "output_type": "stream",
     "text": [
      "4 *.tif to process in /Users/jeremy/Pictures/KJA/Output/1963/1.toOCR/KJA_RG-D_1a-21_1963-01_v20-n05\n"
     ]
    },
    {
     "data": {
      "application/vnd.jupyter.widget-view+json": {
       "model_id": "4cbb2d0bfead4d65b904adda97528848",
       "version_major": 2,
       "version_minor": 0
      },
      "text/plain": [
       "VBox(children=(Label(value='OCR *.tif'), IntProgress(value=0, max=4)))"
      ]
     },
     "metadata": {},
     "output_type": "display_data"
    },
    {
     "name": "stdout",
     "output_type": "stream",
     "text": [
      "4 PDFs created and saved in /Users/jeremy/Desktop/_temporary_pdfs/_temp_KJA_RG-D_1a-21_1963-01_v20-n05\n",
      "/Users/jeremy/Desktop/_temporary_pdfs/_temp_KJA_RG-D_1a-21_1963-01_v20-n05/KJA_RG-D_1a-21_1963-01_v20-n05.pdf created with size 0.04 GB\n",
      "\n",
      "*****\n",
      "KJA_RG-D_1a-21_1963-01_v20-n05 is now /Users/jeremy/Pictures/KJA/Output/1963/2.OCRed/KJA_RG-D_1a-21_1963-01_v20-n05\n",
      "*****\n",
      "\n",
      "4 *.tif to process in /Users/jeremy/Pictures/KJA/Output/1963/1.toOCR/KJA_RG-D_1a-21_1963-02_v20-n06\n"
     ]
    },
    {
     "data": {
      "application/vnd.jupyter.widget-view+json": {
       "model_id": "d80f3ad8b3344b7a8b83869b747e3def",
       "version_major": 2,
       "version_minor": 0
      },
      "text/plain": [
       "VBox(children=(Label(value='OCR *.tif'), IntProgress(value=0, max=4)))"
      ]
     },
     "metadata": {},
     "output_type": "display_data"
    },
    {
     "name": "stdout",
     "output_type": "stream",
     "text": [
      "4 PDFs created and saved in /Users/jeremy/Desktop/_temporary_pdfs/_temp_KJA_RG-D_1a-21_1963-02_v20-n06\n",
      "/Users/jeremy/Desktop/_temporary_pdfs/_temp_KJA_RG-D_1a-21_1963-02_v20-n06/KJA_RG-D_1a-21_1963-02_v20-n06.pdf created with size 0.04 GB\n",
      "\n",
      "*****\n",
      "KJA_RG-D_1a-21_1963-02_v20-n06 is now /Users/jeremy/Pictures/KJA/Output/1963/2.OCRed/KJA_RG-D_1a-21_1963-02_v20-n06\n",
      "*****\n",
      "\n",
      "4 *.tif to process in /Users/jeremy/Pictures/KJA/Output/1963/1.toOCR/KJA_RG-D_1a-21_1963-03_v20-n07\n"
     ]
    },
    {
     "data": {
      "application/vnd.jupyter.widget-view+json": {
       "model_id": "7deb00925f94416b8a029d7fef25ff07",
       "version_major": 2,
       "version_minor": 0
      },
      "text/plain": [
       "VBox(children=(Label(value='OCR *.tif'), IntProgress(value=0, max=4)))"
      ]
     },
     "metadata": {},
     "output_type": "display_data"
    },
    {
     "name": "stdout",
     "output_type": "stream",
     "text": [
      "4 PDFs created and saved in /Users/jeremy/Desktop/_temporary_pdfs/_temp_KJA_RG-D_1a-21_1963-03_v20-n07\n",
      "/Users/jeremy/Desktop/_temporary_pdfs/_temp_KJA_RG-D_1a-21_1963-03_v20-n07/KJA_RG-D_1a-21_1963-03_v20-n07.pdf created with size 0.04 GB\n",
      "\n",
      "*****\n",
      "KJA_RG-D_1a-21_1963-03_v20-n07 is now /Users/jeremy/Pictures/KJA/Output/1963/2.OCRed/KJA_RG-D_1a-21_1963-03_v20-n07\n",
      "*****\n",
      "\n",
      "4 *.tif to process in /Users/jeremy/Pictures/KJA/Output/1963/1.toOCR/KJA_RG-D_1a-21_1963-04_v20-n08\n"
     ]
    },
    {
     "data": {
      "application/vnd.jupyter.widget-view+json": {
       "model_id": "044e0b18bd974a47bc9c3f6fc60b5667",
       "version_major": 2,
       "version_minor": 0
      },
      "text/plain": [
       "VBox(children=(Label(value='OCR *.tif'), IntProgress(value=0, max=4)))"
      ]
     },
     "metadata": {},
     "output_type": "display_data"
    },
    {
     "name": "stdout",
     "output_type": "stream",
     "text": [
      "4 PDFs created and saved in /Users/jeremy/Desktop/_temporary_pdfs/_temp_KJA_RG-D_1a-21_1963-04_v20-n08\n",
      "/Users/jeremy/Desktop/_temporary_pdfs/_temp_KJA_RG-D_1a-21_1963-04_v20-n08/KJA_RG-D_1a-21_1963-04_v20-n08.pdf created with size 0.04 GB\n",
      "\n",
      "*****\n",
      "KJA_RG-D_1a-21_1963-04_v20-n08 is now /Users/jeremy/Pictures/KJA/Output/1963/2.OCRed/KJA_RG-D_1a-21_1963-04_v20-n08\n",
      "*****\n",
      "\n",
      "4 *.tif to process in /Users/jeremy/Pictures/KJA/Output/1963/1.toOCR/KJA_RG-D_1a-21_1963-05_v20-n09\n"
     ]
    },
    {
     "data": {
      "application/vnd.jupyter.widget-view+json": {
       "model_id": "f1cf11f378264d289381d223b2a162f2",
       "version_major": 2,
       "version_minor": 0
      },
      "text/plain": [
       "VBox(children=(Label(value='OCR *.tif'), IntProgress(value=0, max=4)))"
      ]
     },
     "metadata": {},
     "output_type": "display_data"
    },
    {
     "name": "stdout",
     "output_type": "stream",
     "text": [
      "4 PDFs created and saved in /Users/jeremy/Desktop/_temporary_pdfs/_temp_KJA_RG-D_1a-21_1963-05_v20-n09\n",
      "/Users/jeremy/Desktop/_temporary_pdfs/_temp_KJA_RG-D_1a-21_1963-05_v20-n09/KJA_RG-D_1a-21_1963-05_v20-n09.pdf created with size 0.04 GB\n",
      "\n",
      "*****\n",
      "KJA_RG-D_1a-21_1963-05_v20-n09 is now /Users/jeremy/Pictures/KJA/Output/1963/2.OCRed/KJA_RG-D_1a-21_1963-05_v20-n09\n",
      "*****\n",
      "\n",
      "4 *.tif to process in /Users/jeremy/Pictures/KJA/Output/1963/1.toOCR/KJA_RG-D_1a-21_1963-06_v20-n10\n"
     ]
    },
    {
     "data": {
      "application/vnd.jupyter.widget-view+json": {
       "model_id": "a5cdd8296c554e7abd3942327a9e2c0a",
       "version_major": 2,
       "version_minor": 0
      },
      "text/plain": [
       "VBox(children=(Label(value='OCR *.tif'), IntProgress(value=0, max=4)))"
      ]
     },
     "metadata": {},
     "output_type": "display_data"
    },
    {
     "name": "stdout",
     "output_type": "stream",
     "text": [
      "4 PDFs created and saved in /Users/jeremy/Desktop/_temporary_pdfs/_temp_KJA_RG-D_1a-21_1963-06_v20-n10\n",
      "/Users/jeremy/Desktop/_temporary_pdfs/_temp_KJA_RG-D_1a-21_1963-06_v20-n10/KJA_RG-D_1a-21_1963-06_v20-n10.pdf created with size 0.04 GB\n",
      "\n",
      "*****\n",
      "KJA_RG-D_1a-21_1963-06_v20-n10 is now /Users/jeremy/Pictures/KJA/Output/1963/2.OCRed/KJA_RG-D_1a-21_1963-06_v20-n10\n",
      "*****\n",
      "\n",
      "16 *.tif to process in /Users/jeremy/Pictures/KJA/Output/1963/1.toOCR/KJA_RG-D_1a-21_1963-09_v21-n01\n"
     ]
    },
    {
     "data": {
      "application/vnd.jupyter.widget-view+json": {
       "model_id": "ed2bcca299874a75a27bf4692f444297",
       "version_major": 2,
       "version_minor": 0
      },
      "text/plain": [
       "VBox(children=(Label(value='OCR *.tif'), IntProgress(value=0, max=16)))"
      ]
     },
     "metadata": {},
     "output_type": "display_data"
    },
    {
     "name": "stdout",
     "output_type": "stream",
     "text": [
      "16 PDFs created and saved in /Users/jeremy/Desktop/_temporary_pdfs/_temp_KJA_RG-D_1a-21_1963-09_v21-n01\n",
      "/Users/jeremy/Desktop/_temporary_pdfs/_temp_KJA_RG-D_1a-21_1963-09_v21-n01/KJA_RG-D_1a-21_1963-09_v21-n01.pdf created with size 0.15 GB\n",
      "\n",
      "*****\n",
      "KJA_RG-D_1a-21_1963-09_v21-n01 is now /Users/jeremy/Pictures/KJA/Output/1963/2.OCRed/KJA_RG-D_1a-21_1963-09_v21-n01\n",
      "*****\n",
      "\n",
      "4 *.tif to process in /Users/jeremy/Pictures/KJA/Output/1963/1.toOCR/KJA_RG-D_1a-21_1963-10_v21-n02\n"
     ]
    },
    {
     "data": {
      "application/vnd.jupyter.widget-view+json": {
       "model_id": "dfbebae571cd485d868ea1faf34cf112",
       "version_major": 2,
       "version_minor": 0
      },
      "text/plain": [
       "VBox(children=(Label(value='OCR *.tif'), IntProgress(value=0, max=4)))"
      ]
     },
     "metadata": {},
     "output_type": "display_data"
    },
    {
     "name": "stdout",
     "output_type": "stream",
     "text": [
      "4 PDFs created and saved in /Users/jeremy/Desktop/_temporary_pdfs/_temp_KJA_RG-D_1a-21_1963-10_v21-n02\n",
      "/Users/jeremy/Desktop/_temporary_pdfs/_temp_KJA_RG-D_1a-21_1963-10_v21-n02/KJA_RG-D_1a-21_1963-10_v21-n02.pdf created with size 0.04 GB\n",
      "\n",
      "*****\n",
      "KJA_RG-D_1a-21_1963-10_v21-n02 is now /Users/jeremy/Pictures/KJA/Output/1963/2.OCRed/KJA_RG-D_1a-21_1963-10_v21-n02\n",
      "*****\n",
      "\n",
      "4 *.tif to process in /Users/jeremy/Pictures/KJA/Output/1963/1.toOCR/KJA_RG-D_1a-21_1963-11_v21-n03\n"
     ]
    },
    {
     "data": {
      "application/vnd.jupyter.widget-view+json": {
       "model_id": "a15e6d0475bb46a2b6ceb238828f388e",
       "version_major": 2,
       "version_minor": 0
      },
      "text/plain": [
       "VBox(children=(Label(value='OCR *.tif'), IntProgress(value=0, max=4)))"
      ]
     },
     "metadata": {},
     "output_type": "display_data"
    },
    {
     "name": "stdout",
     "output_type": "stream",
     "text": [
      "4 PDFs created and saved in /Users/jeremy/Desktop/_temporary_pdfs/_temp_KJA_RG-D_1a-21_1963-11_v21-n03\n",
      "/Users/jeremy/Desktop/_temporary_pdfs/_temp_KJA_RG-D_1a-21_1963-11_v21-n03/KJA_RG-D_1a-21_1963-11_v21-n03.pdf created with size 0.04 GB\n",
      "\n",
      "*****\n",
      "KJA_RG-D_1a-21_1963-11_v21-n03 is now /Users/jeremy/Pictures/KJA/Output/1963/2.OCRed/KJA_RG-D_1a-21_1963-11_v21-n03\n",
      "*****\n",
      "\n",
      "4 *.tif to process in /Users/jeremy/Pictures/KJA/Output/1963/1.toOCR/KJA_RG-D_1a-21_1963-12_v21-n04\n"
     ]
    },
    {
     "data": {
      "application/vnd.jupyter.widget-view+json": {
       "model_id": "23df9fa9c3744b3a98117f522ed44bb0",
       "version_major": 2,
       "version_minor": 0
      },
      "text/plain": [
       "VBox(children=(Label(value='OCR *.tif'), IntProgress(value=0, max=4)))"
      ]
     },
     "metadata": {},
     "output_type": "display_data"
    },
    {
     "name": "stdout",
     "output_type": "stream",
     "text": [
      "4 PDFs created and saved in /Users/jeremy/Desktop/_temporary_pdfs/_temp_KJA_RG-D_1a-21_1963-12_v21-n04\n",
      "/Users/jeremy/Desktop/_temporary_pdfs/_temp_KJA_RG-D_1a-21_1963-12_v21-n04/KJA_RG-D_1a-21_1963-12_v21-n04.pdf created with size 0.04 GB\n",
      "\n",
      "*****\n",
      "KJA_RG-D_1a-21_1963-12_v21-n04 is now /Users/jeremy/Pictures/KJA/Output/1963/2.OCRed/KJA_RG-D_1a-21_1963-12_v21-n04\n",
      "*****\n",
      "\n"
     ]
    }
   ],
   "source": [
    "for dir_path in directories_to_convert_to_pdf_paths_list:\n",
    "    \n",
    "    # get list of *.tif to process\n",
    "    tif_paths_list = get_tif_paths_list(dir_path)\n",
    "    \n",
    "    number_of_tifs = len(tif_paths_list)\n",
    "    print(f'{number_of_tifs} *.tif to process in {dir_path}')\n",
    "    \n",
    "    # create temp directory\n",
    "    temp_pdf_dir_path = create_temporary_pdf_directory(dir_path)\n",
    "    \n",
    "    # OCR tifs into PDFs with progress bar\n",
    "    batch_ocr_tifs_into_pdfs(tif_paths_list, temp_pdf_dir_path)\n",
    "    \n",
    "    # concatenate PDFs into single file\n",
    "    combined_pdf_path = concatenate_pdfs(temp_pdf_dir_path)\n",
    "    \n",
    "    # copy combined PDF to copy directory\n",
    "    output_pdf_path = output_directory.joinpath(combined_pdf_path.name)\n",
    "    shutil.copy(combined_pdf_path, output_pdf_path)\n",
    "    \n",
    "    if output_pdf_path.is_file():  # move processed dir_path into output_directory\n",
    "        renamed_dir_path = output_directory.joinpath(dir_path.name)\n",
    "        dir_path.rename(renamed_dir_path)\n",
    "\n",
    "    print('')\n",
    "    print('*****')    \n",
    "    print(f'{dir_path.name} is now {renamed_dir_path}')\n",
    "    print('*****')\n",
    "    print('')"
   ]
  },
  {
   "cell_type": "raw",
   "metadata": {
    "code_folding": [
     0
    ]
   },
   "source": [
    "# open output_directory_path for visual Quality Assurance\n",
    "!open {str(output_directory)}"
   ]
  },
  {
   "cell_type": "code",
   "execution_count": 4,
   "metadata": {},
   "outputs": [
    {
     "name": "stdout",
     "output_type": "stream",
     "text": [
      "121 _temporary_pdf_* directories deleted\n"
     ]
    }
   ],
   "source": [
    "# delete all '_temporary_pdfs_*' directories on the desktop\n",
    "all_temp_dir_paths = sorted(Path('/Users/dlisla/Desktop/').glob('_temporary_pdfs_*'))\n",
    "number_of_dir_paths = len(all_temp_dir_paths)\n",
    "for temp_dir_path in all_temp_dir_paths:\n",
    "    shutil.rmtree(temp_dir_path)\n",
    "\n",
    "all_temp_dir_paths = sorted(Path('/Users/dlisla/Desktop/').glob('_temporary_pdfs_*'))\n",
    "number_of_deleted_dir_paths = number_of_dir_paths - len(all_temp_dir_paths)\n",
    "\n",
    "print(f'{number_of_deleted_dir_paths} _temporary_pdf_* directories deleted')"
   ]
  },
  {
   "cell_type": "code",
   "execution_count": null,
   "metadata": {},
   "outputs": [],
   "source": []
  }
 ],
 "metadata": {
  "kernelspec": {
   "display_name": "Python 3",
   "language": "python",
   "name": "python3"
  },
  "language_info": {
   "codemirror_mode": {
    "name": "ipython",
    "version": 3
   },
   "file_extension": ".py",
   "mimetype": "text/x-python",
   "name": "python",
   "nbconvert_exporter": "python",
   "pygments_lexer": "ipython3",
   "version": "3.7.3"
  },
  "toc": {
   "base_numbering": 1,
   "nav_menu": {},
   "number_sections": true,
   "sideBar": true,
   "skip_h1_title": false,
   "title_cell": "Table of Contents",
   "title_sidebar": "Contents",
   "toc_cell": false,
   "toc_position": {},
   "toc_section_display": true,
   "toc_window_display": false
  }
 },
 "nbformat": 4,
 "nbformat_minor": 2
}
