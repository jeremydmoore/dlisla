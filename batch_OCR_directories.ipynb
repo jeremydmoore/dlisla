{
 "cells": [
  {
   "cell_type": "code",
   "execution_count": 1,
   "metadata": {},
   "outputs": [],
   "source": [
    "# imports\n",
    "import shutil\n",
    "from pathlib import Path\n",
    "\n",
    "from ipywidgets import IntProgress, Label, VBox\n",
    "from IPython.display import display"
   ]
  },
  {
   "cell_type": "code",
   "execution_count": 3,
   "metadata": {},
   "outputs": [
    {
     "name": "stdout",
     "output_type": "stream",
     "text": [
      "0 directories to process\n"
     ]
    }
   ],
   "source": [
    "# set network path and get list of directories to process\n",
    "data_directory = Path('/Volumes/fluffy/0_JeremysWorkingSpace/2019-10/board-of-regents_toOCR')\n",
    "input_directory = data_directory.joinpath('1.toOCR')\n",
    "output_directory = data_directory.joinpath('2.OCRed')\n",
    "\n",
    "directories_to_convert_to_pdf_paths_list = sorted([x for x in input_directory.iterdir() if x.is_dir()])\n",
    "\n",
    "print(f'{len(directories_to_convert_to_pdf_paths_list)} directories to process')"
   ]
  },
  {
   "cell_type": "code",
   "execution_count": 4,
   "metadata": {},
   "outputs": [],
   "source": [
    "!open {str(data_directory)}"
   ]
  },
  {
   "cell_type": "code",
   "execution_count": 6,
   "metadata": {
    "code_folding": [
     0
    ]
   },
   "outputs": [],
   "source": [
    "# functions\n",
    "\n",
    "def get_tif_paths_list(directory_path, scantailor=False):\n",
    "    \n",
    "    # if directory_path not a Path-like object then make it one\n",
    "    if not isinstance(directory_path, Path):\n",
    "        directory_path = Path(directory_path)\n",
    "        \n",
    "    # add 'out' path to directory if processed with ScanTailor\n",
    "    if scantailor:\n",
    "        directory_path = Path(directory_path).joinpath('out')\n",
    "    \n",
    "    # get paths to *.tif to process\n",
    "    tif_paths_list = sorted(directory_path.glob('*.tif'))\n",
    "    \n",
    "    if len(tif_paths_list) == 0:\n",
    "        tif_paths_list = sorted(directory_path.glob('*.tiff'))\n",
    "    \n",
    "    # only keep *.tif that DO NOT start with '.' to exclude macOS index files\n",
    "    tif_paths_list = [x for x in tif_paths_list if not str(x.name).startswith('.')]\n",
    "    \n",
    "    return tif_paths_list\n",
    "\n",
    "\n",
    "def create_temporary_pdf_directory(directory_path):\n",
    "    \n",
    "    # if directory_path not a Path-like object then make it one\n",
    "    if not isinstance(directory_path, Path):\n",
    "        directory_path = Path(directory_path)\n",
    "        \n",
    "    temporary_pdf_directory_path = Path.home().joinpath(f'Desktop/_temporary_pdfs_{directory_path.name}')\n",
    "    \n",
    "    try:  # creating the temporary directory\n",
    "        temporary_pdf_directory_path.mkdir()\n",
    "    except FileExistsError:  # delete the directory & all contents then create it\n",
    "        shutil.rmtree(temporary_pdf_directory_path)\n",
    "        temporary_pdf_directory_path.mkdir()\n",
    "        \n",
    "    return temporary_pdf_directory_path\n",
    "\n",
    "\n",
    "def batch_ocr_tifs_into_pdfs(tif_paths_list, temporary_pdf_directory_path):\n",
    "    \n",
    "    number_of_tifs = len(tif_paths_list)\n",
    "    number_of_pdfs = 0\n",
    "    \n",
    "    # progress bar\n",
    "    progress_label = Label('OCR *.tif')\n",
    "    progress_bar = IntProgress(min=0, max=number_of_tifs)\n",
    "    progress_widget = VBox([progress_label, progress_bar])\n",
    "    display(progress_widget)\n",
    "    \n",
    "    for tif_path in tif_paths_list:\n",
    "        \n",
    "        label = f'OCRing {tif_path.name}'\n",
    "        progress_label.value = label\n",
    "\n",
    "        temporary_pdf_output_path = temporary_pdf_directory_path.joinpath(tif_path.stem)\n",
    "\n",
    "        # ocr *.tif with tesseract\n",
    "        # NOTE: output SHOULD NOT have extension on end!\n",
    "        !tesseract \"{str(tif_path)}\" \"{str(temporary_pdf_output_path)}\" pdf 2>/dev/null\n",
    "\n",
    "        # Add the suffix .pdf that tesseract didn't want\n",
    "        temporary_pdf_output_path = temporary_pdf_directory_path.joinpath(f'{tif_path.stem}.pdf') \n",
    "\n",
    "        if temporary_pdf_output_path.is_file():\n",
    "            number_of_pdfs += 1\n",
    "            progress_bar.value = number_of_pdfs\n",
    "        \n",
    "    if number_of_pdfs != number_of_tifs:\n",
    "        print(f'ERROR - ERROR - ERROR')\n",
    "        print(f'# of *.tif: {number_of_tifs}')\n",
    "        print(f'# of PDFs: {number_of_pdfs}')\n",
    "    else:\n",
    "        print(f'{number_of_pdfs} PDFs created and saved in {temporary_pdf_directory_path}')\n",
    "    \n",
    "    \n",
    "def concatenate_pdfs(temporary_pdf_directory_path):\n",
    "\n",
    "    # strip '_temporary_pdfs_' from beginning of directory path to get combined PDF name\n",
    "    combined_pdf_name = f\"{str(temporary_pdf_directory_path).split('_temporary_pdfs_')[1]}.pdf\"\n",
    "\n",
    "    combined_pdf_output_path = temporary_pdf_directory_path.joinpath(combined_pdf_name)\n",
    "\n",
    "    # concatenate with pdftk\n",
    "    !pdftk \"{str(temporary_pdf_directory_path)}\"/*.pdf cat output \"{str(combined_pdf_output_path)}\"\n",
    "\n",
    "    if combined_pdf_output_path.is_file() and combined_pdf_output_path.stat().st_size > 0:\n",
    "        print(f'{combined_pdf_output_path} created with size {round((combined_pdf_output_path.stat().st_size/1024/1024/1024), 2)} GB')\n",
    "\n",
    "    return combined_pdf_output_path"
   ]
  },
  {
   "cell_type": "code",
   "execution_count": 9,
   "metadata": {
    "code_folding": [
     0
    ],
    "scrolled": false
   },
   "outputs": [
    {
     "name": "stdout",
     "output_type": "stream",
     "text": [
      "514 *.tif to process in /Volumes/fluffy/0_JeremysWorkingSpace/2019-10/board-of-regents_toOCR/1.toOCR/R_ BOT_1977-09-23_EX1-26\n"
     ]
    },
    {
     "data": {
      "application/vnd.jupyter.widget-view+json": {
       "model_id": "0be45654b8034f8d91e48a5a3443432f",
       "version_major": 2,
       "version_minor": 0
      },
      "text/plain": [
       "VBox(children=(Label(value='OCR *.tif'), IntProgress(value=0, max=514)))"
      ]
     },
     "metadata": {},
     "output_type": "display_data"
    },
    {
     "name": "stdout",
     "output_type": "stream",
     "text": [
      "514 PDFs created and saved in /Users/dlisla/Desktop/_temporary_pdfs_R_ BOT_1977-09-23_EX1-26\n",
      "/Users/dlisla/Desktop/_temporary_pdfs_R_ BOT_1977-09-23_EX1-26/R_ BOT_1977-09-23_EX1-26.pdf created with size 0.12 GB\n",
      "\n",
      "*****\n",
      "R_ BOT_1977-09-23_EX1-26 is now /Volumes/fluffy/0_JeremysWorkingSpace/2019-10/board-of-regents_toOCR/2.OCRed/R_ BOT_1977-09-23_EX1-26\n",
      "*****\n",
      "\n",
      "46 *.tif to process in /Volumes/fluffy/0_JeremysWorkingSpace/2019-10/board-of-regents_toOCR/1.toOCR/R_ BOT_1977-10-29_EX1-7\n"
     ]
    },
    {
     "data": {
      "application/vnd.jupyter.widget-view+json": {
       "model_id": "63d6addc808543e3bd92e4cbb6024629",
       "version_major": 2,
       "version_minor": 0
      },
      "text/plain": [
       "VBox(children=(Label(value='OCR *.tif'), IntProgress(value=0, max=46)))"
      ]
     },
     "metadata": {},
     "output_type": "display_data"
    },
    {
     "name": "stdout",
     "output_type": "stream",
     "text": [
      "46 PDFs created and saved in /Users/dlisla/Desktop/_temporary_pdfs_R_ BOT_1977-10-29_EX1-7\n",
      "/Users/dlisla/Desktop/_temporary_pdfs_R_ BOT_1977-10-29_EX1-7/R_ BOT_1977-10-29_EX1-7.pdf created with size 0.01 GB\n",
      "\n",
      "*****\n",
      "R_ BOT_1977-10-29_EX1-7 is now /Volumes/fluffy/0_JeremysWorkingSpace/2019-10/board-of-regents_toOCR/2.OCRed/R_ BOT_1977-10-29_EX1-7\n",
      "*****\n",
      "\n",
      "17 *.tif to process in /Volumes/fluffy/0_JeremysWorkingSpace/2019-10/board-of-regents_toOCR/1.toOCR/R_ BOT_1977-11-26_EX1\n"
     ]
    },
    {
     "data": {
      "application/vnd.jupyter.widget-view+json": {
       "model_id": "a1e689ccf6b64fd497101b024a38ed98",
       "version_major": 2,
       "version_minor": 0
      },
      "text/plain": [
       "VBox(children=(Label(value='OCR *.tif'), IntProgress(value=0, max=17)))"
      ]
     },
     "metadata": {},
     "output_type": "display_data"
    },
    {
     "name": "stdout",
     "output_type": "stream",
     "text": [
      "17 PDFs created and saved in /Users/dlisla/Desktop/_temporary_pdfs_R_ BOT_1977-11-26_EX1\n",
      "/Users/dlisla/Desktop/_temporary_pdfs_R_ BOT_1977-11-26_EX1/R_ BOT_1977-11-26_EX1.pdf created with size 0.0 GB\n",
      "\n",
      "*****\n",
      "R_ BOT_1977-11-26_EX1 is now /Volumes/fluffy/0_JeremysWorkingSpace/2019-10/board-of-regents_toOCR/2.OCRed/R_ BOT_1977-11-26_EX1\n",
      "*****\n",
      "\n",
      "833 *.tif to process in /Volumes/fluffy/0_JeremysWorkingSpace/2019-10/board-of-regents_toOCR/1.toOCR/R_ BOT_1978-02-24_EX1-38\n"
     ]
    },
    {
     "data": {
      "application/vnd.jupyter.widget-view+json": {
       "model_id": "451c23de90ce4de29f50206f27887261",
       "version_major": 2,
       "version_minor": 0
      },
      "text/plain": [
       "VBox(children=(Label(value='OCR *.tif'), IntProgress(value=0, max=833)))"
      ]
     },
     "metadata": {},
     "output_type": "display_data"
    },
    {
     "name": "stdout",
     "output_type": "stream",
     "text": [
      "833 PDFs created and saved in /Users/dlisla/Desktop/_temporary_pdfs_R_ BOT_1978-02-24_EX1-38\n",
      "/Users/dlisla/Desktop/_temporary_pdfs_R_ BOT_1978-02-24_EX1-38/R_ BOT_1978-02-24_EX1-38.pdf created with size 0.15 GB\n",
      "\n",
      "*****\n",
      "R_ BOT_1978-02-24_EX1-38 is now /Volumes/fluffy/0_JeremysWorkingSpace/2019-10/board-of-regents_toOCR/2.OCRed/R_ BOT_1978-02-24_EX1-38\n",
      "*****\n",
      "\n",
      "11 *.tif to process in /Volumes/fluffy/0_JeremysWorkingSpace/2019-10/board-of-regents_toOCR/1.toOCR/R_ BOT_1978-05-31_EX1-5\n"
     ]
    },
    {
     "data": {
      "application/vnd.jupyter.widget-view+json": {
       "model_id": "3a3e602033d1487d9eeab7bf0563cc70",
       "version_major": 2,
       "version_minor": 0
      },
      "text/plain": [
       "VBox(children=(Label(value='OCR *.tif'), IntProgress(value=0, max=11)))"
      ]
     },
     "metadata": {},
     "output_type": "display_data"
    },
    {
     "name": "stdout",
     "output_type": "stream",
     "text": [
      "11 PDFs created and saved in /Users/dlisla/Desktop/_temporary_pdfs_R_ BOT_1978-05-31_EX1-5\n",
      "/Users/dlisla/Desktop/_temporary_pdfs_R_ BOT_1978-05-31_EX1-5/R_ BOT_1978-05-31_EX1-5.pdf created with size 0.0 GB\n",
      "\n",
      "*****\n",
      "R_ BOT_1978-05-31_EX1-5 is now /Volumes/fluffy/0_JeremysWorkingSpace/2019-10/board-of-regents_toOCR/2.OCRed/R_ BOT_1978-05-31_EX1-5\n",
      "*****\n",
      "\n",
      "97 *.tif to process in /Volumes/fluffy/0_JeremysWorkingSpace/2019-10/board-of-regents_toOCR/1.toOCR/R_ BOT_1978-06-14_EX1-7\n"
     ]
    },
    {
     "data": {
      "application/vnd.jupyter.widget-view+json": {
       "model_id": "6c61f701268841a78a143f5fbdd61164",
       "version_major": 2,
       "version_minor": 0
      },
      "text/plain": [
       "VBox(children=(Label(value='OCR *.tif'), IntProgress(value=0, max=97)))"
      ]
     },
     "metadata": {},
     "output_type": "display_data"
    },
    {
     "name": "stdout",
     "output_type": "stream",
     "text": [
      "97 PDFs created and saved in /Users/dlisla/Desktop/_temporary_pdfs_R_ BOT_1978-06-14_EX1-7\n",
      "/Users/dlisla/Desktop/_temporary_pdfs_R_ BOT_1978-06-14_EX1-7/R_ BOT_1978-06-14_EX1-7.pdf created with size 0.02 GB\n",
      "\n",
      "*****\n",
      "R_ BOT_1978-06-14_EX1-7 is now /Volumes/fluffy/0_JeremysWorkingSpace/2019-10/board-of-regents_toOCR/2.OCRed/R_ BOT_1978-06-14_EX1-7\n",
      "*****\n",
      "\n",
      "796 *.tif to process in /Volumes/fluffy/0_JeremysWorkingSpace/2019-10/board-of-regents_toOCR/1.toOCR/R_ BOT_1978-06-15_EX1-53\n"
     ]
    },
    {
     "data": {
      "application/vnd.jupyter.widget-view+json": {
       "model_id": "6c02d1666fd64b05b9ba525de76842df",
       "version_major": 2,
       "version_minor": 0
      },
      "text/plain": [
       "VBox(children=(Label(value='OCR *.tif'), IntProgress(value=0, max=796)))"
      ]
     },
     "metadata": {},
     "output_type": "display_data"
    },
    {
     "name": "stdout",
     "output_type": "stream",
     "text": [
      "796 PDFs created and saved in /Users/dlisla/Desktop/_temporary_pdfs_R_ BOT_1978-06-15_EX1-53\n",
      "/Users/dlisla/Desktop/_temporary_pdfs_R_ BOT_1978-06-15_EX1-53/R_ BOT_1978-06-15_EX1-53.pdf created with size 0.17 GB\n",
      "\n",
      "*****\n",
      "R_ BOT_1978-06-15_EX1-53 is now /Volumes/fluffy/0_JeremysWorkingSpace/2019-10/board-of-regents_toOCR/2.OCRed/R_ BOT_1978-06-15_EX1-53\n",
      "*****\n",
      "\n",
      "168 *.tif to process in /Volumes/fluffy/0_JeremysWorkingSpace/2019-10/board-of-regents_toOCR/1.toOCR/R_ BOT_1978-08-02_EX1-9\n"
     ]
    },
    {
     "data": {
      "application/vnd.jupyter.widget-view+json": {
       "model_id": "9f0db1a357b54666a3b13019bccd79a6",
       "version_major": 2,
       "version_minor": 0
      },
      "text/plain": [
       "VBox(children=(Label(value='OCR *.tif'), IntProgress(value=0, max=168)))"
      ]
     },
     "metadata": {},
     "output_type": "display_data"
    },
    {
     "name": "stdout",
     "output_type": "stream",
     "text": [
      "168 PDFs created and saved in /Users/dlisla/Desktop/_temporary_pdfs_R_ BOT_1978-08-02_EX1-9\n",
      "/Users/dlisla/Desktop/_temporary_pdfs_R_ BOT_1978-08-02_EX1-9/R_ BOT_1978-08-02_EX1-9.pdf created with size 0.06 GB\n",
      "\n",
      "*****\n",
      "R_ BOT_1978-08-02_EX1-9 is now /Volumes/fluffy/0_JeremysWorkingSpace/2019-10/board-of-regents_toOCR/2.OCRed/R_ BOT_1978-08-02_EX1-9\n",
      "*****\n",
      "\n",
      "79 *.tif to process in /Volumes/fluffy/0_JeremysWorkingSpace/2019-10/board-of-regents_toOCR/1.toOCR/R_ BOT_1978-08-31_EX1-15\n"
     ]
    },
    {
     "data": {
      "application/vnd.jupyter.widget-view+json": {
       "model_id": "799faffd1ee543da9dbfd5e375ba5ab7",
       "version_major": 2,
       "version_minor": 0
      },
      "text/plain": [
       "VBox(children=(Label(value='OCR *.tif'), IntProgress(value=0, max=79)))"
      ]
     },
     "metadata": {},
     "output_type": "display_data"
    },
    {
     "name": "stdout",
     "output_type": "stream",
     "text": [
      "79 PDFs created and saved in /Users/dlisla/Desktop/_temporary_pdfs_R_ BOT_1978-08-31_EX1-15\n",
      "/Users/dlisla/Desktop/_temporary_pdfs_R_ BOT_1978-08-31_EX1-15/R_ BOT_1978-08-31_EX1-15.pdf created with size 0.02 GB\n",
      "\n",
      "*****\n",
      "R_ BOT_1978-08-31_EX1-15 is now /Volumes/fluffy/0_JeremysWorkingSpace/2019-10/board-of-regents_toOCR/2.OCRed/R_ BOT_1978-08-31_EX1-15\n",
      "*****\n",
      "\n",
      "811 *.tif to process in /Volumes/fluffy/0_JeremysWorkingSpace/2019-10/board-of-regents_toOCR/1.toOCR/R_ BOT_1978-10-20_EX1-37\n"
     ]
    },
    {
     "data": {
      "application/vnd.jupyter.widget-view+json": {
       "model_id": "f069cdc51dde493688e1ea7f24101191",
       "version_major": 2,
       "version_minor": 0
      },
      "text/plain": [
       "VBox(children=(Label(value='OCR *.tif'), IntProgress(value=0, max=811)))"
      ]
     },
     "metadata": {},
     "output_type": "display_data"
    },
    {
     "name": "stdout",
     "output_type": "stream",
     "text": [
      "811 PDFs created and saved in /Users/dlisla/Desktop/_temporary_pdfs_R_ BOT_1978-10-20_EX1-37\n",
      "/Users/dlisla/Desktop/_temporary_pdfs_R_ BOT_1978-10-20_EX1-37/R_ BOT_1978-10-20_EX1-37.pdf created with size 0.17 GB\n",
      "\n",
      "*****\n",
      "R_ BOT_1978-10-20_EX1-37 is now /Volumes/fluffy/0_JeremysWorkingSpace/2019-10/board-of-regents_toOCR/2.OCRed/R_ BOT_1978-10-20_EX1-37\n",
      "*****\n",
      "\n",
      "275 *.tif to process in /Volumes/fluffy/0_JeremysWorkingSpace/2019-10/board-of-regents_toOCR/1.toOCR/R_ BOT_1979-03-05_EX1-49\n"
     ]
    },
    {
     "data": {
      "application/vnd.jupyter.widget-view+json": {
       "model_id": "d87b4315608b445fbb32bac1cd0fa982",
       "version_major": 2,
       "version_minor": 0
      },
      "text/plain": [
       "VBox(children=(Label(value='OCR *.tif'), IntProgress(value=0, max=275)))"
      ]
     },
     "metadata": {},
     "output_type": "display_data"
    },
    {
     "name": "stdout",
     "output_type": "stream",
     "text": [
      "275 PDFs created and saved in /Users/dlisla/Desktop/_temporary_pdfs_R_ BOT_1979-03-05_EX1-49\n",
      "/Users/dlisla/Desktop/_temporary_pdfs_R_ BOT_1979-03-05_EX1-49/R_ BOT_1979-03-05_EX1-49.pdf created with size 0.06 GB\n",
      "\n",
      "*****\n",
      "R_ BOT_1979-03-05_EX1-49 is now /Volumes/fluffy/0_JeremysWorkingSpace/2019-10/board-of-regents_toOCR/2.OCRed/R_ BOT_1979-03-05_EX1-49\n",
      "*****\n",
      "\n",
      "263 *.tif to process in /Volumes/fluffy/0_JeremysWorkingSpace/2019-10/board-of-regents_toOCR/1.toOCR/R_ BOT_1979-05-04_EX1-13\n"
     ]
    },
    {
     "data": {
      "application/vnd.jupyter.widget-view+json": {
       "model_id": "5eb2fe0b0fc74b8f832d6907c5fa6be3",
       "version_major": 2,
       "version_minor": 0
      },
      "text/plain": [
       "VBox(children=(Label(value='OCR *.tif'), IntProgress(value=0, max=263)))"
      ]
     },
     "metadata": {},
     "output_type": "display_data"
    },
    {
     "name": "stdout",
     "output_type": "stream",
     "text": [
      "263 PDFs created and saved in /Users/dlisla/Desktop/_temporary_pdfs_R_ BOT_1979-05-04_EX1-13\n",
      "/Users/dlisla/Desktop/_temporary_pdfs_R_ BOT_1979-05-04_EX1-13/R_ BOT_1979-05-04_EX1-13.pdf created with size 0.05 GB\n",
      "\n",
      "*****\n",
      "R_ BOT_1979-05-04_EX1-13 is now /Volumes/fluffy/0_JeremysWorkingSpace/2019-10/board-of-regents_toOCR/2.OCRed/R_ BOT_1979-05-04_EX1-13\n",
      "*****\n",
      "\n",
      "83 *.tif to process in /Volumes/fluffy/0_JeremysWorkingSpace/2019-10/board-of-regents_toOCR/1.toOCR/R_ BOT_1979-06-20_EX1-13\n"
     ]
    },
    {
     "data": {
      "application/vnd.jupyter.widget-view+json": {
       "model_id": "3f9cdef01f2c4c88a1d8edba7c2303fa",
       "version_major": 2,
       "version_minor": 0
      },
      "text/plain": [
       "VBox(children=(Label(value='OCR *.tif'), IntProgress(value=0, max=83)))"
      ]
     },
     "metadata": {},
     "output_type": "display_data"
    },
    {
     "name": "stdout",
     "output_type": "stream",
     "text": [
      "83 PDFs created and saved in /Users/dlisla/Desktop/_temporary_pdfs_R_ BOT_1979-06-20_EX1-13\n",
      "/Users/dlisla/Desktop/_temporary_pdfs_R_ BOT_1979-06-20_EX1-13/R_ BOT_1979-06-20_EX1-13.pdf created with size 0.02 GB\n",
      "\n",
      "*****\n",
      "R_ BOT_1979-06-20_EX1-13 is now /Volumes/fluffy/0_JeremysWorkingSpace/2019-10/board-of-regents_toOCR/2.OCRed/R_ BOT_1979-06-20_EX1-13\n",
      "*****\n",
      "\n",
      "906 *.tif to process in /Volumes/fluffy/0_JeremysWorkingSpace/2019-10/board-of-regents_toOCR/1.toOCR/R_ BOT_1979-06-21_EX1-59\n"
     ]
    },
    {
     "data": {
      "application/vnd.jupyter.widget-view+json": {
       "model_id": "6820fd29254e404f8ca0b093aec890d5",
       "version_major": 2,
       "version_minor": 0
      },
      "text/plain": [
       "VBox(children=(Label(value='OCR *.tif'), IntProgress(value=0, max=906)))"
      ]
     },
     "metadata": {},
     "output_type": "display_data"
    },
    {
     "name": "stdout",
     "output_type": "stream",
     "text": [
      "906 PDFs created and saved in /Users/dlisla/Desktop/_temporary_pdfs_R_ BOT_1979-06-21_EX1-59\n",
      "/Users/dlisla/Desktop/_temporary_pdfs_R_ BOT_1979-06-21_EX1-59/R_ BOT_1979-06-21_EX1-59.pdf created with size 0.21 GB\n",
      "\n",
      "*****\n",
      "R_ BOT_1979-06-21_EX1-59 is now /Volumes/fluffy/0_JeremysWorkingSpace/2019-10/board-of-regents_toOCR/2.OCRed/R_ BOT_1979-06-21_EX1-59\n",
      "*****\n",
      "\n",
      "4 *.tif to process in /Volumes/fluffy/0_JeremysWorkingSpace/2019-10/board-of-regents_toOCR/1.toOCR/R_ BOT_1979-07-11_EX1-2\n"
     ]
    },
    {
     "data": {
      "application/vnd.jupyter.widget-view+json": {
       "model_id": "64f7a70420d44b808284ae478c9db2db",
       "version_major": 2,
       "version_minor": 0
      },
      "text/plain": [
       "VBox(children=(Label(value='OCR *.tif'), IntProgress(value=0, max=4)))"
      ]
     },
     "metadata": {},
     "output_type": "display_data"
    },
    {
     "name": "stdout",
     "output_type": "stream",
     "text": [
      "4 PDFs created and saved in /Users/dlisla/Desktop/_temporary_pdfs_R_ BOT_1979-07-11_EX1-2\n",
      "/Users/dlisla/Desktop/_temporary_pdfs_R_ BOT_1979-07-11_EX1-2/R_ BOT_1979-07-11_EX1-2.pdf created with size 0.0 GB\n",
      "\n",
      "*****\n",
      "R_ BOT_1979-07-11_EX1-2 is now /Volumes/fluffy/0_JeremysWorkingSpace/2019-10/board-of-regents_toOCR/2.OCRed/R_ BOT_1979-07-11_EX1-2\n",
      "*****\n",
      "\n",
      "10 *.tif to process in /Volumes/fluffy/0_JeremysWorkingSpace/2019-10/board-of-regents_toOCR/1.toOCR/R_ BOT_1979-09-10_EX1-4\n"
     ]
    },
    {
     "data": {
      "application/vnd.jupyter.widget-view+json": {
       "model_id": "cb3614c84ef44d85951f8494c8d18a70",
       "version_major": 2,
       "version_minor": 0
      },
      "text/plain": [
       "VBox(children=(Label(value='OCR *.tif'), IntProgress(value=0, max=10)))"
      ]
     },
     "metadata": {},
     "output_type": "display_data"
    },
    {
     "name": "stdout",
     "output_type": "stream",
     "text": [
      "10 PDFs created and saved in /Users/dlisla/Desktop/_temporary_pdfs_R_ BOT_1979-09-10_EX1-4\n",
      "/Users/dlisla/Desktop/_temporary_pdfs_R_ BOT_1979-09-10_EX1-4/R_ BOT_1979-09-10_EX1-4.pdf created with size 0.0 GB\n",
      "\n",
      "*****\n",
      "R_ BOT_1979-09-10_EX1-4 is now /Volumes/fluffy/0_JeremysWorkingSpace/2019-10/board-of-regents_toOCR/2.OCRed/R_ BOT_1979-09-10_EX1-4\n",
      "*****\n",
      "\n",
      "874 *.tif to process in /Volumes/fluffy/0_JeremysWorkingSpace/2019-10/board-of-regents_toOCR/1.toOCR/R_ BOT_1979-09-28_EX1-43\n"
     ]
    },
    {
     "data": {
      "application/vnd.jupyter.widget-view+json": {
       "model_id": "aa80c4e2f1564d42afd0e0f625660c3d",
       "version_major": 2,
       "version_minor": 0
      },
      "text/plain": [
       "VBox(children=(Label(value='OCR *.tif'), IntProgress(value=0, max=874)))"
      ]
     },
     "metadata": {},
     "output_type": "display_data"
    },
    {
     "name": "stdout",
     "output_type": "stream",
     "text": [
      "874 PDFs created and saved in /Users/dlisla/Desktop/_temporary_pdfs_R_ BOT_1979-09-28_EX1-43\n",
      "/Users/dlisla/Desktop/_temporary_pdfs_R_ BOT_1979-09-28_EX1-43/R_ BOT_1979-09-28_EX1-43.pdf created with size 0.18 GB\n",
      "\n",
      "*****\n",
      "R_ BOT_1979-09-28_EX1-43 is now /Volumes/fluffy/0_JeremysWorkingSpace/2019-10/board-of-regents_toOCR/2.OCRed/R_ BOT_1979-09-28_EX1-43\n",
      "*****\n",
      "\n",
      "22 *.tif to process in /Volumes/fluffy/0_JeremysWorkingSpace/2019-10/board-of-regents_toOCR/1.toOCR/R_ BOT_1979-10-29_EX1-2\n"
     ]
    },
    {
     "data": {
      "application/vnd.jupyter.widget-view+json": {
       "model_id": "945ee12146c249a7b5fe8004f10e10df",
       "version_major": 2,
       "version_minor": 0
      },
      "text/plain": [
       "VBox(children=(Label(value='OCR *.tif'), IntProgress(value=0, max=22)))"
      ]
     },
     "metadata": {},
     "output_type": "display_data"
    },
    {
     "name": "stdout",
     "output_type": "stream",
     "text": [
      "22 PDFs created and saved in /Users/dlisla/Desktop/_temporary_pdfs_R_ BOT_1979-10-29_EX1-2\n",
      "/Users/dlisla/Desktop/_temporary_pdfs_R_ BOT_1979-10-29_EX1-2/R_ BOT_1979-10-29_EX1-2.pdf created with size 0.0 GB\n",
      "\n",
      "*****\n",
      "R_ BOT_1979-10-29_EX1-2 is now /Volumes/fluffy/0_JeremysWorkingSpace/2019-10/board-of-regents_toOCR/2.OCRed/R_ BOT_1979-10-29_EX1-2\n",
      "*****\n",
      "\n",
      "40 *.tif to process in /Volumes/fluffy/0_JeremysWorkingSpace/2019-10/board-of-regents_toOCR/1.toOCR/R_ BOT_1979-12-12_EX1-12\n"
     ]
    },
    {
     "data": {
      "application/vnd.jupyter.widget-view+json": {
       "model_id": "33047fe54e6a4dc181f004d58315f082",
       "version_major": 2,
       "version_minor": 0
      },
      "text/plain": [
       "VBox(children=(Label(value='OCR *.tif'), IntProgress(value=0, max=40)))"
      ]
     },
     "metadata": {},
     "output_type": "display_data"
    },
    {
     "name": "stdout",
     "output_type": "stream",
     "text": [
      "40 PDFs created and saved in /Users/dlisla/Desktop/_temporary_pdfs_R_ BOT_1979-12-12_EX1-12\n",
      "/Users/dlisla/Desktop/_temporary_pdfs_R_ BOT_1979-12-12_EX1-12/R_ BOT_1979-12-12_EX1-12.pdf created with size 0.01 GB\n",
      "\n",
      "*****\n",
      "R_ BOT_1979-12-12_EX1-12 is now /Volumes/fluffy/0_JeremysWorkingSpace/2019-10/board-of-regents_toOCR/2.OCRed/R_ BOT_1979-12-12_EX1-12\n",
      "*****\n",
      "\n",
      "501 *.tif to process in /Volumes/fluffy/0_JeremysWorkingSpace/2019-10/board-of-regents_toOCR/1.toOCR/R_ BOT_1980-02-08_EX1-38\n"
     ]
    },
    {
     "data": {
      "application/vnd.jupyter.widget-view+json": {
       "model_id": "6ce136fa2b994a938ed866a9ab95d74b",
       "version_major": 2,
       "version_minor": 0
      },
      "text/plain": [
       "VBox(children=(Label(value='OCR *.tif'), IntProgress(value=0, max=501)))"
      ]
     },
     "metadata": {},
     "output_type": "display_data"
    },
    {
     "name": "stdout",
     "output_type": "stream",
     "text": [
      "501 PDFs created and saved in /Users/dlisla/Desktop/_temporary_pdfs_R_ BOT_1980-02-08_EX1-38\n",
      "/Users/dlisla/Desktop/_temporary_pdfs_R_ BOT_1980-02-08_EX1-38/R_ BOT_1980-02-08_EX1-38.pdf created with size 0.1 GB\n",
      "\n",
      "*****\n",
      "R_ BOT_1980-02-08_EX1-38 is now /Volumes/fluffy/0_JeremysWorkingSpace/2019-10/board-of-regents_toOCR/2.OCRed/R_ BOT_1980-02-08_EX1-38\n",
      "*****\n",
      "\n",
      "138 *.tif to process in /Volumes/fluffy/0_JeremysWorkingSpace/2019-10/board-of-regents_toOCR/1.toOCR/R_ BOT_1980-04-25_EX1-16\n"
     ]
    },
    {
     "data": {
      "application/vnd.jupyter.widget-view+json": {
       "model_id": "84e16fcca40d4c1cb08cdceff453a739",
       "version_major": 2,
       "version_minor": 0
      },
      "text/plain": [
       "VBox(children=(Label(value='OCR *.tif'), IntProgress(value=0, max=138)))"
      ]
     },
     "metadata": {},
     "output_type": "display_data"
    },
    {
     "name": "stdout",
     "output_type": "stream",
     "text": [
      "138 PDFs created and saved in /Users/dlisla/Desktop/_temporary_pdfs_R_ BOT_1980-04-25_EX1-16\n",
      "/Users/dlisla/Desktop/_temporary_pdfs_R_ BOT_1980-04-25_EX1-16/R_ BOT_1980-04-25_EX1-16.pdf created with size 0.02 GB\n",
      "\n",
      "*****\n",
      "R_ BOT_1980-04-25_EX1-16 is now /Volumes/fluffy/0_JeremysWorkingSpace/2019-10/board-of-regents_toOCR/2.OCRed/R_ BOT_1980-04-25_EX1-16\n",
      "*****\n",
      "\n",
      "95 *.tif to process in /Volumes/fluffy/0_JeremysWorkingSpace/2019-10/board-of-regents_toOCR/1.toOCR/R_ BOT_1980-06-18_EX1-10\n"
     ]
    },
    {
     "data": {
      "application/vnd.jupyter.widget-view+json": {
       "model_id": "33e4de3b4f144dbd88eac64fcd08bab5",
       "version_major": 2,
       "version_minor": 0
      },
      "text/plain": [
       "VBox(children=(Label(value='OCR *.tif'), IntProgress(value=0, max=95)))"
      ]
     },
     "metadata": {},
     "output_type": "display_data"
    },
    {
     "name": "stdout",
     "output_type": "stream",
     "text": [
      "95 PDFs created and saved in /Users/dlisla/Desktop/_temporary_pdfs_R_ BOT_1980-06-18_EX1-10\n",
      "/Users/dlisla/Desktop/_temporary_pdfs_R_ BOT_1980-06-18_EX1-10/R_ BOT_1980-06-18_EX1-10.pdf created with size 0.02 GB\n",
      "\n",
      "*****\n",
      "R_ BOT_1980-06-18_EX1-10 is now /Volumes/fluffy/0_JeremysWorkingSpace/2019-10/board-of-regents_toOCR/2.OCRed/R_ BOT_1980-06-18_EX1-10\n",
      "*****\n",
      "\n",
      "956 *.tif to process in /Volumes/fluffy/0_JeremysWorkingSpace/2019-10/board-of-regents_toOCR/1.toOCR/R_ BOT_1980-06-19_EX1-67\n"
     ]
    },
    {
     "data": {
      "application/vnd.jupyter.widget-view+json": {
       "model_id": "06771bfb6ddd478e96d71e36c8e784a2",
       "version_major": 2,
       "version_minor": 0
      },
      "text/plain": [
       "VBox(children=(Label(value='OCR *.tif'), IntProgress(value=0, max=956)))"
      ]
     },
     "metadata": {},
     "output_type": "display_data"
    },
    {
     "name": "stdout",
     "output_type": "stream",
     "text": [
      "956 PDFs created and saved in /Users/dlisla/Desktop/_temporary_pdfs_R_ BOT_1980-06-19_EX1-67\n",
      "/Users/dlisla/Desktop/_temporary_pdfs_R_ BOT_1980-06-19_EX1-67/R_ BOT_1980-06-19_EX1-67.pdf created with size 0.21 GB\n",
      "\n",
      "*****\n",
      "R_ BOT_1980-06-19_EX1-67 is now /Volumes/fluffy/0_JeremysWorkingSpace/2019-10/board-of-regents_toOCR/2.OCRed/R_ BOT_1980-06-19_EX1-67\n",
      "*****\n",
      "\n",
      "10 *.tif to process in /Volumes/fluffy/0_JeremysWorkingSpace/2019-10/board-of-regents_toOCR/1.toOCR/R_ BOT_1980-08-18_EX1-3\n"
     ]
    },
    {
     "data": {
      "application/vnd.jupyter.widget-view+json": {
       "model_id": "165376299b6848f09df0c8b93738e00a",
       "version_major": 2,
       "version_minor": 0
      },
      "text/plain": [
       "VBox(children=(Label(value='OCR *.tif'), IntProgress(value=0, max=10)))"
      ]
     },
     "metadata": {},
     "output_type": "display_data"
    },
    {
     "name": "stdout",
     "output_type": "stream",
     "text": [
      "10 PDFs created and saved in /Users/dlisla/Desktop/_temporary_pdfs_R_ BOT_1980-08-18_EX1-3\n",
      "/Users/dlisla/Desktop/_temporary_pdfs_R_ BOT_1980-08-18_EX1-3/R_ BOT_1980-08-18_EX1-3.pdf created with size 0.0 GB\n",
      "\n",
      "*****\n",
      "R_ BOT_1980-08-18_EX1-3 is now /Volumes/fluffy/0_JeremysWorkingSpace/2019-10/board-of-regents_toOCR/2.OCRed/R_ BOT_1980-08-18_EX1-3\n",
      "*****\n",
      "\n",
      "1169 *.tif to process in /Volumes/fluffy/0_JeremysWorkingSpace/2019-10/board-of-regents_toOCR/1.toOCR/R_ BOT_1980-10-17_EX1-46\n"
     ]
    },
    {
     "data": {
      "application/vnd.jupyter.widget-view+json": {
       "model_id": "a446494f5a734c08b525ef4c61be8625",
       "version_major": 2,
       "version_minor": 0
      },
      "text/plain": [
       "VBox(children=(Label(value='OCR *.tif'), IntProgress(value=0, max=1169)))"
      ]
     },
     "metadata": {},
     "output_type": "display_data"
    },
    {
     "name": "stdout",
     "output_type": "stream",
     "text": [
      "1169 PDFs created and saved in /Users/dlisla/Desktop/_temporary_pdfs_R_ BOT_1980-10-17_EX1-46\n",
      "/Users/dlisla/Desktop/_temporary_pdfs_R_ BOT_1980-10-17_EX1-46/R_ BOT_1980-10-17_EX1-46.pdf created with size 0.23 GB\n",
      "\n",
      "*****\n",
      "R_ BOT_1980-10-17_EX1-46 is now /Volumes/fluffy/0_JeremysWorkingSpace/2019-10/board-of-regents_toOCR/2.OCRed/R_ BOT_1980-10-17_EX1-46\n",
      "*****\n",
      "\n",
      "18 *.tif to process in /Volumes/fluffy/0_JeremysWorkingSpace/2019-10/board-of-regents_toOCR/1.toOCR/R_ BOT_1980-11-15_EX1-6_\n"
     ]
    },
    {
     "data": {
      "application/vnd.jupyter.widget-view+json": {
       "model_id": "b9f1ba0472eb4f54ab58445e4ee33eb2",
       "version_major": 2,
       "version_minor": 0
      },
      "text/plain": [
       "VBox(children=(Label(value='OCR *.tif'), IntProgress(value=0, max=18)))"
      ]
     },
     "metadata": {},
     "output_type": "display_data"
    },
    {
     "name": "stdout",
     "output_type": "stream",
     "text": [
      "18 PDFs created and saved in /Users/dlisla/Desktop/_temporary_pdfs_R_ BOT_1980-11-15_EX1-6_\n",
      "/Users/dlisla/Desktop/_temporary_pdfs_R_ BOT_1980-11-15_EX1-6_/R_ BOT_1980-11-15_EX1-6_.pdf created with size 0.0 GB\n",
      "\n",
      "*****\n",
      "R_ BOT_1980-11-15_EX1-6_ is now /Volumes/fluffy/0_JeremysWorkingSpace/2019-10/board-of-regents_toOCR/2.OCRed/R_ BOT_1980-11-15_EX1-6_\n",
      "*****\n",
      "\n",
      "10 *.tif to process in /Volumes/fluffy/0_JeremysWorkingSpace/2019-10/board-of-regents_toOCR/1.toOCR/R_ BOT_1980-12-12_EX1-2\n"
     ]
    },
    {
     "data": {
      "application/vnd.jupyter.widget-view+json": {
       "model_id": "e274699b4b1c47a2a53e658b0a5b4a03",
       "version_major": 2,
       "version_minor": 0
      },
      "text/plain": [
       "VBox(children=(Label(value='OCR *.tif'), IntProgress(value=0, max=10)))"
      ]
     },
     "metadata": {},
     "output_type": "display_data"
    },
    {
     "name": "stdout",
     "output_type": "stream",
     "text": [
      "10 PDFs created and saved in /Users/dlisla/Desktop/_temporary_pdfs_R_ BOT_1980-12-12_EX1-2\n",
      "/Users/dlisla/Desktop/_temporary_pdfs_R_ BOT_1980-12-12_EX1-2/R_ BOT_1980-12-12_EX1-2.pdf created with size 0.0 GB\n",
      "\n",
      "*****\n",
      "R_ BOT_1980-12-12_EX1-2 is now /Volumes/fluffy/0_JeremysWorkingSpace/2019-10/board-of-regents_toOCR/2.OCRed/R_ BOT_1980-12-12_EX1-2\n",
      "*****\n",
      "\n",
      "160 *.tif to process in /Volumes/fluffy/0_JeremysWorkingSpace/2019-10/board-of-regents_toOCR/1.toOCR/R_ BOT_1981-03-19_EX1-6\n"
     ]
    },
    {
     "data": {
      "application/vnd.jupyter.widget-view+json": {
       "model_id": "5f1be2da39154fb68843459a8b7dbdcc",
       "version_major": 2,
       "version_minor": 0
      },
      "text/plain": [
       "VBox(children=(Label(value='OCR *.tif'), IntProgress(value=0, max=160)))"
      ]
     },
     "metadata": {},
     "output_type": "display_data"
    },
    {
     "name": "stdout",
     "output_type": "stream",
     "text": [
      "160 PDFs created and saved in /Users/dlisla/Desktop/_temporary_pdfs_R_ BOT_1981-03-19_EX1-6\n",
      "/Users/dlisla/Desktop/_temporary_pdfs_R_ BOT_1981-03-19_EX1-6/R_ BOT_1981-03-19_EX1-6.pdf created with size 0.03 GB\n",
      "\n",
      "*****\n",
      "R_ BOT_1981-03-19_EX1-6 is now /Volumes/fluffy/0_JeremysWorkingSpace/2019-10/board-of-regents_toOCR/2.OCRed/R_ BOT_1981-03-19_EX1-6\n",
      "*****\n",
      "\n",
      "6 *.tif to process in /Volumes/fluffy/0_JeremysWorkingSpace/2019-10/board-of-regents_toOCR/1.toOCR/R_ BOT_1981-05-11_EX1\n"
     ]
    },
    {
     "data": {
      "application/vnd.jupyter.widget-view+json": {
       "model_id": "5c4afc825252403b95db36ecb82a139f",
       "version_major": 2,
       "version_minor": 0
      },
      "text/plain": [
       "VBox(children=(Label(value='OCR *.tif'), IntProgress(value=0, max=6)))"
      ]
     },
     "metadata": {},
     "output_type": "display_data"
    },
    {
     "name": "stdout",
     "output_type": "stream",
     "text": [
      "6 PDFs created and saved in /Users/dlisla/Desktop/_temporary_pdfs_R_ BOT_1981-05-11_EX1\n",
      "/Users/dlisla/Desktop/_temporary_pdfs_R_ BOT_1981-05-11_EX1/R_ BOT_1981-05-11_EX1.pdf created with size 0.0 GB\n",
      "\n",
      "*****\n",
      "R_ BOT_1981-05-11_EX1 is now /Volumes/fluffy/0_JeremysWorkingSpace/2019-10/board-of-regents_toOCR/2.OCRed/R_ BOT_1981-05-11_EX1\n",
      "*****\n",
      "\n",
      "29 *.tif to process in /Volumes/fluffy/0_JeremysWorkingSpace/2019-10/board-of-regents_toOCR/1.toOCR/R_ BOT_1981-05-29_EX1-4\n"
     ]
    },
    {
     "data": {
      "application/vnd.jupyter.widget-view+json": {
       "model_id": "11b7fc4468e04ed08aca92113502d376",
       "version_major": 2,
       "version_minor": 0
      },
      "text/plain": [
       "VBox(children=(Label(value='OCR *.tif'), IntProgress(value=0, max=29)))"
      ]
     },
     "metadata": {},
     "output_type": "display_data"
    },
    {
     "name": "stdout",
     "output_type": "stream",
     "text": [
      "29 PDFs created and saved in /Users/dlisla/Desktop/_temporary_pdfs_R_ BOT_1981-05-29_EX1-4\n",
      "/Users/dlisla/Desktop/_temporary_pdfs_R_ BOT_1981-05-29_EX1-4/R_ BOT_1981-05-29_EX1-4.pdf created with size 0.0 GB\n",
      "\n",
      "*****\n",
      "R_ BOT_1981-05-29_EX1-4 is now /Volumes/fluffy/0_JeremysWorkingSpace/2019-10/board-of-regents_toOCR/2.OCRed/R_ BOT_1981-05-29_EX1-4\n",
      "*****\n",
      "\n",
      "95 *.tif to process in /Volumes/fluffy/0_JeremysWorkingSpace/2019-10/board-of-regents_toOCR/1.toOCR/R_ BOT_1981-06-17_EX1-8\n"
     ]
    },
    {
     "data": {
      "application/vnd.jupyter.widget-view+json": {
       "model_id": "eeae67c8775e48f0b9763ad4c025ea03",
       "version_major": 2,
       "version_minor": 0
      },
      "text/plain": [
       "VBox(children=(Label(value='OCR *.tif'), IntProgress(value=0, max=95)))"
      ]
     },
     "metadata": {},
     "output_type": "display_data"
    },
    {
     "name": "stdout",
     "output_type": "stream",
     "text": [
      "95 PDFs created and saved in /Users/dlisla/Desktop/_temporary_pdfs_R_ BOT_1981-06-17_EX1-8\n",
      "/Users/dlisla/Desktop/_temporary_pdfs_R_ BOT_1981-06-17_EX1-8/R_ BOT_1981-06-17_EX1-8.pdf created with size 0.01 GB\n",
      "\n",
      "*****\n",
      "R_ BOT_1981-06-17_EX1-8 is now /Volumes/fluffy/0_JeremysWorkingSpace/2019-10/board-of-regents_toOCR/2.OCRed/R_ BOT_1981-06-17_EX1-8\n",
      "*****\n",
      "\n",
      "1163 *.tif to process in /Volumes/fluffy/0_JeremysWorkingSpace/2019-10/board-of-regents_toOCR/1.toOCR/R_ BOT_1981-06-18_EX1-54\n"
     ]
    },
    {
     "data": {
      "application/vnd.jupyter.widget-view+json": {
       "model_id": "b91239a4b1684155a017c26178909ba2",
       "version_major": 2,
       "version_minor": 0
      },
      "text/plain": [
       "VBox(children=(Label(value='OCR *.tif'), IntProgress(value=0, max=1163)))"
      ]
     },
     "metadata": {},
     "output_type": "display_data"
    },
    {
     "name": "stdout",
     "output_type": "stream",
     "text": [
      "1163 PDFs created and saved in /Users/dlisla/Desktop/_temporary_pdfs_R_ BOT_1981-06-18_EX1-54\n",
      "/Users/dlisla/Desktop/_temporary_pdfs_R_ BOT_1981-06-18_EX1-54/R_ BOT_1981-06-18_EX1-54.pdf created with size 0.2 GB\n",
      "\n",
      "*****\n",
      "R_ BOT_1981-06-18_EX1-54 is now /Volumes/fluffy/0_JeremysWorkingSpace/2019-10/board-of-regents_toOCR/2.OCRed/R_ BOT_1981-06-18_EX1-54\n",
      "*****\n",
      "\n",
      "112 *.tif to process in /Volumes/fluffy/0_JeremysWorkingSpace/2019-10/board-of-regents_toOCR/1.toOCR/R_ BOT_1981-07-30_EX1-7\n"
     ]
    },
    {
     "data": {
      "application/vnd.jupyter.widget-view+json": {
       "model_id": "5db732faa3dd46658441b42aa3b5b843",
       "version_major": 2,
       "version_minor": 0
      },
      "text/plain": [
       "VBox(children=(Label(value='OCR *.tif'), IntProgress(value=0, max=112)))"
      ]
     },
     "metadata": {},
     "output_type": "display_data"
    },
    {
     "name": "stdout",
     "output_type": "stream",
     "text": [
      "112 PDFs created and saved in /Users/dlisla/Desktop/_temporary_pdfs_R_ BOT_1981-07-30_EX1-7\n",
      "/Users/dlisla/Desktop/_temporary_pdfs_R_ BOT_1981-07-30_EX1-7/R_ BOT_1981-07-30_EX1-7.pdf created with size 0.02 GB\n",
      "\n",
      "*****\n",
      "R_ BOT_1981-07-30_EX1-7 is now /Volumes/fluffy/0_JeremysWorkingSpace/2019-10/board-of-regents_toOCR/2.OCRed/R_ BOT_1981-07-30_EX1-7\n",
      "*****\n",
      "\n",
      "534 *.tif to process in /Volumes/fluffy/0_JeremysWorkingSpace/2019-10/board-of-regents_toOCR/1.toOCR/R_ BOT_1981-09-25_EX1-28\n"
     ]
    },
    {
     "data": {
      "application/vnd.jupyter.widget-view+json": {
       "model_id": "00ec128d5cc04ba7b6154eeaf8e0f291",
       "version_major": 2,
       "version_minor": 0
      },
      "text/plain": [
       "VBox(children=(Label(value='OCR *.tif'), IntProgress(value=0, max=534)))"
      ]
     },
     "metadata": {},
     "output_type": "display_data"
    },
    {
     "name": "stdout",
     "output_type": "stream",
     "text": [
      "534 PDFs created and saved in /Users/dlisla/Desktop/_temporary_pdfs_R_ BOT_1981-09-25_EX1-28\n",
      "/Users/dlisla/Desktop/_temporary_pdfs_R_ BOT_1981-09-25_EX1-28/R_ BOT_1981-09-25_EX1-28.pdf created with size 0.09 GB\n",
      "\n",
      "*****\n",
      "R_ BOT_1981-09-25_EX1-28 is now /Volumes/fluffy/0_JeremysWorkingSpace/2019-10/board-of-regents_toOCR/2.OCRed/R_ BOT_1981-09-25_EX1-28\n",
      "*****\n",
      "\n",
      "14 *.tif to process in /Volumes/fluffy/0_JeremysWorkingSpace/2019-10/board-of-regents_toOCR/1.toOCR/R_ BOT_1981-10-24_EX1-9\n"
     ]
    },
    {
     "data": {
      "application/vnd.jupyter.widget-view+json": {
       "model_id": "dede72a7cb6c400aa9045e292b950a67",
       "version_major": 2,
       "version_minor": 0
      },
      "text/plain": [
       "VBox(children=(Label(value='OCR *.tif'), IntProgress(value=0, max=14)))"
      ]
     },
     "metadata": {},
     "output_type": "display_data"
    },
    {
     "name": "stdout",
     "output_type": "stream",
     "text": [
      "14 PDFs created and saved in /Users/dlisla/Desktop/_temporary_pdfs_R_ BOT_1981-10-24_EX1-9\n",
      "/Users/dlisla/Desktop/_temporary_pdfs_R_ BOT_1981-10-24_EX1-9/R_ BOT_1981-10-24_EX1-9.pdf created with size 0.0 GB\n",
      "\n",
      "*****\n",
      "R_ BOT_1981-10-24_EX1-9 is now /Volumes/fluffy/0_JeremysWorkingSpace/2019-10/board-of-regents_toOCR/2.OCRed/R_ BOT_1981-10-24_EX1-9\n",
      "*****\n",
      "\n",
      "76 *.tif to process in /Volumes/fluffy/0_JeremysWorkingSpace/2019-10/board-of-regents_toOCR/1.toOCR/R_ BOT_1981-12-19_EX1-10\n"
     ]
    },
    {
     "data": {
      "application/vnd.jupyter.widget-view+json": {
       "model_id": "e01831c1134244fe88ed7addf802c5e1",
       "version_major": 2,
       "version_minor": 0
      },
      "text/plain": [
       "VBox(children=(Label(value='OCR *.tif'), IntProgress(value=0, max=76)))"
      ]
     },
     "metadata": {},
     "output_type": "display_data"
    },
    {
     "name": "stdout",
     "output_type": "stream",
     "text": [
      "76 PDFs created and saved in /Users/dlisla/Desktop/_temporary_pdfs_R_ BOT_1981-12-19_EX1-10\n",
      "/Users/dlisla/Desktop/_temporary_pdfs_R_ BOT_1981-12-19_EX1-10/R_ BOT_1981-12-19_EX1-10.pdf created with size 0.01 GB\n",
      "\n",
      "*****\n",
      "R_ BOT_1981-12-19_EX1-10 is now /Volumes/fluffy/0_JeremysWorkingSpace/2019-10/board-of-regents_toOCR/2.OCRed/R_ BOT_1981-12-19_EX1-10\n",
      "*****\n",
      "\n",
      "328 *.tif to process in /Volumes/fluffy/0_JeremysWorkingSpace/2019-10/board-of-regents_toOCR/1.toOCR/R_ BOT_1982-02-12_EX1-23\n"
     ]
    },
    {
     "data": {
      "application/vnd.jupyter.widget-view+json": {
       "model_id": "32fb9ecc72e24cdab29f6200f8e44655",
       "version_major": 2,
       "version_minor": 0
      },
      "text/plain": [
       "VBox(children=(Label(value='OCR *.tif'), IntProgress(value=0, max=328)))"
      ]
     },
     "metadata": {},
     "output_type": "display_data"
    },
    {
     "name": "stdout",
     "output_type": "stream",
     "text": [
      "328 PDFs created and saved in /Users/dlisla/Desktop/_temporary_pdfs_R_ BOT_1982-02-12_EX1-23\n",
      "/Users/dlisla/Desktop/_temporary_pdfs_R_ BOT_1982-02-12_EX1-23/R_ BOT_1982-02-12_EX1-23.pdf created with size 0.06 GB\n",
      "\n",
      "*****\n",
      "R_ BOT_1982-02-12_EX1-23 is now /Volumes/fluffy/0_JeremysWorkingSpace/2019-10/board-of-regents_toOCR/2.OCRed/R_ BOT_1982-02-12_EX1-23\n",
      "*****\n",
      "\n",
      "62 *.tif to process in /Volumes/fluffy/0_JeremysWorkingSpace/2019-10/board-of-regents_toOCR/1.toOCR/R_ BOT_1982-03-10_EX1-5\n"
     ]
    },
    {
     "data": {
      "application/vnd.jupyter.widget-view+json": {
       "model_id": "4dd22e2ffb994ab9ab8d2ad7c0ea9cbb",
       "version_major": 2,
       "version_minor": 0
      },
      "text/plain": [
       "VBox(children=(Label(value='OCR *.tif'), IntProgress(value=0, max=62)))"
      ]
     },
     "metadata": {},
     "output_type": "display_data"
    },
    {
     "name": "stdout",
     "output_type": "stream",
     "text": [
      "62 PDFs created and saved in /Users/dlisla/Desktop/_temporary_pdfs_R_ BOT_1982-03-10_EX1-5\n",
      "/Users/dlisla/Desktop/_temporary_pdfs_R_ BOT_1982-03-10_EX1-5/R_ BOT_1982-03-10_EX1-5.pdf created with size 0.01 GB\n",
      "\n",
      "*****\n",
      "R_ BOT_1982-03-10_EX1-5 is now /Volumes/fluffy/0_JeremysWorkingSpace/2019-10/board-of-regents_toOCR/2.OCRed/R_ BOT_1982-03-10_EX1-5\n",
      "*****\n",
      "\n",
      "44 *.tif to process in /Volumes/fluffy/0_JeremysWorkingSpace/2019-10/board-of-regents_toOCR/1.toOCR/R_ BOT_1982-04-23_EX1-8\n"
     ]
    },
    {
     "data": {
      "application/vnd.jupyter.widget-view+json": {
       "model_id": "0f865eed536a4985b5c1dd10db17d8d5",
       "version_major": 2,
       "version_minor": 0
      },
      "text/plain": [
       "VBox(children=(Label(value='OCR *.tif'), IntProgress(value=0, max=44)))"
      ]
     },
     "metadata": {},
     "output_type": "display_data"
    },
    {
     "name": "stdout",
     "output_type": "stream",
     "text": [
      "44 PDFs created and saved in /Users/dlisla/Desktop/_temporary_pdfs_R_ BOT_1982-04-23_EX1-8\n",
      "/Users/dlisla/Desktop/_temporary_pdfs_R_ BOT_1982-04-23_EX1-8/R_ BOT_1982-04-23_EX1-8.pdf created with size 0.01 GB\n",
      "\n",
      "*****\n",
      "R_ BOT_1982-04-23_EX1-8 is now /Volumes/fluffy/0_JeremysWorkingSpace/2019-10/board-of-regents_toOCR/2.OCRed/R_ BOT_1982-04-23_EX1-8\n",
      "*****\n",
      "\n",
      "917 *.tif to process in /Volumes/fluffy/0_JeremysWorkingSpace/2019-10/board-of-regents_toOCR/1.toOCR/R_ BOT_1982-06-17_EX1-68\n"
     ]
    },
    {
     "data": {
      "application/vnd.jupyter.widget-view+json": {
       "model_id": "0ef6aba21f2e458a9279de74e6a02dd8",
       "version_major": 2,
       "version_minor": 0
      },
      "text/plain": [
       "VBox(children=(Label(value='OCR *.tif'), IntProgress(value=0, max=917)))"
      ]
     },
     "metadata": {},
     "output_type": "display_data"
    },
    {
     "name": "stdout",
     "output_type": "stream",
     "text": [
      "917 PDFs created and saved in /Users/dlisla/Desktop/_temporary_pdfs_R_ BOT_1982-06-17_EX1-68\n",
      "/Users/dlisla/Desktop/_temporary_pdfs_R_ BOT_1982-06-17_EX1-68/R_ BOT_1982-06-17_EX1-68.pdf created with size 0.14 GB\n",
      "\n",
      "*****\n",
      "R_ BOT_1982-06-17_EX1-68 is now /Volumes/fluffy/0_JeremysWorkingSpace/2019-10/board-of-regents_toOCR/2.OCRed/R_ BOT_1982-06-17_EX1-68\n",
      "*****\n",
      "\n",
      "44 *.tif to process in /Volumes/fluffy/0_JeremysWorkingSpace/2019-10/board-of-regents_toOCR/1.toOCR/R_ BOT_1982-08-14_EX1-6\n"
     ]
    },
    {
     "data": {
      "application/vnd.jupyter.widget-view+json": {
       "model_id": "e11450478a8e4842963b4177ce64ce93",
       "version_major": 2,
       "version_minor": 0
      },
      "text/plain": [
       "VBox(children=(Label(value='OCR *.tif'), IntProgress(value=0, max=44)))"
      ]
     },
     "metadata": {},
     "output_type": "display_data"
    },
    {
     "name": "stdout",
     "output_type": "stream",
     "text": [
      "44 PDFs created and saved in /Users/dlisla/Desktop/_temporary_pdfs_R_ BOT_1982-08-14_EX1-6\n",
      "/Users/dlisla/Desktop/_temporary_pdfs_R_ BOT_1982-08-14_EX1-6/R_ BOT_1982-08-14_EX1-6.pdf created with size 0.01 GB\n",
      "\n",
      "*****\n",
      "R_ BOT_1982-08-14_EX1-6 is now /Volumes/fluffy/0_JeremysWorkingSpace/2019-10/board-of-regents_toOCR/2.OCRed/R_ BOT_1982-08-14_EX1-6\n",
      "*****\n",
      "\n",
      "604 *.tif to process in /Volumes/fluffy/0_JeremysWorkingSpace/2019-10/board-of-regents_toOCR/1.toOCR/R_ BOT_1982-10-15_EX1-38\n"
     ]
    },
    {
     "data": {
      "application/vnd.jupyter.widget-view+json": {
       "model_id": "04b38c906b2f49ddb58a1458f4770ec0",
       "version_major": 2,
       "version_minor": 0
      },
      "text/plain": [
       "VBox(children=(Label(value='OCR *.tif'), IntProgress(value=0, max=604)))"
      ]
     },
     "metadata": {},
     "output_type": "display_data"
    },
    {
     "name": "stdout",
     "output_type": "stream",
     "text": [
      "604 PDFs created and saved in /Users/dlisla/Desktop/_temporary_pdfs_R_ BOT_1982-10-15_EX1-38\n",
      "/Users/dlisla/Desktop/_temporary_pdfs_R_ BOT_1982-10-15_EX1-38/R_ BOT_1982-10-15_EX1-38.pdf created with size 0.14 GB\n",
      "\n",
      "*****\n",
      "R_ BOT_1982-10-15_EX1-38 is now /Volumes/fluffy/0_JeremysWorkingSpace/2019-10/board-of-regents_toOCR/2.OCRed/R_ BOT_1982-10-15_EX1-38\n",
      "*****\n",
      "\n"
     ]
    }
   ],
   "source": [
    "for dir_path in directories_to_convert_to_pdf_paths_list:\n",
    "    \n",
    "    # get list of *.tif to process\n",
    "    tif_paths_list = get_tif_paths_list(dir_path)\n",
    "    \n",
    "    number_of_tifs = len(tif_paths_list)\n",
    "    print(f'{number_of_tifs} *.tif to process in {dir_path}')\n",
    "    \n",
    "    # create temp directory\n",
    "    temp_pdf_dir_path = create_temporary_pdf_directory(dir_path)\n",
    "    \n",
    "    # OCR tifs into PDFs with progress bar\n",
    "    batch_ocr_tifs_into_pdfs(tif_paths_list, temp_pdf_dir_path)\n",
    "    \n",
    "    # concatenate PDFs into single file\n",
    "    combined_pdf_path = concatenate_pdfs(temp_pdf_dir_path)\n",
    "    \n",
    "    # copy combined PDF to copy directory\n",
    "    output_pdf_path = output_directory.joinpath(combined_pdf_path.name)\n",
    "    shutil.copy(combined_pdf_path, output_pdf_path)\n",
    "    \n",
    "    if output_pdf_path.is_file():  # move processed dir_path into output_directory\n",
    "        renamed_dir_path = output_directory.joinpath(dir_path.name)\n",
    "        dir_path.rename(renamed_dir_path)\n",
    "\n",
    "    print('')\n",
    "    print('*****')    \n",
    "    print(f'{dir_path.name} is now {renamed_dir_path}')\n",
    "    print('*****')\n",
    "    print('')"
   ]
  },
  {
   "cell_type": "code",
   "execution_count": 40,
   "metadata": {
    "code_folding": [
     0
    ]
   },
   "outputs": [],
   "source": [
    "# open output_directory_path for visual Quality Assurance\n",
    "!open {str(output_directory)}"
   ]
  },
  {
   "cell_type": "code",
   "execution_count": 4,
   "metadata": {},
   "outputs": [
    {
     "name": "stdout",
     "output_type": "stream",
     "text": [
      "121 _temporary_pdf_* directories deleted\n"
     ]
    }
   ],
   "source": [
    "# delete all '_temporary_pdfs_*' directories on the desktop\n",
    "all_temp_dir_paths = sorted(Path('/Users/dlisla/Desktop/').glob('_temporary_pdfs_*'))\n",
    "number_of_dir_paths = len(all_temp_dir_paths)\n",
    "for temp_dir_path in all_temp_dir_paths:\n",
    "    shutil.rmtree(temp_dir_path)\n",
    "\n",
    "all_temp_dir_paths = sorted(Path('/Users/dlisla/Desktop/').glob('_temporary_pdfs_*'))\n",
    "number_of_deleted_dir_paths = number_of_dir_paths - len(all_temp_dir_paths)\n",
    "\n",
    "print(f'{number_of_deleted_dir_paths} _temporary_pdf_* directories deleted')"
   ]
  },
  {
   "cell_type": "code",
   "execution_count": null,
   "metadata": {},
   "outputs": [],
   "source": []
  }
 ],
 "metadata": {
  "kernelspec": {
   "display_name": "Python 3",
   "language": "python",
   "name": "python3"
  },
  "language_info": {
   "codemirror_mode": {
    "name": "ipython",
    "version": 3
   },
   "file_extension": ".py",
   "mimetype": "text/x-python",
   "name": "python",
   "nbconvert_exporter": "python",
   "pygments_lexer": "ipython3",
   "version": "3.7.4"
  },
  "toc": {
   "base_numbering": 1,
   "nav_menu": {},
   "number_sections": true,
   "sideBar": true,
   "skip_h1_title": false,
   "title_cell": "Table of Contents",
   "title_sidebar": "Contents",
   "toc_cell": false,
   "toc_position": {},
   "toc_section_display": true,
   "toc_window_display": false
  }
 },
 "nbformat": 4,
 "nbformat_minor": 2
}
