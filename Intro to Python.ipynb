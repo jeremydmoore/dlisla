{
 "cells": [
  {
   "cell_type": "code",
   "execution_count": 1,
   "metadata": {},
   "outputs": [],
   "source": [
    "## imports\n",
    "from pathlib import Path"
   ]
  },
  {
   "cell_type": "code",
   "execution_count": 3,
   "metadata": {},
   "outputs": [
    {
     "name": "stdout",
     "output_type": "stream",
     "text": [
      "100,000\n"
     ]
    }
   ],
   "source": [
    "def place_value(number): \n",
    "    return (\"{:,}\".format(number)) \n",
    "  \n",
    "print(place_value(100000)) "
   ]
  },
  {
   "cell_type": "markdown",
   "metadata": {},
   "source": [
    "## This is Markdown Heading 2"
   ]
  },
  {
   "cell_type": "code",
   "execution_count": 4,
   "metadata": {},
   "outputs": [
    {
     "name": "stdout",
     "output_type": "stream",
     "text": [
      "/Users/dlisla/miniconda3/envs/dlisla/bin/python\r\n"
     ]
    }
   ],
   "source": [
    "!which python"
   ]
  },
  {
   "cell_type": "code",
   "execution_count": 1,
   "metadata": {},
   "outputs": [
    {
     "data": {
      "text/plain": [
       "2"
      ]
     },
     "execution_count": 1,
     "metadata": {},
     "output_type": "execute_result"
    }
   ],
   "source": [
    "# <- pound signs are used for comments\n",
    "# text after pound signs is ignored when the code is ran\n",
    "\n",
    "# python does math\n",
    "1 + 1 "
   ]
  },
  {
   "cell_type": "code",
   "execution_count": 2,
   "metadata": {},
   "outputs": [
    {
     "data": {
      "text/plain": [
       "7.0"
      ]
     },
     "execution_count": 2,
     "metadata": {},
     "output_type": "execute_result"
    }
   ],
   "source": [
    "35 / 5  # float division"
   ]
  },
  {
   "cell_type": "code",
   "execution_count": 3,
   "metadata": {},
   "outputs": [
    {
     "data": {
      "text/plain": [
       "7"
      ]
     },
     "execution_count": 3,
     "metadata": {},
     "output_type": "execute_result"
    }
   ],
   "source": [
    "35 // 5 # integer division"
   ]
  },
  {
   "cell_type": "code",
   "execution_count": 4,
   "metadata": {},
   "outputs": [
    {
     "data": {
      "text/plain": [
       "'0b11111111'"
      ]
     },
     "execution_count": 4,
     "metadata": {},
     "output_type": "execute_result"
    }
   ],
   "source": [
    "# convert to binary with a function!\n",
    "\n",
    "# what is 255 in binary?\n",
    "bin(255)"
   ]
  },
  {
   "cell_type": "code",
   "execution_count": 5,
   "metadata": {},
   "outputs": [
    {
     "data": {
      "text/plain": [
       "'0b100000000'"
      ]
     },
     "execution_count": 5,
     "metadata": {},
     "output_type": "execute_result"
    }
   ],
   "source": [
    "bin(256)"
   ]
  },
  {
   "cell_type": "code",
   "execution_count": 6,
   "metadata": {},
   "outputs": [
    {
     "data": {
      "text/plain": [
       "'0b10'"
      ]
     },
     "execution_count": 6,
     "metadata": {},
     "output_type": "execute_result"
    }
   ],
   "source": [
    "bin(2)"
   ]
  },
  {
   "cell_type": "code",
   "execution_count": 7,
   "metadata": {},
   "outputs": [
    {
     "data": {
      "text/plain": [
       "'0b11'"
      ]
     },
     "execution_count": 7,
     "metadata": {},
     "output_type": "execute_result"
    }
   ],
   "source": [
    "bin(3)"
   ]
  },
  {
   "cell_type": "code",
   "execution_count": 8,
   "metadata": {},
   "outputs": [
    {
     "data": {
      "text/plain": [
       "'0b1'"
      ]
     },
     "execution_count": 8,
     "metadata": {},
     "output_type": "execute_result"
    }
   ],
   "source": [
    "bin(1)"
   ]
  },
  {
   "cell_type": "code",
   "execution_count": 9,
   "metadata": {},
   "outputs": [
    {
     "data": {
      "text/plain": [
       "'0b100101'"
      ]
     },
     "execution_count": 9,
     "metadata": {},
     "output_type": "execute_result"
    }
   ],
   "source": [
    "bin(37)"
   ]
  },
  {
   "cell_type": "code",
   "execution_count": 10,
   "metadata": {},
   "outputs": [],
   "source": [
    "denominator = 4\n",
    "numerator = 7"
   ]
  },
  {
   "cell_type": "code",
   "execution_count": 13,
   "metadata": {},
   "outputs": [
    {
     "data": {
      "text/plain": [
       "0.3181818181818182"
      ]
     },
     "execution_count": 13,
     "metadata": {},
     "output_type": "execute_result"
    }
   ],
   "source": [
    "numerator / denominator"
   ]
  },
  {
   "cell_type": "code",
   "execution_count": 12,
   "metadata": {},
   "outputs": [],
   "source": [
    "denominator = 22"
   ]
  },
  {
   "cell_type": "code",
   "execution_count": 33,
   "metadata": {},
   "outputs": [],
   "source": [
    "def return_name(first, last):\n",
    "    \"\"\"\n",
    "    return_name takes in a first and last name\n",
    "    and returns the full name in Last, First order\n",
    "    and capitalization. Colin smells funny.\n",
    "    \"\"\"\n",
    "    first = first.capitalize()\n",
    "    last = last.capitalize()\n",
    "    full_name = f'{last}, {first}'\n",
    "    return full_name"
   ]
  },
  {
   "cell_type": "code",
   "execution_count": 22,
   "metadata": {},
   "outputs": [
    {
     "data": {
      "text/plain": [
       "'Moore, Jeremy'"
      ]
     },
     "execution_count": 22,
     "metadata": {},
     "output_type": "execute_result"
    }
   ],
   "source": [
    "return_name('jereMY', 'moORE')"
   ]
  },
  {
   "cell_type": "code",
   "execution_count": 24,
   "metadata": {},
   "outputs": [
    {
     "name": "stdout",
     "output_type": "stream",
     "text": [
      "7\n"
     ]
    }
   ],
   "source": [
    "print(numerator)"
   ]
  },
  {
   "cell_type": "code",
   "execution_count": 25,
   "metadata": {},
   "outputs": [
    {
     "data": {
      "text/plain": [
       "7"
      ]
     },
     "execution_count": 25,
     "metadata": {},
     "output_type": "execute_result"
    }
   ],
   "source": [
    "numerator"
   ]
  },
  {
   "cell_type": "code",
   "execution_count": 35,
   "metadata": {},
   "outputs": [],
   "source": [
    "first_names = ['matthew', 'mark', 'luke', 'john']\n",
    "last_names = ['sparrow', 'robin', 'bluejay', 'cougar']"
   ]
  },
  {
   "cell_type": "code",
   "execution_count": 37,
   "metadata": {},
   "outputs": [
    {
     "name": "stdout",
     "output_type": "stream",
     "text": [
      "[]\n"
     ]
    }
   ],
   "source": [
    "full_names = []\n",
    "print(full_names)"
   ]
  },
  {
   "cell_type": "code",
   "execution_count": 38,
   "metadata": {},
   "outputs": [
    {
     "name": "stdout",
     "output_type": "stream",
     "text": [
      "/Users/dlisla/Documents/GitHub/dlisla\r\n"
     ]
    }
   ],
   "source": [
    "!echo $PWD"
   ]
  },
  {
   "cell_type": "code",
   "execution_count": 39,
   "metadata": {},
   "outputs": [],
   "source": [
    "!mkdir test_for_colin && cd test_for_colin"
   ]
  },
  {
   "cell_type": "code",
   "execution_count": 44,
   "metadata": {},
   "outputs": [],
   "source": [
    "for i in range(24):\n",
    "    filename = f'{str(i).zfill(4)}.txt'\n",
    "    filepath = Path.cwd().joinpath(filename)\n",
    "    !touch {filepath}"
   ]
  },
  {
   "cell_type": "code",
   "execution_count": 46,
   "metadata": {},
   "outputs": [],
   "source": [
    "!mv *.txt test_for_colin"
   ]
  },
  {
   "cell_type": "code",
   "execution_count": 48,
   "metadata": {},
   "outputs": [
    {
     "name": "stdout",
     "output_type": "stream",
     "text": [
      "/Users/dlisla/Documents/GitHub/dlisla/test_for_colin\n"
     ]
    }
   ],
   "source": [
    "cd test_for_colin/"
   ]
  },
  {
   "cell_type": "code",
   "execution_count": 49,
   "metadata": {},
   "outputs": [
    {
     "name": "stdout",
     "output_type": "stream",
     "text": [
      "0000.txt  0003.txt  0006.txt  0009.txt  0012.txt  0015.txt  0018.txt  0021.txt\r\n",
      "0001.txt  0004.txt  0007.txt  0010.txt  0013.txt  0016.txt  0019.txt  0022.txt\r\n",
      "0002.txt  0005.txt  0008.txt  0011.txt  0014.txt  0017.txt  0020.txt  0023.txt\r\n"
     ]
    }
   ],
   "source": [
    "ls"
   ]
  },
  {
   "cell_type": "code",
   "execution_count": 50,
   "metadata": {},
   "outputs": [
    {
     "name": "stdout",
     "output_type": "stream",
     "text": [
      "/Users/dlisla/Documents/GitHub/dlisla/test_for_colin/0007.txt\n",
      "/Users/dlisla/Documents/GitHub/dlisla/test_for_colin/0013.txt\n",
      "/Users/dlisla/Documents/GitHub/dlisla/test_for_colin/0012.txt\n",
      "/Users/dlisla/Documents/GitHub/dlisla/test_for_colin/0006.txt\n",
      "/Users/dlisla/Documents/GitHub/dlisla/test_for_colin/0010.txt\n",
      "/Users/dlisla/Documents/GitHub/dlisla/test_for_colin/0004.txt\n",
      "/Users/dlisla/Documents/GitHub/dlisla/test_for_colin/0005.txt\n",
      "/Users/dlisla/Documents/GitHub/dlisla/test_for_colin/0011.txt\n",
      "/Users/dlisla/Documents/GitHub/dlisla/test_for_colin/0015.txt\n",
      "/Users/dlisla/Documents/GitHub/dlisla/test_for_colin/0001.txt\n",
      "/Users/dlisla/Documents/GitHub/dlisla/test_for_colin/0000.txt\n",
      "/Users/dlisla/Documents/GitHub/dlisla/test_for_colin/0014.txt\n",
      "/Users/dlisla/Documents/GitHub/dlisla/test_for_colin/0002.txt\n",
      "/Users/dlisla/Documents/GitHub/dlisla/test_for_colin/0016.txt\n",
      "/Users/dlisla/Documents/GitHub/dlisla/test_for_colin/0017.txt\n",
      "/Users/dlisla/Documents/GitHub/dlisla/test_for_colin/0003.txt\n",
      "/Users/dlisla/Documents/GitHub/dlisla/test_for_colin/0019.txt\n",
      "/Users/dlisla/Documents/GitHub/dlisla/test_for_colin/0018.txt\n",
      "/Users/dlisla/Documents/GitHub/dlisla/test_for_colin/0020.txt\n",
      "/Users/dlisla/Documents/GitHub/dlisla/test_for_colin/0008.txt\n",
      "/Users/dlisla/Documents/GitHub/dlisla/test_for_colin/0009.txt\n",
      "/Users/dlisla/Documents/GitHub/dlisla/test_for_colin/0021.txt\n",
      "/Users/dlisla/Documents/GitHub/dlisla/test_for_colin/0023.txt\n",
      "/Users/dlisla/Documents/GitHub/dlisla/test_for_colin/0022.txt\n"
     ]
    }
   ],
   "source": [
    "for text_file in Path.cwd().iterdir():\n",
    "    print(text_file)"
   ]
  },
  {
   "cell_type": "code",
   "execution_count": 52,
   "metadata": {},
   "outputs": [
    {
     "data": {
      "text/plain": [
       "[PosixPath('/Users/dlisla/Documents/GitHub/dlisla/test_for_colin/0000.txt'),\n",
       " PosixPath('/Users/dlisla/Documents/GitHub/dlisla/test_for_colin/0001.txt'),\n",
       " PosixPath('/Users/dlisla/Documents/GitHub/dlisla/test_for_colin/0002.txt'),\n",
       " PosixPath('/Users/dlisla/Documents/GitHub/dlisla/test_for_colin/0003.txt'),\n",
       " PosixPath('/Users/dlisla/Documents/GitHub/dlisla/test_for_colin/0004.txt'),\n",
       " PosixPath('/Users/dlisla/Documents/GitHub/dlisla/test_for_colin/0005.txt'),\n",
       " PosixPath('/Users/dlisla/Documents/GitHub/dlisla/test_for_colin/0006.txt'),\n",
       " PosixPath('/Users/dlisla/Documents/GitHub/dlisla/test_for_colin/0007.txt'),\n",
       " PosixPath('/Users/dlisla/Documents/GitHub/dlisla/test_for_colin/0008.txt'),\n",
       " PosixPath('/Users/dlisla/Documents/GitHub/dlisla/test_for_colin/0009.txt'),\n",
       " PosixPath('/Users/dlisla/Documents/GitHub/dlisla/test_for_colin/0010.txt'),\n",
       " PosixPath('/Users/dlisla/Documents/GitHub/dlisla/test_for_colin/0011.txt'),\n",
       " PosixPath('/Users/dlisla/Documents/GitHub/dlisla/test_for_colin/0012.txt'),\n",
       " PosixPath('/Users/dlisla/Documents/GitHub/dlisla/test_for_colin/0013.txt'),\n",
       " PosixPath('/Users/dlisla/Documents/GitHub/dlisla/test_for_colin/0014.txt'),\n",
       " PosixPath('/Users/dlisla/Documents/GitHub/dlisla/test_for_colin/0015.txt'),\n",
       " PosixPath('/Users/dlisla/Documents/GitHub/dlisla/test_for_colin/0016.txt'),\n",
       " PosixPath('/Users/dlisla/Documents/GitHub/dlisla/test_for_colin/0017.txt'),\n",
       " PosixPath('/Users/dlisla/Documents/GitHub/dlisla/test_for_colin/0018.txt'),\n",
       " PosixPath('/Users/dlisla/Documents/GitHub/dlisla/test_for_colin/0019.txt'),\n",
       " PosixPath('/Users/dlisla/Documents/GitHub/dlisla/test_for_colin/0020.txt'),\n",
       " PosixPath('/Users/dlisla/Documents/GitHub/dlisla/test_for_colin/0021.txt'),\n",
       " PosixPath('/Users/dlisla/Documents/GitHub/dlisla/test_for_colin/0022.txt'),\n",
       " PosixPath('/Users/dlisla/Documents/GitHub/dlisla/test_for_colin/0023.txt')]"
      ]
     },
     "execution_count": 52,
     "metadata": {},
     "output_type": "execute_result"
    }
   ],
   "source": [
    "text_files_list = sorted([x for x in Path.cwd().iterdir() if x.is_file()])\n",
    "text_files_list"
   ]
  },
  {
   "cell_type": "code",
   "execution_count": 58,
   "metadata": {},
   "outputs": [
    {
     "data": {
      "text/plain": [
       "47"
      ]
     },
     "execution_count": 58,
     "metadata": {},
     "output_type": "execute_result"
    }
   ],
   "source": [
    "# times 2 for each side of paper, then subtract 1 because it's the front\n",
    "last_page_number = len(text_files_list) * 2 - 1\n",
    "last_page_number"
   ]
  },
  {
   "cell_type": "markdown",
   "metadata": {},
   "source": [
    "## how to rename pages\n",
    "\n",
    "To get odd page numbers starting at 1, take existing page numbers, multiply by 2, then add 1\n",
    "\n",
    "To get even, add 2 at the end"
   ]
  },
  {
   "cell_type": "code",
   "execution_count": 53,
   "metadata": {
    "code_folding": []
   },
   "outputs": [
    {
     "name": "stdout",
     "output_type": "stream",
     "text": [
      "/Users/dlisla/Documents/GitHub/dlisla/test_for_colin/0023.txt\n",
      "/Users/dlisla/Documents/GitHub/dlisla/test_for_colin/0022.txt\n",
      "/Users/dlisla/Documents/GitHub/dlisla/test_for_colin/0021.txt\n",
      "/Users/dlisla/Documents/GitHub/dlisla/test_for_colin/0020.txt\n",
      "/Users/dlisla/Documents/GitHub/dlisla/test_for_colin/0019.txt\n",
      "/Users/dlisla/Documents/GitHub/dlisla/test_for_colin/0018.txt\n",
      "/Users/dlisla/Documents/GitHub/dlisla/test_for_colin/0017.txt\n",
      "/Users/dlisla/Documents/GitHub/dlisla/test_for_colin/0016.txt\n",
      "/Users/dlisla/Documents/GitHub/dlisla/test_for_colin/0015.txt\n",
      "/Users/dlisla/Documents/GitHub/dlisla/test_for_colin/0014.txt\n",
      "/Users/dlisla/Documents/GitHub/dlisla/test_for_colin/0013.txt\n",
      "/Users/dlisla/Documents/GitHub/dlisla/test_for_colin/0012.txt\n",
      "/Users/dlisla/Documents/GitHub/dlisla/test_for_colin/0011.txt\n",
      "/Users/dlisla/Documents/GitHub/dlisla/test_for_colin/0010.txt\n",
      "/Users/dlisla/Documents/GitHub/dlisla/test_for_colin/0009.txt\n",
      "/Users/dlisla/Documents/GitHub/dlisla/test_for_colin/0008.txt\n",
      "/Users/dlisla/Documents/GitHub/dlisla/test_for_colin/0007.txt\n",
      "/Users/dlisla/Documents/GitHub/dlisla/test_for_colin/0006.txt\n",
      "/Users/dlisla/Documents/GitHub/dlisla/test_for_colin/0005.txt\n",
      "/Users/dlisla/Documents/GitHub/dlisla/test_for_colin/0004.txt\n",
      "/Users/dlisla/Documents/GitHub/dlisla/test_for_colin/0003.txt\n",
      "/Users/dlisla/Documents/GitHub/dlisla/test_for_colin/0002.txt\n",
      "/Users/dlisla/Documents/GitHub/dlisla/test_for_colin/0001.txt\n",
      "/Users/dlisla/Documents/GitHub/dlisla/test_for_colin/0000.txt\n"
     ]
    }
   ],
   "source": [
    "for text_file_path in text_files_list[::-1]:\n",
    "    # file name is zero-padded out to 4 digits\n",
    "    pa\n",
    "    "
   ]
  },
  {
   "cell_type": "code",
   "execution_count": 62,
   "metadata": {},
   "outputs": [
    {
     "name": "stdout",
     "output_type": "stream",
     "text": [
      "375.0 dollars\n"
     ]
    }
   ],
   "source": [
    "print(f'{round(((2.5 * 1000) / 60) * 9, 2)} dollars')"
   ]
  },
  {
   "cell_type": "markdown",
   "metadata": {},
   "source": [
    "## Time and Dollars Saved by AutoCropping"
   ]
  },
  {
   "cell_type": "code",
   "execution_count": 2,
   "metadata": {
    "code_folding": []
   },
   "outputs": [
    {
     "name": "stdout",
     "output_type": "stream",
     "text": [
      "80 seconds,\n",
      "1.33 minutes, or\n",
      "0.02 hours saved per item\n"
     ]
    }
   ],
   "source": [
    "# time saved per item\n",
    "autocrop_and_streamdeck_time = 10\n",
    "manual_crop_time = 90\n",
    "\n",
    "time_saved_seconds = manual_crop_time - autocrop_and_streamdeck_time\n",
    "time_saved_minutes = time_saved_seconds / 60\n",
    "time_saved_hours = time_saved_minutes / 60\n",
    "print(f'{time_saved_seconds} seconds,\\n{round(time_saved_minutes, 2)} minutes, or\\n{round(time_saved_hours, 2)} hours saved per item')"
   ]
  },
  {
   "cell_type": "code",
   "execution_count": 5,
   "metadata": {
    "code_folding": []
   },
   "outputs": [
    {
     "name": "stdout",
     "output_type": "stream",
     "text": [
      "166.67 hours and $1500 saved on basketball programs\n"
     ]
    }
   ],
   "source": [
    "# basketball programs\n",
    "time_saved_on_basketball = time_saved_hours * 7500\n",
    "dollars_saved_on_basketball = time_saved_on_basketball * 9  # student wage is $9/hr\n",
    "print(f'{round(time_saved_on_basketball, 2)} hours and ${place_value(int(dollars_saved_on_basketball))} saved on basketball programs')"
   ]
  },
  {
   "cell_type": "code",
   "execution_count": 6,
   "metadata": {
    "code_folding": []
   },
   "outputs": [
    {
     "ename": "NameError",
     "evalue": "name 'place_value' is not defined",
     "output_type": "error",
     "traceback": [
      "\u001b[0;31m---------------------------------------------------------------------------\u001b[0m",
      "\u001b[0;31mNameError\u001b[0m                                 Traceback (most recent call last)",
      "\u001b[0;32m<ipython-input-6-86c3e22b9dd4>\u001b[0m in \u001b[0;36m<module>\u001b[0;34m\u001b[0m\n\u001b[1;32m      2\u001b[0m \u001b[0mtime_saved_on_photo_service_negatives\u001b[0m \u001b[0;34m=\u001b[0m \u001b[0mtime_saved_hours\u001b[0m \u001b[0;34m*\u001b[0m \u001b[0;36m500000\u001b[0m\u001b[0;34m\u001b[0m\u001b[0;34m\u001b[0m\u001b[0m\n\u001b[1;32m      3\u001b[0m \u001b[0mdollars_saved_on_photo_service_negatives\u001b[0m \u001b[0;34m=\u001b[0m \u001b[0mtime_saved_on_photo_service_negatives\u001b[0m \u001b[0;34m*\u001b[0m \u001b[0;36m9\u001b[0m  \u001b[0;31m# student wage is $9/hr\u001b[0m\u001b[0;34m\u001b[0m\u001b[0;34m\u001b[0m\u001b[0m\n\u001b[0;32m----> 4\u001b[0;31m \u001b[0mprint\u001b[0m\u001b[0;34m(\u001b[0m\u001b[0;34mf'{place_value(round(time_saved_on_photo_service_negatives, 2))} hours and ${place_value(int(dollars_saved_on_photo_service_negatives))} saved on Photo Service Negatives'\u001b[0m\u001b[0;34m)\u001b[0m\u001b[0;34m\u001b[0m\u001b[0;34m\u001b[0m\u001b[0m\n\u001b[0m",
      "\u001b[0;31mNameError\u001b[0m: name 'place_value' is not defined"
     ]
    }
   ],
   "source": [
    "# photo service negatives\n",
    "time_saved_on_photo_service_negatives = time_saved_hours * 500000\n",
    "dollars_saved_on_photo_service_negatives = time_saved_on_photo_service_negatives * 9  # student wage is $9/hr\n",
    "print(f'{place_value(round(time_saved_on_photo_service_negatives, 2))} hours and ${place_value(int(dollars_saved_on_photo_service_negatives))} saved on Photo Service Negatives')"
   ]
  },
  {
   "cell_type": "code",
   "execution_count": 138,
   "metadata": {
    "code_folding": []
   },
   "outputs": [
    {
     "name": "stdout",
     "output_type": "stream",
     "text": [
      "14,285.71 hours and $128,571 saved on Photo Service Negatives using Jeremy's kmeans thresholding algorithm\n"
     ]
    }
   ],
   "source": [
    "# time saved using custom k-means threshold compared to Otsu threshold based on test\n",
    "# https://nbviewer.jupyter.org/github/photosbyjeremy/utk_BennettPhotographCollection/blob/master/compare%20K-Means%20with%20Otsu.ipynb\n",
    "successful_kmeans_crops = 14\n",
    "successful_otsu_crops = 9\n",
    "total_crops = 14\n",
    "otsu_to_kmeans_success_ratio = 9 / 14\n",
    "time_saved_with_kmeans = time_saved_on_photo_service_negatives * otsu_to_kmeans_success_ratio\n",
    "dollars_saved_with_kmeans = time_saved_with_kmeans * 9. # student wage is $9/hr\n",
    "print(f\"{place_value(round(time_saved_with_kmeans, 2))} hours and ${place_value(int(dollars_saved_with_kmeans))} saved on Photo Service Negatives using Jeremy's kmeans thresholding algorithm\")"
   ]
  },
  {
   "cell_type": "code",
   "execution_count": null,
   "metadata": {},
   "outputs": [],
   "source": []
  }
 ],
 "metadata": {
  "kernelspec": {
   "display_name": "Python 3",
   "language": "python",
   "name": "python3"
  },
  "language_info": {
   "codemirror_mode": {
    "name": "ipython",
    "version": 3
   },
   "file_extension": ".py",
   "mimetype": "text/x-python",
   "name": "python",
   "nbconvert_exporter": "python",
   "pygments_lexer": "ipython3",
   "version": "3.7.3"
  }
 },
 "nbformat": 4,
 "nbformat_minor": 2
}
