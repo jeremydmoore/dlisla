{
 "cells": [
  {
   "cell_type": "code",
   "execution_count": 6,
   "metadata": {},
   "outputs": [],
   "source": [
    "# for the future theses, I need a utility that will identify the sheet-feed to-be-replaced BEFORE I run ScanTailor\n",
    "# Renaming the files afterwards means the relationship of final output to original input file is lost\n",
    "\n",
    "# So . . . I should write a script that identifies the \"sheet-feed replace\" images\n",
    "# It could use computer vision to identify the \"replace\" pages\n",
    "# granted . . . at what point do I just write my own book processing software (can I find a grant?)"
   ]
  },
  {
   "cell_type": "code",
   "execution_count": 1,
   "metadata": {},
   "outputs": [],
   "source": [
    "# imports\n",
    "import shutil\n",
    "from pathlib import Path\n",
    "\n",
    "from ipywidgets import IntProgress, Label, VBox\n",
    "from IPython.display import display"
   ]
  },
  {
   "cell_type": "code",
   "execution_count": 2,
   "metadata": {},
   "outputs": [
    {
     "data": {
      "text/plain": [
       "108"
      ]
     },
     "execution_count": 2,
     "metadata": {},
     "output_type": "execute_result"
    }
   ],
   "source": [
    "root_dir_path = Path('/Users/dlisla/Pictures/utk_ProjectCeres/0.toScanTailor/StephensonJohn_1973')\n",
    "input_dir_path = root_dir_path.joinpath('out')  # our input is ScanTailor's output\n",
    "\n",
    "tif_path_list = sorted(input_dir_path.glob('*.tif'))\n",
    "len(tif_path_list)"
   ]
  },
  {
   "cell_type": "code",
   "execution_count": 3,
   "metadata": {},
   "outputs": [
    {
     "data": {
      "text/plain": [
       "[PosixPath('/Users/dlisla/Pictures/utk_ProjectCeres/0.toScanTailor/StephensonJohn_1973/out/StephensonJohn_001.tif'),\n",
       " PosixPath('/Users/dlisla/Pictures/utk_ProjectCeres/0.toScanTailor/StephensonJohn_1973/out/StephensonJohn_009.tif'),\n",
       " PosixPath('/Users/dlisla/Pictures/utk_ProjectCeres/0.toScanTailor/StephensonJohn_1973/out/StephensonJohn_017.tif'),\n",
       " PosixPath('/Users/dlisla/Pictures/utk_ProjectCeres/0.toScanTailor/StephensonJohn_1973/out/StephensonJohn_1973_0008.tif'),\n",
       " PosixPath('/Users/dlisla/Pictures/utk_ProjectCeres/0.toScanTailor/StephensonJohn_1973/out/StephensonJohn_1973_0016.tif'),\n",
       " PosixPath('/Users/dlisla/Pictures/utk_ProjectCeres/0.toScanTailor/StephensonJohn_1973/out/StephensonJohn_1973_0024.tif'),\n",
       " PosixPath('/Users/dlisla/Pictures/utk_ProjectCeres/0.toScanTailor/StephensonJohn_1973/out/StephensonJohn_1973_0037.tif'),\n",
       " PosixPath('/Users/dlisla/Pictures/utk_ProjectCeres/0.toScanTailor/StephensonJohn_1973/out/StephensonJohn_1973_0047.tif'),\n",
       " PosixPath('/Users/dlisla/Pictures/utk_ProjectCeres/0.toScanTailor/StephensonJohn_1973/out/StephensonJohn_1973_0062.tif'),\n",
       " PosixPath('/Users/dlisla/Pictures/utk_ProjectCeres/0.toScanTailor/StephensonJohn_1973/out/StephensonJohn_1973_0073.tif'),\n",
       " PosixPath('/Users/dlisla/Pictures/utk_ProjectCeres/0.toScanTailor/StephensonJohn_1973/out/StephensonJohn_1973_0081.tif'),\n",
       " PosixPath('/Users/dlisla/Pictures/utk_ProjectCeres/0.toScanTailor/StephensonJohn_1973/out/StephensonJohn_1973_0089.tif'),\n",
       " PosixPath('/Users/dlisla/Pictures/utk_ProjectCeres/0.toScanTailor/StephensonJohn_1973/out/StephensonJohn_1973_0097.tif'),\n",
       " PosixPath('/Users/dlisla/Pictures/utk_ProjectCeres/0.toScanTailor/StephensonJohn_1973/out/StephensonJohn_1973_0105.tif')]"
      ]
     },
     "execution_count": 3,
     "metadata": {},
     "output_type": "execute_result"
    }
   ],
   "source": [
    "tif_path_list[::8]"
   ]
  },
  {
   "cell_type": "code",
   "execution_count": 4,
   "metadata": {},
   "outputs": [
    {
     "data": {
      "text/plain": [
       "91"
      ]
     },
     "execution_count": 4,
     "metadata": {},
     "output_type": "execute_result"
    }
   ],
   "source": [
    "# identifier can be pulled from the image directory (in this case: root_dir_path.name)\n",
    "identifier_path_list = sorted(input_dir_path.glob(f'{root_dir_path.name}*.tif'))\n",
    "len(identifier_path_list)"
   ]
  },
  {
   "cell_type": "code",
   "execution_count": 5,
   "metadata": {
    "scrolled": true
   },
   "outputs": [
    {
     "data": {
      "text/plain": [
       "17"
      ]
     },
     "execution_count": 5,
     "metadata": {},
     "output_type": "execute_result"
    }
   ],
   "source": [
    "missing_identifier_list = []  # what numbers are we missing \n",
    "for index in range(len(tif_path_list)):\n",
    "    index += 1  # filenames start counting at 1, but computers at 0\n",
    "    test_tif_name = f'{root_dir_path.name}_{str(index).zfill(4)}.tif'  # zeropad to 4 digits\n",
    "    test_tif_path = input_dir_path.joinpath(test_tif_name)\n",
    "    if not test_tif_path.is_file():  # we're missing this image\n",
    "        missing_identifier_list.append(test_tif_path)\n",
    "len(missing_identifier_list)"
   ]
  },
  {
   "cell_type": "code",
   "execution_count": 6,
   "metadata": {},
   "outputs": [
    {
     "data": {
      "text/plain": [
       "17"
      ]
     },
     "execution_count": 6,
     "metadata": {},
     "output_type": "execute_result"
    }
   ],
   "source": [
    "replacement_tif_path_list = sorted([x for x in tif_path_list if '1973' not in x.name])\n",
    "len(replacement_tif_path_list)"
   ]
  },
  {
   "cell_type": "code",
   "execution_count": 7,
   "metadata": {},
   "outputs": [
    {
     "name": "stdout",
     "output_type": "stream",
     "text": [
      "\tCopy from ------------> Copy to\n",
      "StephensonJohn_001.tif --> StephensonJohn_1973_0026.tif\n",
      "StephensonJohn_002.tif --> StephensonJohn_1973_0028.tif\n",
      "StephensonJohn_003.tif --> StephensonJohn_1973_0031.tif\n",
      "StephensonJohn_004.tif --> StephensonJohn_1973_0033.tif\n",
      "StephensonJohn_005.tif --> StephensonJohn_1973_0035.tif\n",
      "StephensonJohn_006.tif --> StephensonJohn_1973_0043.tif\n",
      "StephensonJohn_007.tif --> StephensonJohn_1973_0046.tif\n",
      "StephensonJohn_008.tif --> StephensonJohn_1973_0049.tif\n",
      "StephensonJohn_009.tif --> StephensonJohn_1973_0053.tif\n",
      "StephensonJohn_010.tif --> StephensonJohn_1973_0055.tif\n",
      "StephensonJohn_011.tif --> StephensonJohn_1973_0057.tif\n",
      "StephensonJohn_012.tif --> StephensonJohn_1973_0058.tif\n",
      "StephensonJohn_013.tif --> StephensonJohn_1973_0059.tif\n",
      "StephensonJohn_014.tif --> StephensonJohn_1973_0060.tif\n",
      "StephensonJohn_015.tif --> StephensonJohn_1973_0063.tif\n",
      "StephensonJohn_016.tif --> StephensonJohn_1973_0065.tif\n",
      "StephensonJohn_017.tif --> StephensonJohn_1973_0067.tif\n"
     ]
    }
   ],
   "source": [
    "print('\\tCopy from ------------> Copy to')\n",
    "for index, copy_to_path in enumerate(missing_identifier_list):\n",
    "    copy_from_path = replacement_tif_path_list[index]\n",
    "    print(f'{copy_from_path.name} --> {copy_to_path.name}')"
   ]
  },
  {
   "cell_type": "code",
   "execution_count": 8,
   "metadata": {},
   "outputs": [],
   "source": [
    "for index, copy_to_path in enumerate(missing_identifier_list):\n",
    "    copy_from_path = replacement_tif_path_list[index]\n",
    "    shutil.copy(copy_from_path, copy_to_path)"
   ]
  },
  {
   "cell_type": "code",
   "execution_count": null,
   "metadata": {},
   "outputs": [],
   "source": []
  }
 ],
 "metadata": {
  "kernelspec": {
   "display_name": "Python 3",
   "language": "python",
   "name": "python3"
  },
  "language_info": {
   "codemirror_mode": {
    "name": "ipython",
    "version": 3
   },
   "file_extension": ".py",
   "mimetype": "text/x-python",
   "name": "python",
   "nbconvert_exporter": "python",
   "pygments_lexer": "ipython3",
   "version": "3.7.7"
  }
 },
 "nbformat": 4,
 "nbformat_minor": 4
}
