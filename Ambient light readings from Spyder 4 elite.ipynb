{
 "cells": [
  {
   "cell_type": "markdown",
   "metadata": {},
   "source": [
    "# Get ambient light reading from Spyder 4 Elite"
   ]
  },
  {
   "cell_type": "markdown",
   "metadata": {},
   "source": [
    "## setup Spyder 4 Elite with argyll-cms"
   ]
  },
  {
   "cell_type": "code",
   "execution_count": 8,
   "metadata": {},
   "outputs": [
    {
     "name": "stdout",
     "output_type": "stream",
     "text": [
      "test\r\n"
     ]
    }
   ],
   "source": [
    "# to run any command as if you're on the command-line, just put an exclamation point at the beginning\n",
    "!echo \"test\""
   ]
  },
  {
   "cell_type": "code",
   "execution_count": 9,
   "metadata": {},
   "outputs": [
    {
     "name": "stdout",
     "output_type": "stream",
     "text": [
      "test\r\n"
     ]
    }
   ],
   "source": [
    "# use variables on the commandline with {variable}\n",
    "example = 'test'\n",
    "!echo {example}"
   ]
  },
  {
   "cell_type": "code",
   "execution_count": 13,
   "metadata": {
    "scrolled": true
   },
   "outputs": [
    {
     "name": "stdout",
     "output_type": "stream",
     "text": [
      "Loading file '/Volumes/Datacolor/Data/Setup.exe'..done\n",
      "'/Volumes/Datacolor/Data/Setup.exe' seems to be a VISE archive\n",
      "Input file '/Volumes/Datacolor/Data/Setup.exe' is a VISE archive file base 0x10008\n",
      "Failed to locate file 'CVSpyder.dll' in VISE archive\n",
      "Input file '/Volumes/Datacolor/Data/Setup.exe' is a VISE archive file base 0x10008\n",
      "Located driver entry 'dccmtr.dll' at offset 0x78923\n",
      "Located driver file 'dccmtr.dll' at offset 0xe6a21\n",
      "Located and decompressed file 'dccmtr.dll' from VISE archive\n",
      "Returning 'dccmtr.dll' length 106496 from '/Volumes/Datacolor/Data/Setup.exe'\n",
      "Failed to locate Spyder 2 firmware in 'dccmtr.dll'\n",
      "Returning 'spyd4cal.bin' length 1968 from 'dccmtr.dll'\n",
      "Wrote '/Users/dlisla/Library/Application Support/ArgyllCMS/spyd4cal.bin' 1968 bytes\n"
     ]
    }
   ],
   "source": [
    "# use argyllCMS oeminst to install necessary Spyder 4 Elite tools from the CD-Rom\n",
    "# https://www.argyllcms.com/doc/instruments.html#spyd4\n",
    "# windows files are hidden on macOS\n",
    "!oeminst -v /Volumes/Datacolor/Data/Setup.exe"
   ]
  },
  {
   "cell_type": "code",
   "execution_count": null,
   "metadata": {},
   "outputs": [],
   "source": [
    "# should get /Volumes/Datacolor/Data/Setup.exe from CD-ROM and move into Google Drive for safe-keeping\n",
    "##  *** DO WE NEED ANYTHING ELSE, OTHER THAN Setup.exe for this to work?"
   ]
  },
  {
   "cell_type": "markdown",
   "metadata": {},
   "source": [
    "## Get 1 ambient light reading"
   ]
  },
  {
   "cell_type": "code",
   "execution_count": null,
   "metadata": {},
   "outputs": [],
   "source": []
  },
  {
   "cell_type": "markdown",
   "metadata": {},
   "source": [
    "## Get 2 ambient light readings and add them to DataFrame"
   ]
  },
  {
   "cell_type": "code",
   "execution_count": null,
   "metadata": {},
   "outputs": [],
   "source": []
  },
  {
   "cell_type": "markdown",
   "metadata": {},
   "source": [
    "## Sort ambient light readings by time and value"
   ]
  },
  {
   "cell_type": "code",
   "execution_count": null,
   "metadata": {},
   "outputs": [],
   "source": []
  },
  {
   "cell_type": "markdown",
   "metadata": {},
   "source": [
    "## Get 10 ambient light readings and add them to DataFrame"
   ]
  },
  {
   "cell_type": "code",
   "execution_count": null,
   "metadata": {},
   "outputs": [],
   "source": []
  }
 ],
 "metadata": {
  "kernelspec": {
   "display_name": "Python 3",
   "language": "python",
   "name": "python3"
  },
  "language_info": {
   "codemirror_mode": {
    "name": "ipython",
    "version": 3
   },
   "file_extension": ".py",
   "mimetype": "text/x-python",
   "name": "python",
   "nbconvert_exporter": "python",
   "pygments_lexer": "ipython3",
   "version": "3.7.3"
  },
  "toc": {
   "base_numbering": 1,
   "nav_menu": {},
   "number_sections": true,
   "sideBar": true,
   "skip_h1_title": false,
   "title_cell": "Table of Contents",
   "title_sidebar": "Contents",
   "toc_cell": false,
   "toc_position": {},
   "toc_section_display": true,
   "toc_window_display": false
  }
 },
 "nbformat": 4,
 "nbformat_minor": 2
}
