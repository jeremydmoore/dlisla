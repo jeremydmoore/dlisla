{
 "cells": [
  {
   "cell_type": "markdown",
   "metadata": {},
   "source": [
    "# UT Record -- Batch Resize & OCR ScanTailor Individual Volumes"
   ]
  },
  {
   "cell_type": "code",
   "execution_count": null,
   "metadata": {},
   "outputs": [],
   "source": [
    "# magic that lets us plot directly in the notebook\n",
    "%matplotlib inline\n",
    "\n",
    "# imports\n",
    "import shutil\n",
    "from pathlib import Path\n",
    "\n",
    "import matplotlib.pyplot as plt\n",
    "import pandas as pd\n",
    "from ipywidgets import IntProgress, Label, VBox\n",
    "from IPython.display import display\n",
    "from PIL import Image\n",
    "\n",
    "# import Jeremy's code from img_qc/img_qc.py\n",
    "import img_qc.img_qc as img_qc  # don't want to have to type it twice so import it as img_qc"
   ]
  },
  {
   "cell_type": "code",
   "execution_count": null,
   "metadata": {},
   "outputs": [],
   "source": [
    "# matplotlib & pandas options\n",
    "\n",
    "# parameters for matplotlib to increase our default figure size -- NOTE: figure sizes are in INCHES\n",
    "plt.rcParams[\"figure.figsize\"] = (12,12)  # set as needed for your screen and eyes\n",
    "\n",
    "# on a high-dpi monitor this will increase the quality of plots on-screen\n",
    "# %config InlineBackend.figure_format = 'retina'\n",
    "\n",
    "# set max_colwidth for a wider column so data isn't truncated\n",
    "pd.set_option('max_colwidth', 240)"
   ]
  },
  {
   "cell_type": "code",
   "execution_count": null,
   "metadata": {},
   "outputs": [],
   "source": [
    "# set network path and get list of directories to process\n",
    "data_directory = Path('/Volumes/fluffy/0_ActiveProjects/utk_UTRecord/')\n",
    "input_directory = data_directory.joinpath('2.toResizeAndPDF')\n",
    "output_directory = data_directory.joinpath('3.toQC')\n",
    "\n",
    "directories_to_convert_to_pdf_paths_list = sorted([x for x in input_directory.iterdir() if x.is_dir()])\n",
    "\n",
    "print(f'{len(directories_to_convert_to_pdf_paths_list)} directories to process')"
   ]
  },
  {
   "cell_type": "code",
   "execution_count": null,
   "metadata": {},
   "outputs": [],
   "source": [
    "# find all ScanTailor cache directories\n",
    "cache_directory_paths_list = sorted(input_directory.glob('**/cache'))\n",
    "print(f'Number of cache directories: {len(cache_directory_paths_list)}')"
   ]
  },
  {
   "cell_type": "code",
   "execution_count": null,
   "metadata": {},
   "outputs": [],
   "source": [
    "# delete all ScanTailor cache directories\n",
    "for cache_directory_path in cache_directory_paths_list:\n",
    "    shutil.rmtree(cache_directory_path)\n",
    "cache_directory_paths_list = sorted(input_directory.glob('**/cache'))\n",
    "print(f'Number of cache directories: {len(cache_directory_paths_list)}')"
   ]
  },
  {
   "cell_type": "code",
   "execution_count": null,
   "metadata": {},
   "outputs": [],
   "source": [
    "# run Jeremy's function to load metadata using ExifTool into\n",
    "# a DataFrame (think Excel: rows & colummns of data)\n",
    "images_df = img_qc.get_images_df(input_directory, 'tif')\n",
    "\n",
    "images_df"
   ]
  },
  {
   "cell_type": "code",
   "execution_count": null,
   "metadata": {},
   "outputs": [],
   "source": [
    "# unique resolutions\n",
    "images_df['EXIF:XResolution'].unique()"
   ]
  },
  {
   "cell_type": "code",
   "execution_count": null,
   "metadata": {},
   "outputs": [],
   "source": [
    "# first 5 unique widths\n",
    "sorted(images_df['EXIF:ImageWidth'].unique())[:5]"
   ]
  },
  {
   "cell_type": "code",
   "execution_count": null,
   "metadata": {},
   "outputs": [],
   "source": [
    "# get the horizontal images; where width > height\n",
    "horizontal_df = images_df[images_df['EXIF:ImageWidth'] > images_df['EXIF:ImageHeight']]\n",
    "\n",
    "if len(horizontal_df.index) > 0:  # if there are any horizontal images\n",
    "    for sourcefile in horizontal_df['SourceFile']:\n",
    "        # print the full path to the image\n",
    "        print(sourcefile)\n",
    "else:\n",
    "    print('No horizontal images')"
   ]
  },
  {
   "cell_type": "code",
   "execution_count": null,
   "metadata": {},
   "outputs": [],
   "source": [
    "# get all of the directories\n",
    "images_df['File:Directory'].unique()"
   ]
  },
  {
   "cell_type": "code",
   "execution_count": null,
   "metadata": {},
   "outputs": [],
   "source": [
    "# get dataframe of first image directory\n",
    "image_directory_df = images_df[images_df['File:Directory'] == sorted(images_df['File:Directory'].unique())[0]]\n",
    "\n",
    "image_directory_df['File:FileName']"
   ]
  },
  {
   "cell_type": "code",
   "execution_count": null,
   "metadata": {},
   "outputs": [],
   "source": [
    "image_directory_df['EXIF:ImageWidth'].unique()"
   ]
  },
  {
   "cell_type": "code",
   "execution_count": null,
   "metadata": {},
   "outputs": [],
   "source": [
    "small_images_df = image_directory_df[image_directory_df['EXIF:ImageWidth'] == 2534]"
   ]
  },
  {
   "cell_type": "code",
   "execution_count": null,
   "metadata": {},
   "outputs": [],
   "source": [
    "image_path = sorted(small_images_df['SourceFile'].tolist())[0]\n",
    "image_path"
   ]
  },
  {
   "cell_type": "code",
   "execution_count": null,
   "metadata": {},
   "outputs": [],
   "source": [
    "# open image\n",
    "image = Image.open(image_path)\n",
    "print(image)\n",
    "print('')\n",
    "\n",
    "print(f'image.format: {image.format}')\n",
    "print(f'image.size: {image.size}')  # (width, height)\n",
    "print(f'image.mode: {image.mode}')\n",
    "print('')\n",
    "\n",
    "for index, data in enumerate(image.info):\n",
    "    print(f'{index} (key): {data}')\n",
    "    print(f'{index} (value): {image.info[data]}')\n",
    "    print('')"
   ]
  },
  {
   "cell_type": "code",
   "execution_count": null,
   "metadata": {},
   "outputs": [],
   "source": [
    "plt.imshow(image)"
   ]
  },
  {
   "cell_type": "code",
   "execution_count": null,
   "metadata": {},
   "outputs": [],
   "source": [
    "# loop over sourcefiles and display them\n",
    "for sourcefile in small_images_df['SourceFile']:\n",
    "    \n",
    "    # open image\n",
    "    small_image = Image.open(sourcefile)\n",
    "    \n",
    "    plt.figure()\n",
    "    # display image\n",
    "    plt.imshow(small_image)"
   ]
  },
  {
   "cell_type": "code",
   "execution_count": null,
   "metadata": {},
   "outputs": [],
   "source": []
  }
 ],
 "metadata": {
  "kernelspec": {
   "display_name": "Python 3",
   "language": "python",
   "name": "python3"
  },
  "language_info": {
   "codemirror_mode": {
    "name": "ipython",
    "version": 3
   },
   "file_extension": ".py",
   "mimetype": "text/x-python",
   "name": "python",
   "nbconvert_exporter": "python",
   "pygments_lexer": "ipython3",
   "version": "3.7.4"
  },
  "toc": {
   "base_numbering": 1,
   "nav_menu": {},
   "number_sections": true,
   "sideBar": true,
   "skip_h1_title": false,
   "title_cell": "Table of Contents",
   "title_sidebar": "Contents",
   "toc_cell": false,
   "toc_position": {},
   "toc_section_display": true,
   "toc_window_display": false
  }
 },
 "nbformat": 4,
 "nbformat_minor": 2
}
