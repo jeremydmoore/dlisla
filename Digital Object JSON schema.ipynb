{
 "cells": [
  {
   "cell_type": "code",
   "execution_count": 1,
   "metadata": {},
   "outputs": [],
   "source": [
    "# Digital Object JSON schema for Manifest file"
   ]
  },
  {
   "cell_type": "code",
   "execution_count": 7,
   "metadata": {},
   "outputs": [
    {
     "data": {
      "text/plain": [
       "{'$schema': 'http://json-schema.org/draft-07/schema#',\n",
       " '$id': 'unknown',\n",
       " 'title': 'Digital Object',\n",
       " 'description': \"A digital object for the library's repository\",\n",
       " 'type': 'object',\n",
       " 'properties': {'local_identifier': {'description': 'The local identifier used for this digital object',\n",
       "   'type': 'string'},\n",
       "  'object_type': {'description': 'from options: collection, item, part?',\n",
       "   'type': 'string'}},\n",
       " 'required': ['local_identifier', 'object_type']}"
      ]
     },
     "execution_count": 7,
     "metadata": {},
     "output_type": "execute_result"
    }
   ],
   "source": [
    "{\n",
    "    \"$schema\": \"http://json-schema.org/draft-07/schema#\",\n",
    "    \"$id\": \"digital_object\",\n",
    "    \"title\": \"Digital Object\",\n",
    "    \"description\": \"A digital object for the library's repository\",\n",
    "    \"type\": \"object\",\n",
    "    \"properties\": {\n",
    "        \"local_identifier\": {\n",
    "            \"description\": \"The local identifier used for this digital object\",\n",
    "            \"type\": \"string\",\n",
    "        },\n",
    "        \"object_type\": {\n",
    "            \"description\": \"from options: collection, item, part?\",\n",
    "            \"type\": \"string\",\n",
    "        },\n",
    "        \"preservation_master\": {\n",
    "            \"description\": \"\"\n",
    "        },\n",
    "    },\n",
    "    \"required\": [\"local_identifier\", \"object_type\"]\n",
    "}"
   ]
  },
  {
   "cell_type": "code",
   "execution_count": null,
   "metadata": {},
   "outputs": [],
   "source": []
  },
  {
   "cell_type": "code",
   "execution_count": null,
   "metadata": {},
   "outputs": [],
   "source": []
  }
 ],
 "metadata": {
  "kernelspec": {
   "display_name": "Python 3",
   "language": "python",
   "name": "python3"
  },
  "language_info": {
   "codemirror_mode": {
    "name": "ipython",
    "version": 3
   },
   "file_extension": ".py",
   "mimetype": "text/x-python",
   "name": "python",
   "nbconvert_exporter": "python",
   "pygments_lexer": "ipython3",
   "version": "3.7.3"
  },
  "toc": {
   "base_numbering": 1,
   "nav_menu": {},
   "number_sections": true,
   "sideBar": true,
   "skip_h1_title": false,
   "title_cell": "Table of Contents",
   "title_sidebar": "Contents",
   "toc_cell": false,
   "toc_position": {},
   "toc_section_display": true,
   "toc_window_display": false
  }
 },
 "nbformat": 4,
 "nbformat_minor": 2
}
