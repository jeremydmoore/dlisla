{
 "cells": [
  {
   "cell_type": "markdown",
   "metadata": {},
   "source": [
    "Check ppi of all images to verify they're 600ppi"
   ]
  },
  {
   "cell_type": "code",
   "execution_count": 1,
   "metadata": {},
   "outputs": [],
   "source": [
    "from pathlib import Path\n",
    "\n",
    "from PIL import Image"
   ]
  },
  {
   "cell_type": "code",
   "execution_count": 2,
   "metadata": {},
   "outputs": [],
   "source": [
    "data_dir_path = Path('/Volumes/fluffy/ThesesDissertations_MassDigitization/3.toPDF/need_to_check_ppi')\n",
    "\n",
    "dir_paths_list = [x for x in data_dir_path.iterdir() if x.is_dir()]"
   ]
  },
  {
   "cell_type": "code",
   "execution_count": 4,
   "metadata": {},
   "outputs": [
    {
     "name": "stdout",
     "output_type": "stream",
     "text": [
      "checking 336 in RogersArthur_2002\n",
      "0 TIFFs that need their PPI checked in RogersArthur_2002\n",
      "checking 292 in RoneyScott_2002\n",
      "0 TIFFs that need their PPI checked in RoneyScott_2002\n",
      "checking 228 in RussellBarbara_2002\n",
      "0 TIFFs that need their PPI checked in RussellBarbara_2002\n",
      "checking 118 in SamuelJaviette_2002\n",
      "0 TIFFs that need their PPI checked in SamuelJaviette_2002\n",
      "checking 210 in SauerweinSteven_2002\n",
      "0 TIFFs that need their PPI checked in SauerweinSteven_2002\n",
      "checking 150 in SchaeperJames_2002\n",
      "0 TIFFs that need their PPI checked in SchaeperJames_2002\n",
      "checking 304 in SchierenbeckDaniel_2002\n",
      "0 TIFFs that need their PPI checked in SchierenbeckDaniel_2002\n",
      "checking 334 in SeiversLana_2002\n",
      "0 TIFFs that need their PPI checked in SeiversLana_2002\n",
      "checking 378 in SeveranceBenjamin_2002\n",
      "0 TIFFs that need their PPI checked in SeveranceBenjamin_2002\n",
      "checking 66 in ShattellMona_2002\n",
      "0 TIFFs that need their PPI checked in ShattellMona_2002\n",
      "checking 232 in ShawThomasena_2002\n",
      "0 TIFFs that need their PPI checked in ShawThomasena_2002\n",
      "checking 78 in SheltonHeather_2002\n",
      "0 TIFFs that need their PPI checked in SheltonHeather_2002\n",
      "checking 168 in ShoemakerLinda_2002\n",
      "0 TIFFs that need their PPI checked in ShoemakerLinda_2002\n",
      "checking 122 in SmileyDonna_2002\n",
      "0 TIFFs that need their PPI checked in SmileyDonna_2002\n",
      "checking 130 in SmithDavid_2002\n",
      "0 TIFFs that need their PPI checked in SmithDavid_2002\n",
      "checking 116 in SmithKenneth_2002\n",
      "0 TIFFs that need their PPI checked in SmithKenneth_2002\n",
      "checking 124 in SouthwardLeigh_2002\n",
      "0 TIFFs that need their PPI checked in SouthwardLeigh_2002\n",
      "checking 102 in SprohgeErik_2002\n",
      "0 TIFFs that need their PPI checked in SprohgeErik_2002\n",
      "checking 172 in StanfieldTodd_2002\n",
      "0 TIFFs that need their PPI checked in StanfieldTodd_2002\n",
      "checking 126 in StephensDaniel_2002\n",
      "0 TIFFs that need their PPI checked in StephensDaniel_2002\n",
      "checking 260 in WalkerBrian_2001\n",
      "0 TIFFs that need their PPI checked in WalkerBrian_2001\n",
      "checking 207 in WalkerKathleen_2001\n",
      "0 TIFFs that need their PPI checked in WalkerKathleen_2001\n",
      "checking 204 in Ware-HargisMixon_2001\n",
      "0 TIFFs that need their PPI checked in Ware-HargisMixon_2001\n",
      "checking 194 in WashingtonKadesha_2001\n",
      "0 TIFFs that need their PPI checked in WashingtonKadesha_2001\n",
      "checking 201 in WebbLisa_2001\n",
      "0 TIFFs that need their PPI checked in WebbLisa_2001\n",
      "checking 146 in WellsGayle_2001\n",
      "0 TIFFs that need their PPI checked in WellsGayle_2001\n",
      "checking 213 in WhiteDavid_2001\n",
      "0 TIFFs that need their PPI checked in WhiteDavid_2001\n",
      "checking 107 in WilliamsonNancy_2001\n",
      "0 TIFFs that need their PPI checked in WilliamsonNancy_2001\n",
      "checking 228 in ZhaoRongguo_2001\n",
      "0 TIFFs that need their PPI checked in ZhaoRongguo_2001\n",
      "Total number of TIFFs != 600ppi is 0\n"
     ]
    }
   ],
   "source": [
    "total_tifs = 0\n",
    "tifs_fail_list = []\n",
    "for dir_path in dir_paths_list:\n",
    "    scantailor_out_path = dir_path.joinpath('out')\n",
    "    tif_paths_list = list(scantailor_out_path.glob('*.tif'))\n",
    "    number_of_tifs = len(tif_paths_list)\n",
    "    total_tifs += number_of_tifs\n",
    "    print(f'checking {number_of_tifs} in {dir_path.name}')\n",
    "    tif_fails = 0\n",
    "    for tif_path in tif_paths_list:\n",
    "        image = Image.open(tif_path)\n",
    "        dpi = image.info['dpi'][0]  # dpi is a tuple of 2 integers\n",
    "        if dpi != 600:\n",
    "            tifs_fail_list.append(tif_path)\n",
    "            tif_fails += 1\n",
    "    print(f'{tif_fails} TIFFs that need their PPI checked in {dir_path.name}')\n",
    "\n",
    "print('')\n",
    "print(f'Total number of TIFFs != 600ppi is {len(tifs_fail_list)}')"
   ]
  },
  {
   "cell_type": "code",
   "execution_count": null,
   "metadata": {},
   "outputs": [],
   "source": []
  }
 ],
 "metadata": {
  "kernelspec": {
   "display_name": "Python 3",
   "language": "python",
   "name": "python3"
  },
  "language_info": {
   "codemirror_mode": {
    "name": "ipython",
    "version": 3
   },
   "file_extension": ".py",
   "mimetype": "text/x-python",
   "name": "python",
   "nbconvert_exporter": "python",
   "pygments_lexer": "ipython3",
   "version": "3.7.4"
  },
  "toc": {
   "base_numbering": 1,
   "nav_menu": {},
   "number_sections": true,
   "sideBar": true,
   "skip_h1_title": false,
   "title_cell": "Table of Contents",
   "title_sidebar": "Contents",
   "toc_cell": false,
   "toc_position": {},
   "toc_section_display": true,
   "toc_window_display": false
  }
 },
 "nbformat": 4,
 "nbformat_minor": 2
}
