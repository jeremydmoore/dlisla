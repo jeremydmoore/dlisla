{
 "cells": [
  {
   "cell_type": "markdown",
   "metadata": {},
   "source": [
    "# Convert one book directory into a PDF\n",
    "\n",
    "Jupyter Notebook to use ImageMagick, Ghostscript, and PDFTK to convert a directory of \\*.tif into a single PDF\n",
    "\n",
    "This PDF will then be OCR'd & optimized with Adobe Acrobat DC, but we can create a high-quality PDF that contains images which are indistinguishable from the the TIFFs (**TEST THIS TO SEE IF IT'S TRUE!**)"
   ]
  },
  {
   "cell_type": "code",
   "execution_count": 14,
   "metadata": {},
   "outputs": [],
   "source": [
    "# imports\n",
    "import shutil\n",
    "from pathlib import Path\n",
    "\n",
    "from ipywidgets import IntProgress, Label, VBox\n",
    "from IPython.display import display"
   ]
  },
  {
   "cell_type": "code",
   "execution_count": 15,
   "metadata": {},
   "outputs": [
    {
     "data": {
      "text/plain": [
       "1"
      ]
     },
     "execution_count": 15,
     "metadata": {},
     "output_type": "execute_result"
    }
   ],
   "source": [
    "# network path\n",
    "data_directory = Path('/Volumes/fluffy/ThesesDissertations_PatronRequests/3.toPDF')\n",
    "\n",
    "directories_to_convert_to_pdf_paths_list = sorted([x for x in data_directory.iterdir() if x.is_dir()])\n",
    "\n",
    "len(directories_to_convert_to_pdf_paths_list)"
   ]
  },
  {
   "cell_type": "code",
   "execution_count": 16,
   "metadata": {},
   "outputs": [],
   "source": [
    "# processed with ScanTailor so get the \"out\" directory from the first directory in our data_directory\n",
    "directory_path_to_process = directories_to_convert_to_pdf_paths_list[0]\n",
    "scantailor_output_path = directory_path_to_process.joinpath('out')\n",
    "\n",
    "# right now I'm using a <cropped_and_expanded> directory for processing images, like with DuncanRuby_1939\n",
    "if scantailor_output_path.exists():\n",
    "    pass\n",
    "else:  # if we don't have an \"out\" directory then look for one inside of a cropped_and_expanded directory first\n",
    "    scantailor_output_path = directory_path_to_process.joinpath('cropped_and_expanded', 'out', 'cropped')"
   ]
  },
  {
   "cell_type": "code",
   "execution_count": 17,
   "metadata": {},
   "outputs": [
    {
     "name": "stdout",
     "output_type": "stream",
     "text": [
      "398 *.tif to process in /Volumes/fluffy/ThesesDissertations_PatronRequests/3.toPDF/DuncanRuby_1939/cropped_and_expanded/out/cropped\n"
     ]
    }
   ],
   "source": [
    "# get paths to *.tif in directory to process\n",
    "tif_paths_list = sorted(scantailor_output_path.glob('*.tif'))\n",
    "# get tif paths without dot-files\n",
    "tif_paths_list = [x for x in tif_paths_list if not str(x.name).startswith('.')]\n",
    "\n",
    "number_of_tifs = len(tif_paths_list)\n",
    "print(f'{number_of_tifs} *.tif to process in {scantailor_output_path}')"
   ]
  },
  {
   "cell_type": "code",
   "execution_count": 18,
   "metadata": {},
   "outputs": [
    {
     "data": {
      "application/vnd.jupyter.widget-view+json": {
       "model_id": "058e65feb7fe49d7a928ae7608e0f022",
       "version_major": 2,
       "version_minor": 0
      },
      "text/plain": [
       "VBox(children=(Label(value='Convert *.tif to PDF'), IntProgress(value=0, max=398)))"
      ]
     },
     "metadata": {},
     "output_type": "display_data"
    },
    {
     "name": "stdout",
     "output_type": "stream",
     "text": [
      "Created 398 temporary *.pdf in /Users/dlisla/Desktop/_temp_pdf_save_directory\n"
     ]
    }
   ],
   "source": [
    "# convert *.tif into *.pdf and save in local temp directory\n",
    "\n",
    "# set temp save directory path\n",
    "temp_pdf_save_directory_path = Path.home().joinpath('Desktop', '_temp_pdf_save_directory')\n",
    "    \n",
    "# create temp save directory\n",
    "temp_pdf_save_directory_path.mkdir(exist_ok=True)\n",
    "\n",
    "# progress bar\n",
    "progress_label = Label('Convert *.tif to PDF')\n",
    "progress_bar = IntProgress(min=0, max=number_of_tifs)\n",
    "progress_widget = VBox([progress_label, progress_bar])\n",
    "display(progress_widget)\n",
    "\n",
    "for index, tif_path in enumerate(tif_paths_list, start=1):\n",
    "    \n",
    "    pdf_name = f'{tif_path.stem}.pdf'\n",
    "    pdf_temp_save_path = temp_pdf_save_directory_path.joinpath(pdf_name)\n",
    "    \n",
    "    label = f'Converting {tif_path.name} into {pdf_name}'\n",
    "    progress_label.value = label\n",
    "    \n",
    "    !magick {str(tif_path)} {str(pdf_temp_save_path)}\n",
    "    \n",
    "    progress_bar.value = index\n",
    "    \n",
    "temp_pdf_paths_list = sorted(temp_pdf_save_directory_path.glob('*.pdf'))\n",
    "number_of_temp_pdfs = len(temp_pdf_paths_list)\n",
    "\n",
    "if number_of_temp_pdfs != number_of_tifs:\n",
    "    print(f'ERROR - ERROR - ERROR')\n",
    "    print(f'# of *.tif: {number_of_tifs}')\n",
    "    print(f'# of temporary PDFs: {number_of_temp_pdfs}')\n",
    "else:\n",
    "    print(f'Created {number_of_temp_pdfs} temporary *.pdf in {temp_pdf_save_directory_path}')"
   ]
  },
  {
   "cell_type": "code",
   "execution_count": 22,
   "metadata": {},
   "outputs": [
    {
     "name": "stdout",
     "output_type": "stream",
     "text": [
      "Combining *.pdf into single PDF\n",
      "/Volumes/fluffy/ThesesDissertations_PatronRequests/4.toOCR/DuncanRuby_1939.pdf created with size 7235.71 GB\n"
     ]
    }
   ],
   "source": [
    "# concatenate all *.pdf in local temp directory into single PDF\n",
    "\n",
    "print(f'Combining *.pdf into single PDF')\n",
    "\n",
    "combined_pdf_name = f'{directory_path_to_process.name}.pdf'\n",
    "combined_pdf_save_path = directory_path_to_process.parents[1].joinpath('4.toOCR', combined_pdf_name)\n",
    "!pdftk {str(temp_pdf_save_directory_path)}/*.pdf cat output {str(combined_pdf_save_path)}\n",
    "\n",
    "if combined_pdf_save_path.is_file() and combined_pdf_save_path.stat().st_size > 0:\n",
    "    print(f'{combined_pdf_save_path} created with size {round((combined_pdf_save_path.stat().st_size/1024/1024/1024), 2)} GB')"
   ]
  },
  {
   "cell_type": "code",
   "execution_count": 12,
   "metadata": {},
   "outputs": [],
   "source": [
    "# delete all pdfs in temporary directory then delete directory\n",
    "# for temp_pdf_path in temp_pdf_paths_list:\n",
    "#     if temp_pdf_path.exists():\n",
    "#         temp_pdf_path.unlink()\n",
    "    \n",
    "# temp_pdf_save_directory_path.rmdir()\n",
    "\n",
    "# just use shutil.rmtree to recursively delete from now on\n",
    "shutil.rmtree(temp_pdf_save_directory_path)"
   ]
  },
  {
   "cell_type": "code",
   "execution_count": 19,
   "metadata": {},
   "outputs": [],
   "source": [
    "# move directory on fluffy from 3.toPDF to 4.toOCR\n",
    "move_to_this_path = directory_path_to_process.parents[1].joinpath('4.toOCR', directory_path_to_process.name)\n",
    "directory_path_to_process.rename(move_to_this_path)"
   ]
  },
  {
   "cell_type": "code",
   "execution_count": 20,
   "metadata": {},
   "outputs": [],
   "source": [
    "# open output directory\n",
    "!open {str(move_to_this_path)}"
   ]
  },
  {
   "cell_type": "code",
   "execution_count": 23,
   "metadata": {},
   "outputs": [],
   "source": [
    "# open PDF in Adobe Acrobat to use OCR/optimize action\n",
    "!open {str(combined_pdf_save_path)}"
   ]
  }
 ],
 "metadata": {
  "kernelspec": {
   "display_name": "Python 3",
   "language": "python",
   "name": "python3"
  },
  "language_info": {
   "codemirror_mode": {
    "name": "ipython",
    "version": 3
   },
   "file_extension": ".py",
   "mimetype": "text/x-python",
   "name": "python",
   "nbconvert_exporter": "python",
   "pygments_lexer": "ipython3",
   "version": "3.7.3"
  },
  "toc": {
   "base_numbering": 1,
   "nav_menu": {},
   "number_sections": true,
   "sideBar": true,
   "skip_h1_title": false,
   "title_cell": "Table of Contents",
   "title_sidebar": "Contents",
   "toc_cell": false,
   "toc_position": {},
   "toc_section_display": true,
   "toc_window_display": false
  }
 },
 "nbformat": 4,
 "nbformat_minor": 2
}
