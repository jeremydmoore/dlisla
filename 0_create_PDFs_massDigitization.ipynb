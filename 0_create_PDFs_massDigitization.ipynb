{
 "cells": [
  {
   "cell_type": "code",
   "execution_count": 2,
   "metadata": {},
   "outputs": [],
   "source": [
    "# imports\n",
    "import shutil\n",
    "from pathlib import Path\n",
    "\n",
    "from ipywidgets import IntProgress, Label, VBox\n",
    "from IPython.display import display"
   ]
  },
  {
   "cell_type": "raw",
   "metadata": {},
   "source": [
    "# set network path and get list of directories to process\n",
    "data_directory = Path('/Volumes/fluffy/ThesesDissertations_PatronRequests/')\n",
    "input_directory = data_directory.joinpath('3.toPDF')\n",
    "output_directory = data_directory.joinpath('4.toOptimize')\n",
    "\n",
    "directories_to_convert_to_pdf_paths_list = sorted([x for x in input_directory.iterdir() if x.is_dir()])\n",
    "\n",
    "print(f'{len(directories_to_convert_to_pdf_paths_list)} directories to process')"
   ]
  },
  {
   "cell_type": "code",
   "execution_count": 3,
   "metadata": {},
   "outputs": [
    {
     "name": "stdout",
     "output_type": "stream",
     "text": [
      "15 directories to process\n"
     ]
    }
   ],
   "source": [
    "# set network path and get list of directories to process\n",
    "data_directory = Path('/Volumes/fluffy/ThesesDissertations_MassDigitization/')\n",
    "input_directory = data_directory.joinpath('3.toPDF')\n",
    "output_directory = data_directory.joinpath('3a.toCheckPDFs')\n",
    "\n",
    "directories_to_convert_to_pdf_paths_list = sorted([x for x in input_directory.iterdir() if x.is_dir()])\n",
    "\n",
    "print(f'{len(directories_to_convert_to_pdf_paths_list)} directories to process')"
   ]
  },
  {
   "cell_type": "code",
   "execution_count": 4,
   "metadata": {
    "code_folding": [
     0,
     2,
     38,
     75
    ]
   },
   "outputs": [],
   "source": [
    "# functions\n",
    "\n",
    "def get_tif_paths_list(directory_path, scantailor=False):\n",
    "    \n",
    "    # if directory_path not a Path-like object then make it one\n",
    "    if not isinstance(directory_path, Path):\n",
    "        directory_path = Path(directory_path)\n",
    "        \n",
    "    # add 'out' path to directory if processed with ScanTailor\n",
    "    if scantailor:\n",
    "        directory_path = Path(directory_path).joinpath('out')\n",
    "    \n",
    "    # get paths to *.tif to process\n",
    "    tif_paths_list = sorted(directory_path.glob('*.tif'))\n",
    "    \n",
    "    # only keep *.tif that DO NOT start with '.' to exclude macOS index files\n",
    "    tif_paths_list = [x for x in tif_paths_list if not str(x.name).startswith('.')]\n",
    "    \n",
    "    return tif_paths_list\n",
    "\n",
    "\n",
    "def create_temporary_pdf_directory(directory_path):\n",
    "    \n",
    "    # if directory_path not a Path-like object then make it one\n",
    "    if not isinstance(directory_path, Path):\n",
    "        directory_path = Path(directory_path)\n",
    "        \n",
    "    temporary_pdf_directory_path = Path.home().joinpath('Desktop', f'_temporary_pdfs_{dir_path.name}')\n",
    "    \n",
    "    try:  # creating the temporary directory\n",
    "        temporary_pdf_directory_path.mkdir()\n",
    "    except FileExistsError:  # delete the directory & all contents then create it\n",
    "        shutil.rmtree(temporary_pdf_directory_path)\n",
    "        temporary_pdf_directory_path.mkdir()\n",
    "        \n",
    "    return temporary_pdf_directory_path\n",
    "\n",
    "\n",
    "def batch_ocr_tifs_into_pdfs(tif_paths_list, temporary_pdf_directory_path):\n",
    "    \n",
    "    number_of_tifs = len(tif_paths_list)\n",
    "    number_of_pdfs = 0\n",
    "    \n",
    "    # progress bar\n",
    "    progress_label = Label('OCR *.tif')\n",
    "    progress_bar = IntProgress(min=0, max=number_of_tifs)\n",
    "    progress_widget = VBox([progress_label, progress_bar])\n",
    "    display(progress_widget)\n",
    "    \n",
    "    for tif_path in tif_paths_list:\n",
    "        \n",
    "        label = f'OCRing {tif_path.name}'\n",
    "        progress_label.value = label\n",
    "\n",
    "        temporary_pdf_output_path = temporary_pdf_directory_path.joinpath(tif_path.stem)\n",
    "\n",
    "        # ocr *.tif with tesseract\n",
    "        # NOTE: output SHOULD NOT have extension on end!\n",
    "        !tesseract {str(tif_path)} {str(temporary_pdf_output_path)} pdf 2>/dev/null\n",
    "\n",
    "        # Add the suffix .pdf that tesseract didn't want\n",
    "        temporary_pdf_output_path = temporary_pdf_directory_path.joinpath(f'{tif_path.stem}.pdf') \n",
    "\n",
    "        if temporary_pdf_output_path.is_file():\n",
    "            number_of_pdfs += 1\n",
    "            progress_bar.value = number_of_pdfs\n",
    "        \n",
    "    if number_of_pdfs != number_of_tifs:\n",
    "        print(f'ERROR - ERROR - ERROR')\n",
    "        print(f'# of *.tif: {number_of_tifs}')\n",
    "        print(f'# of PDFs: {number_of_pdfs}')\n",
    "    else:\n",
    "        print(f'{number_of_pdfs} PDFs created and saved in {temporary_pdf_directory_path}')\n",
    "    \n",
    "    \n",
    "def concatenate_pdfs(temporary_pdf_directory_path):\n",
    "\n",
    "    # strip '_temporary_pdfs_' from beginning of directory path to get combined PDF name\n",
    "    combined_pdf_name = f\"{str(temporary_pdf_directory_path).split('_temporary_pdfs_')[1]}.pdf\"\n",
    "\n",
    "    combined_pdf_output_path = temporary_pdf_directory_path.joinpath(combined_pdf_name)\n",
    "\n",
    "    # concatenate with pdftk\n",
    "    !pdftk {str(temporary_pdf_directory_path)}/*.pdf cat output {str(combined_pdf_output_path)}\n",
    "\n",
    "    if combined_pdf_output_path.is_file() and combined_pdf_output_path.stat().st_size > 0:\n",
    "        print(f'{combined_pdf_output_path} created with size {round((combined_pdf_output_path.stat().st_size/1024/1024/1024), 2)} GB')\n",
    "\n",
    "    return combined_pdf_output_path"
   ]
  },
  {
   "cell_type": "code",
   "execution_count": 6,
   "metadata": {
    "code_folding": [],
    "scrolled": false
   },
   "outputs": [
    {
     "name": "stdout",
     "output_type": "stream",
     "text": [
      "130 *.tif to process in /Volumes/fluffy/ThesesDissertations_MassDigitization/3.toPDF/SmithDavid_2002\n"
     ]
    },
    {
     "data": {
      "application/vnd.jupyter.widget-view+json": {
       "model_id": "c44cd1c566234af09b0cfe30deb44e7c",
       "version_major": 2,
       "version_minor": 0
      },
      "text/plain": [
       "VBox(children=(Label(value='OCR *.tif'), IntProgress(value=0, max=130)))"
      ]
     },
     "metadata": {},
     "output_type": "display_data"
    },
    {
     "name": "stdout",
     "output_type": "stream",
     "text": [
      "130 PDFs created and saved in /Users/dlisla/Desktop/_temporary_pdfs_SmithDavid_2002\n",
      "/Users/dlisla/Desktop/_temporary_pdfs_SmithDavid_2002/SmithDavid_2002.pdf created with size 0.01 GB\n",
      "\n",
      "*****\n",
      "SmithDavid_2002 is now /Volumes/fluffy/ThesesDissertations_MassDigitization/3a.toCheckPDFs/SmithDavid_2002\n",
      "*****\n",
      "\n",
      "116 *.tif to process in /Volumes/fluffy/ThesesDissertations_MassDigitization/3.toPDF/SmithKenneth_2002\n"
     ]
    },
    {
     "data": {
      "application/vnd.jupyter.widget-view+json": {
       "model_id": "895e4d6426624400809e62ef271c6feb",
       "version_major": 2,
       "version_minor": 0
      },
      "text/plain": [
       "VBox(children=(Label(value='OCR *.tif'), IntProgress(value=0, max=116)))"
      ]
     },
     "metadata": {},
     "output_type": "display_data"
    },
    {
     "name": "stdout",
     "output_type": "stream",
     "text": [
      "116 PDFs created and saved in /Users/dlisla/Desktop/_temporary_pdfs_SmithKenneth_2002\n",
      "/Users/dlisla/Desktop/_temporary_pdfs_SmithKenneth_2002/SmithKenneth_2002.pdf created with size 0.0 GB\n",
      "\n",
      "*****\n",
      "SmithKenneth_2002 is now /Volumes/fluffy/ThesesDissertations_MassDigitization/3a.toCheckPDFs/SmithKenneth_2002\n",
      "*****\n",
      "\n",
      "124 *.tif to process in /Volumes/fluffy/ThesesDissertations_MassDigitization/3.toPDF/SouthwardLeigh_2002\n"
     ]
    },
    {
     "data": {
      "application/vnd.jupyter.widget-view+json": {
       "model_id": "4c5789a304ae48ef99cac0d8a9b5e8dc",
       "version_major": 2,
       "version_minor": 0
      },
      "text/plain": [
       "VBox(children=(Label(value='OCR *.tif'), IntProgress(value=0, max=124)))"
      ]
     },
     "metadata": {},
     "output_type": "display_data"
    },
    {
     "name": "stdout",
     "output_type": "stream",
     "text": [
      "124 PDFs created and saved in /Users/dlisla/Desktop/_temporary_pdfs_SouthwardLeigh_2002\n",
      "/Users/dlisla/Desktop/_temporary_pdfs_SouthwardLeigh_2002/SouthwardLeigh_2002.pdf created with size 0.01 GB\n",
      "\n",
      "*****\n",
      "SouthwardLeigh_2002 is now /Volumes/fluffy/ThesesDissertations_MassDigitization/3a.toCheckPDFs/SouthwardLeigh_2002\n",
      "*****\n",
      "\n",
      "102 *.tif to process in /Volumes/fluffy/ThesesDissertations_MassDigitization/3.toPDF/SprohgeErik_2002\n"
     ]
    },
    {
     "data": {
      "application/vnd.jupyter.widget-view+json": {
       "model_id": "a45e20f765f04d78bcc2cc0976b97f46",
       "version_major": 2,
       "version_minor": 0
      },
      "text/plain": [
       "VBox(children=(Label(value='OCR *.tif'), IntProgress(value=0, max=102)))"
      ]
     },
     "metadata": {},
     "output_type": "display_data"
    },
    {
     "name": "stdout",
     "output_type": "stream",
     "text": [
      "102 PDFs created and saved in /Users/dlisla/Desktop/_temporary_pdfs_SprohgeErik_2002\n",
      "/Users/dlisla/Desktop/_temporary_pdfs_SprohgeErik_2002/SprohgeErik_2002.pdf created with size 0.01 GB\n",
      "\n",
      "*****\n",
      "SprohgeErik_2002 is now /Volumes/fluffy/ThesesDissertations_MassDigitization/3a.toCheckPDFs/SprohgeErik_2002\n",
      "*****\n",
      "\n",
      "172 *.tif to process in /Volumes/fluffy/ThesesDissertations_MassDigitization/3.toPDF/StanfieldTodd_2002\n"
     ]
    },
    {
     "data": {
      "application/vnd.jupyter.widget-view+json": {
       "model_id": "8e6f23195c0747cf8afcca744468b0ea",
       "version_major": 2,
       "version_minor": 0
      },
      "text/plain": [
       "VBox(children=(Label(value='OCR *.tif'), IntProgress(value=0, max=172)))"
      ]
     },
     "metadata": {},
     "output_type": "display_data"
    },
    {
     "name": "stdout",
     "output_type": "stream",
     "text": [
      "172 PDFs created and saved in /Users/dlisla/Desktop/_temporary_pdfs_StanfieldTodd_2002\n",
      "/Users/dlisla/Desktop/_temporary_pdfs_StanfieldTodd_2002/StanfieldTodd_2002.pdf created with size 0.01 GB\n",
      "\n",
      "*****\n",
      "StanfieldTodd_2002 is now /Volumes/fluffy/ThesesDissertations_MassDigitization/3a.toCheckPDFs/StanfieldTodd_2002\n",
      "*****\n",
      "\n",
      "126 *.tif to process in /Volumes/fluffy/ThesesDissertations_MassDigitization/3.toPDF/StephensDaniel_2002\n"
     ]
    },
    {
     "data": {
      "application/vnd.jupyter.widget-view+json": {
       "model_id": "b545a56bacfc47b9971ddaa3d2c6091e",
       "version_major": 2,
       "version_minor": 0
      },
      "text/plain": [
       "VBox(children=(Label(value='OCR *.tif'), IntProgress(value=0, max=126)))"
      ]
     },
     "metadata": {},
     "output_type": "display_data"
    },
    {
     "name": "stdout",
     "output_type": "stream",
     "text": [
      "126 PDFs created and saved in /Users/dlisla/Desktop/_temporary_pdfs_StephensDaniel_2002\n",
      "/Users/dlisla/Desktop/_temporary_pdfs_StephensDaniel_2002/StephensDaniel_2002.pdf created with size 0.06 GB\n",
      "\n",
      "*****\n",
      "StephensDaniel_2002 is now /Volumes/fluffy/ThesesDissertations_MassDigitization/3a.toCheckPDFs/StephensDaniel_2002\n",
      "*****\n",
      "\n",
      "260 *.tif to process in /Volumes/fluffy/ThesesDissertations_MassDigitization/3.toPDF/WalkerBrian_2001\n"
     ]
    },
    {
     "data": {
      "application/vnd.jupyter.widget-view+json": {
       "model_id": "6e5acbabe6514938adde5093d30ab300",
       "version_major": 2,
       "version_minor": 0
      },
      "text/plain": [
       "VBox(children=(Label(value='OCR *.tif'), IntProgress(value=0, max=260)))"
      ]
     },
     "metadata": {},
     "output_type": "display_data"
    },
    {
     "name": "stdout",
     "output_type": "stream",
     "text": [
      "260 PDFs created and saved in /Users/dlisla/Desktop/_temporary_pdfs_WalkerBrian_2001\n",
      "/Users/dlisla/Desktop/_temporary_pdfs_WalkerBrian_2001/WalkerBrian_2001.pdf created with size 0.01 GB\n",
      "\n",
      "*****\n",
      "WalkerBrian_2001 is now /Volumes/fluffy/ThesesDissertations_MassDigitization/3a.toCheckPDFs/WalkerBrian_2001\n",
      "*****\n",
      "\n",
      "207 *.tif to process in /Volumes/fluffy/ThesesDissertations_MassDigitization/3.toPDF/WalkerKathleen_2001\n"
     ]
    },
    {
     "data": {
      "application/vnd.jupyter.widget-view+json": {
       "model_id": "24248655559740bf892396206c86d2aa",
       "version_major": 2,
       "version_minor": 0
      },
      "text/plain": [
       "VBox(children=(Label(value='OCR *.tif'), IntProgress(value=0, max=207)))"
      ]
     },
     "metadata": {},
     "output_type": "display_data"
    },
    {
     "name": "stdout",
     "output_type": "stream",
     "text": [
      "207 PDFs created and saved in /Users/dlisla/Desktop/_temporary_pdfs_WalkerKathleen_2001\n",
      "/Users/dlisla/Desktop/_temporary_pdfs_WalkerKathleen_2001/WalkerKathleen_2001.pdf created with size 0.01 GB\n",
      "\n",
      "*****\n",
      "WalkerKathleen_2001 is now /Volumes/fluffy/ThesesDissertations_MassDigitization/3a.toCheckPDFs/WalkerKathleen_2001\n",
      "*****\n",
      "\n",
      "204 *.tif to process in /Volumes/fluffy/ThesesDissertations_MassDigitization/3.toPDF/Ware-HargisMixon_2001\n"
     ]
    },
    {
     "data": {
      "application/vnd.jupyter.widget-view+json": {
       "model_id": "91bf2f4069da44aa8d28a79ba45cd0cd",
       "version_major": 2,
       "version_minor": 0
      },
      "text/plain": [
       "VBox(children=(Label(value='OCR *.tif'), IntProgress(value=0, max=204)))"
      ]
     },
     "metadata": {},
     "output_type": "display_data"
    },
    {
     "name": "stdout",
     "output_type": "stream",
     "text": [
      "204 PDFs created and saved in /Users/dlisla/Desktop/_temporary_pdfs_Ware-HargisMixon_2001\n",
      "/Users/dlisla/Desktop/_temporary_pdfs_Ware-HargisMixon_2001/Ware-HargisMixon_2001.pdf created with size 0.01 GB\n",
      "\n",
      "*****\n",
      "Ware-HargisMixon_2001 is now /Volumes/fluffy/ThesesDissertations_MassDigitization/3a.toCheckPDFs/Ware-HargisMixon_2001\n",
      "*****\n",
      "\n",
      "194 *.tif to process in /Volumes/fluffy/ThesesDissertations_MassDigitization/3.toPDF/WashingtonKadesha_2001\n"
     ]
    },
    {
     "data": {
      "application/vnd.jupyter.widget-view+json": {
       "model_id": "0d758e8faaa64282bb92dbe400c4b0c8",
       "version_major": 2,
       "version_minor": 0
      },
      "text/plain": [
       "VBox(children=(Label(value='OCR *.tif'), IntProgress(value=0, max=194)))"
      ]
     },
     "metadata": {},
     "output_type": "display_data"
    },
    {
     "name": "stdout",
     "output_type": "stream",
     "text": [
      "194 PDFs created and saved in /Users/dlisla/Desktop/_temporary_pdfs_WashingtonKadesha_2001\n",
      "/Users/dlisla/Desktop/_temporary_pdfs_WashingtonKadesha_2001/WashingtonKadesha_2001.pdf created with size 0.01 GB\n",
      "\n",
      "*****\n",
      "WashingtonKadesha_2001 is now /Volumes/fluffy/ThesesDissertations_MassDigitization/3a.toCheckPDFs/WashingtonKadesha_2001\n",
      "*****\n",
      "\n",
      "201 *.tif to process in /Volumes/fluffy/ThesesDissertations_MassDigitization/3.toPDF/WebbLisa_2001\n"
     ]
    },
    {
     "data": {
      "application/vnd.jupyter.widget-view+json": {
       "model_id": "b9645eb865b34607af1bb44475b4f508",
       "version_major": 2,
       "version_minor": 0
      },
      "text/plain": [
       "VBox(children=(Label(value='OCR *.tif'), IntProgress(value=0, max=201)))"
      ]
     },
     "metadata": {},
     "output_type": "display_data"
    },
    {
     "name": "stdout",
     "output_type": "stream",
     "text": [
      "201 PDFs created and saved in /Users/dlisla/Desktop/_temporary_pdfs_WebbLisa_2001\n",
      "/Users/dlisla/Desktop/_temporary_pdfs_WebbLisa_2001/WebbLisa_2001.pdf created with size 0.02 GB\n",
      "\n",
      "*****\n",
      "WebbLisa_2001 is now /Volumes/fluffy/ThesesDissertations_MassDigitization/3a.toCheckPDFs/WebbLisa_2001\n",
      "*****\n",
      "\n",
      "146 *.tif to process in /Volumes/fluffy/ThesesDissertations_MassDigitization/3.toPDF/WellsGayle_2001\n"
     ]
    },
    {
     "data": {
      "application/vnd.jupyter.widget-view+json": {
       "model_id": "e295bcf25c7247a49f06247d76dc93c6",
       "version_major": 2,
       "version_minor": 0
      },
      "text/plain": [
       "VBox(children=(Label(value='OCR *.tif'), IntProgress(value=0, max=146)))"
      ]
     },
     "metadata": {},
     "output_type": "display_data"
    },
    {
     "name": "stdout",
     "output_type": "stream",
     "text": [
      "146 PDFs created and saved in /Users/dlisla/Desktop/_temporary_pdfs_WellsGayle_2001\n",
      "/Users/dlisla/Desktop/_temporary_pdfs_WellsGayle_2001/WellsGayle_2001.pdf created with size 0.01 GB\n",
      "\n",
      "*****\n",
      "WellsGayle_2001 is now /Volumes/fluffy/ThesesDissertations_MassDigitization/3a.toCheckPDFs/WellsGayle_2001\n",
      "*****\n",
      "\n",
      "213 *.tif to process in /Volumes/fluffy/ThesesDissertations_MassDigitization/3.toPDF/WhiteDavid_2001\n"
     ]
    },
    {
     "data": {
      "application/vnd.jupyter.widget-view+json": {
       "model_id": "4931acf2450e479e89e896d4f0d0a4e3",
       "version_major": 2,
       "version_minor": 0
      },
      "text/plain": [
       "VBox(children=(Label(value='OCR *.tif'), IntProgress(value=0, max=213)))"
      ]
     },
     "metadata": {},
     "output_type": "display_data"
    },
    {
     "name": "stdout",
     "output_type": "stream",
     "text": [
      "213 PDFs created and saved in /Users/dlisla/Desktop/_temporary_pdfs_WhiteDavid_2001\n",
      "/Users/dlisla/Desktop/_temporary_pdfs_WhiteDavid_2001/WhiteDavid_2001.pdf created with size 0.01 GB\n",
      "\n",
      "*****\n",
      "WhiteDavid_2001 is now /Volumes/fluffy/ThesesDissertations_MassDigitization/3a.toCheckPDFs/WhiteDavid_2001\n",
      "*****\n",
      "\n",
      "107 *.tif to process in /Volumes/fluffy/ThesesDissertations_MassDigitization/3.toPDF/WilliamsonNancy_2001\n"
     ]
    },
    {
     "data": {
      "application/vnd.jupyter.widget-view+json": {
       "model_id": "5cc4ca8856a349cd8b69e947fe8837a0",
       "version_major": 2,
       "version_minor": 0
      },
      "text/plain": [
       "VBox(children=(Label(value='OCR *.tif'), IntProgress(value=0, max=107)))"
      ]
     },
     "metadata": {},
     "output_type": "display_data"
    },
    {
     "name": "stdout",
     "output_type": "stream",
     "text": [
      "107 PDFs created and saved in /Users/dlisla/Desktop/_temporary_pdfs_WilliamsonNancy_2001\n",
      "/Users/dlisla/Desktop/_temporary_pdfs_WilliamsonNancy_2001/WilliamsonNancy_2001.pdf created with size 0.01 GB\n",
      "\n",
      "*****\n",
      "WilliamsonNancy_2001 is now /Volumes/fluffy/ThesesDissertations_MassDigitization/3a.toCheckPDFs/WilliamsonNancy_2001\n",
      "*****\n",
      "\n",
      "228 *.tif to process in /Volumes/fluffy/ThesesDissertations_MassDigitization/3.toPDF/ZhaoRongguo_2001\n"
     ]
    },
    {
     "data": {
      "application/vnd.jupyter.widget-view+json": {
       "model_id": "661e19a2cc3945aba6ae4b697f178fbb",
       "version_major": 2,
       "version_minor": 0
      },
      "text/plain": [
       "VBox(children=(Label(value='OCR *.tif'), IntProgress(value=0, max=228)))"
      ]
     },
     "metadata": {},
     "output_type": "display_data"
    },
    {
     "name": "stdout",
     "output_type": "stream",
     "text": [
      "228 PDFs created and saved in /Users/dlisla/Desktop/_temporary_pdfs_ZhaoRongguo_2001\n",
      "/Users/dlisla/Desktop/_temporary_pdfs_ZhaoRongguo_2001/ZhaoRongguo_2001.pdf created with size 0.08 GB\n",
      "\n",
      "*****\n",
      "ZhaoRongguo_2001 is now /Volumes/fluffy/ThesesDissertations_MassDigitization/3a.toCheckPDFs/ZhaoRongguo_2001\n",
      "*****\n",
      "\n"
     ]
    }
   ],
   "source": [
    "for dir_path in directories_to_convert_to_pdf_paths_list:\n",
    "    \n",
    "    # get list of *.tif to process\n",
    "    tif_paths_list = get_tif_paths_list(dir_path, scantailor=True)\n",
    "    \n",
    "    number_of_tifs = len(tif_paths_list)\n",
    "    print(f'{number_of_tifs} *.tif to process in {dir_path}')\n",
    "    \n",
    "    # create temp directory\n",
    "    temp_pdf_dir_path = create_temporary_pdf_directory(dir_path)\n",
    "    \n",
    "    # OCR tifs into PDFs with progress bar\n",
    "    batch_ocr_tifs_into_pdfs(tif_paths_list, temp_pdf_dir_path)\n",
    "    \n",
    "    # concatenate PDFs into single file\n",
    "    combined_pdf_path = concatenate_pdfs(temp_pdf_dir_path)\n",
    "    \n",
    "    # copy combined PDF to copy directory\n",
    "    output_pdf_path = output_directory.joinpath(combined_pdf_path.name)\n",
    "    shutil.copy(combined_pdf_path, output_pdf_path)\n",
    "    \n",
    "    if output_pdf_path.is_file():  # move processed dir_path into output_directory\n",
    "        renamed_dir_path = output_directory.joinpath(dir_path.name)\n",
    "        dir_path.rename(renamed_dir_path)\n",
    "\n",
    "    print('')\n",
    "    print('*****')    \n",
    "    print(f'{dir_path.name} is now {renamed_dir_path}')\n",
    "    print('*****')\n",
    "    print('')"
   ]
  },
  {
   "cell_type": "code",
   "execution_count": 7,
   "metadata": {
    "code_folding": [
     0
    ]
   },
   "outputs": [
    {
     "name": "stdout",
     "output_type": "stream",
     "text": [
      "The file /Volumes/fluffy/ThesesDissertations_MassDigitization/3a.toCheckPDFs does not exist.\r\n"
     ]
    }
   ],
   "source": [
    "# open output_directory_path for visual Quality Assurance\n",
    "!open {str(output_directory)}"
   ]
  },
  {
   "cell_type": "code",
   "execution_count": 8,
   "metadata": {},
   "outputs": [
    {
     "name": "stdout",
     "output_type": "stream",
     "text": [
      "15 _temporary_pdf_* directories deleted\n"
     ]
    }
   ],
   "source": [
    "# delete all '_temporary_pdfs_*' directories on the desktop\n",
    "all_temp_dir_paths = sorted(Path('/Users/dlisla/Desktop/').glob('_temporary_pdfs_*'))\n",
    "number_of_dir_paths = len(all_temp_dir_paths)\n",
    "for temp_dir_path in all_temp_dir_paths:\n",
    "    shutil.rmtree(temp_dir_path)\n",
    "\n",
    "all_temp_dir_paths = sorted(Path('/Users/dlisla/Desktop/').glob('_temporary_pdfs_*'))\n",
    "number_of_deleted_dir_paths = number_of_dir_paths - len(all_temp_dir_paths)\n",
    "\n",
    "print(f'{number_of_deleted_dir_paths} _temporary_pdf_* directories deleted')"
   ]
  },
  {
   "cell_type": "code",
   "execution_count": null,
   "metadata": {},
   "outputs": [],
   "source": []
  }
 ],
 "metadata": {
  "kernelspec": {
   "display_name": "Python 3",
   "language": "python",
   "name": "python3"
  },
  "language_info": {
   "codemirror_mode": {
    "name": "ipython",
    "version": 3
   },
   "file_extension": ".py",
   "mimetype": "text/x-python",
   "name": "python",
   "nbconvert_exporter": "python",
   "pygments_lexer": "ipython3",
   "version": "3.7.3"
  },
  "toc": {
   "base_numbering": 1,
   "nav_menu": {},
   "number_sections": true,
   "sideBar": true,
   "skip_h1_title": false,
   "title_cell": "Table of Contents",
   "title_sidebar": "Contents",
   "toc_cell": false,
   "toc_position": {},
   "toc_section_display": true,
   "toc_window_display": false
  }
 },
 "nbformat": 4,
 "nbformat_minor": 2
}
