{
 "cells": [
  {
   "cell_type": "markdown",
   "metadata": {},
   "source": [
    "### Move a directory of files into directories based on their filenames"
   ]
  },
  {
   "cell_type": "code",
   "execution_count": 1,
   "metadata": {},
   "outputs": [],
   "source": [
    "from pathlib import Path"
   ]
  },
  {
   "cell_type": "code",
   "execution_count": 27,
   "metadata": {
    "code_folding": []
   },
   "outputs": [],
   "source": [
    "def get_tif_paths_list(directory_path, scantailor=False):\n",
    "    \n",
    "    # if directory_path not a Path-like object then make it one\n",
    "    if not isinstance(directory_path, Path):\n",
    "        directory_path = Path(directory_path)\n",
    "        \n",
    "    # add 'out' path to directory if processed with ScanTailor\n",
    "    if scantailor:\n",
    "        directory_path = Path(directory_path).joinpath('out')\n",
    "    \n",
    "    # get paths to *.tif to process\n",
    "    tif_paths_list = sorted(directory_path.glob('*.tif'))\n",
    "    \n",
    "    if len(tif_paths_list) == 0:\n",
    "        tif_paths_list = sorted(directory_path.glob('*.tiff'))\n",
    "    \n",
    "    # only keep *.tif that DO NOT start with '.' to exclude macOS index files\n",
    "    tif_paths_list = [x for x in tif_paths_list if not str(x.name).startswith('.')]\n",
    "    \n",
    "    return tif_paths_list\n",
    "\n",
    "def get_identifer(tif_path):\n",
    "    \n",
    "    # if tif_path not a Path-like object then make it one\n",
    "    if not isinstance(tif_path, Path):\n",
    "        tif_path = Path(tif_path)\n",
    "    \n",
    "    tif_stem = tif_path.stem\n",
    "    identifier = tif_stem.rsplit('_', maxsplit=1)[0]\n",
    "    return identifier\n",
    "\n",
    "def create_identifier_directories(dir_path):\n",
    "    tif_paths_list = get_tif_paths_list(dir_path)\n",
    "    for tif_path in tif_paths_list:\n",
    "        identifier = get_identifer(tif_path)\n",
    "        identifier_dir_path = dir_path.joinpath(identifier)\n",
    "        if not identifier_dir_path.is_dir():\n",
    "            identifier_dir_path.mkdir()\n",
    "        new_tif_path = identifier_dir_path.joinpath(tif_path.name)\n",
    "        tif_path.rename(new_tif_path)"
   ]
  },
  {
   "cell_type": "code",
   "execution_count": 28,
   "metadata": {},
   "outputs": [],
   "source": [
    "data_dir = Path('/Users/jeremy/Pictures/KJA/Output/1963')"
   ]
  },
  {
   "cell_type": "code",
   "execution_count": 31,
   "metadata": {},
   "outputs": [],
   "source": [
    "create_identifier_directories(data_dir)"
   ]
  },
  {
   "cell_type": "code",
   "execution_count": 29,
   "metadata": {},
   "outputs": [
    {
     "data": {
      "text/plain": [
       "52"
      ]
     },
     "execution_count": 29,
     "metadata": {},
     "output_type": "execute_result"
    }
   ],
   "source": [
    "tif_paths_list = get_tif_paths_list(data_dir)\n",
    "len(tif_paths_list)"
   ]
  },
  {
   "cell_type": "code",
   "execution_count": 30,
   "metadata": {},
   "outputs": [],
   "source": [
    "for tif_path in tif_paths_list:\n",
    "    get_identifer(tif_path)"
   ]
  },
  {
   "cell_type": "code",
   "execution_count": null,
   "metadata": {},
   "outputs": [],
   "source": []
  }
 ],
 "metadata": {
  "kernelspec": {
   "display_name": "Python 3",
   "language": "python",
   "name": "python3"
  },
  "language_info": {
   "codemirror_mode": {
    "name": "ipython",
    "version": 3
   },
   "file_extension": ".py",
   "mimetype": "text/x-python",
   "name": "python",
   "nbconvert_exporter": "python",
   "pygments_lexer": "ipython3",
   "version": "3.7.3"
  },
  "toc": {
   "base_numbering": 1,
   "nav_menu": {},
   "number_sections": true,
   "sideBar": true,
   "skip_h1_title": false,
   "title_cell": "Table of Contents",
   "title_sidebar": "Contents",
   "toc_cell": false,
   "toc_position": {},
   "toc_section_display": true,
   "toc_window_display": false
  }
 },
 "nbformat": 4,
 "nbformat_minor": 2
}
