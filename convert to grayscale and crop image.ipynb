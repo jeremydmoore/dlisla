{
 "cells": [
  {
   "cell_type": "code",
   "execution_count": 1,
   "metadata": {},
   "outputs": [],
   "source": [
    "%matplotlib inline\n",
    "from pathlib import Path\n",
    "\n",
    "import matplotlib.pyplot as plt\n",
    "from ipywidgets import IntProgress, Label, VBox\n",
    "from IPython.display import display\n",
    "from PIL import Image"
   ]
  },
  {
   "cell_type": "code",
   "execution_count": 2,
   "metadata": {},
   "outputs": [],
   "source": [
    "data_directory_path = Path('/Volumes/fluffy/ThesesDissertations_PatronRequests/3.toPDF/DuncanRuby_1939/cropped_and_expanded/out')"
   ]
  },
  {
   "cell_type": "code",
   "execution_count": 3,
   "metadata": {},
   "outputs": [
    {
     "data": {
      "text/plain": [
       "398"
      ]
     },
     "execution_count": 3,
     "metadata": {},
     "output_type": "execute_result"
    }
   ],
   "source": [
    "image_paths_list = sorted(data_directory_path.glob('*.tif'))\n",
    "image_paths_list = [x for x in image_paths_list if not str(x.name).startswith('.')]  # remove hidden files from list\n",
    "number_of_tifs = len(image_paths_list)\n",
    "number_of_tifs"
   ]
  },
  {
   "cell_type": "code",
   "execution_count": 5,
   "metadata": {
    "code_folding": []
   },
   "outputs": [
    {
     "data": {
      "application/vnd.jupyter.widget-view+json": {
       "model_id": "4912aaa0f5c943cc82378d3fec9d59f0",
       "version_major": 2,
       "version_minor": 0
      },
      "text/plain": [
       "VBox(children=(Label(value='Crop *.tif'), IntProgress(value=0, max=398)))"
      ]
     },
     "metadata": {},
     "output_type": "display_data"
    },
    {
     "name": "stdout",
     "output_type": "stream",
     "text": [
      "Cropping 398 in /Volumes/fluffy/ThesesDissertations_PatronRequests/3.toPDF/DuncanRuby_1939/cropped_and_expanded/out\n",
      "Cropped 398 images and saved in /Volumes/fluffy/ThesesDissertations_PatronRequests/3.toPDF/DuncanRuby_1939/cropped_and_expanded/out/cropped\n"
     ]
    }
   ],
   "source": [
    "# crop image down to pixel dimensions\n",
    "\n",
    "# progress bar\n",
    "progress_label = Label('Crop *.tif')\n",
    "progress_bar = IntProgress(min=0, max=number_of_tifs)\n",
    "progress_widget = VBox([progress_label, progress_bar])\n",
    "display(progress_widget)\n",
    "\n",
    "width_crop_inches = 8.5\n",
    "height_crop_inches = 11\n",
    "\n",
    "output_directory_path = data_directory_path.joinpath('cropped')\n",
    "output_directory_path.mkdir(exist_ok=True)\n",
    "print(f'Cropping {number_of_tifs} in {data_directory_path}')\n",
    "\n",
    "for index, image_path in enumerate(image_paths_list, start=1):\n",
    "    \n",
    "    label = f'Cropping {image_path.name}'\n",
    "    progress_label.value = label\n",
    "    \n",
    "    # open image and convert to grayscale\n",
    "    image = Image.open(image_path).convert('L')\n",
    "    width, height = image.size\n",
    "    center_x = width//2\n",
    "    center_y = height //2\n",
    "    \n",
    "    dpi = image.info['dpi'][0]\n",
    "    width_crop_pixels = int(width_crop_inches * dpi)\n",
    "    height_crop_pixels = int(height_crop_inches * dpi)\n",
    "    \n",
    "    #print(width_crop_pixels, height_crop_pixels)\n",
    "    \n",
    "    # https://stackoverflow.com/a/46944232\n",
    "    left = center_x - width_crop_pixels//2\n",
    "    top = center_y - height_crop_pixels//2\n",
    "    right = center_x + width_crop_pixels//2\n",
    "    bottom = center_y + height_crop_pixels//2\n",
    "    \n",
    "    cropped_image = image.crop((left, top, right, bottom))\n",
    "    \n",
    "    output_save_path = output_directory_path.joinpath(image_path.name)\n",
    "    \n",
    "    cropped_image.save(output_save_path, dpi=(dpi, dpi))\n",
    "    progress_bar.value = index\n",
    "    \n",
    "cropped_image_paths_list = sorted(output_directory_path.glob('*.tif'))\n",
    "number_of_cropped_tifs = len(cropped_image_paths_list)\n",
    "\n",
    "if number_of_cropped_tifs != number_of_tifs:\n",
    "    print(f'ERROR - ERROR - ERROR')\n",
    "    print(f'# of *.tif: {number_of_tifs}')\n",
    "    print(f'# of cropped *.tif: {number_of_cropped_tifs}')\n",
    "else:\n",
    "    print(f'Cropped {number_of_cropped_tifs} images and saved in {output_directory_path}')"
   ]
  },
  {
   "cell_type": "code",
   "execution_count": null,
   "metadata": {},
   "outputs": [],
   "source": []
  }
 ],
 "metadata": {
  "kernelspec": {
   "display_name": "Python 3",
   "language": "python",
   "name": "python3"
  },
  "language_info": {
   "codemirror_mode": {
    "name": "ipython",
    "version": 3
   },
   "file_extension": ".py",
   "mimetype": "text/x-python",
   "name": "python",
   "nbconvert_exporter": "python",
   "pygments_lexer": "ipython3",
   "version": "3.7.7"
  },
  "toc": {
   "base_numbering": 1,
   "nav_menu": {},
   "number_sections": true,
   "sideBar": true,
   "skip_h1_title": false,
   "title_cell": "Table of Contents",
   "title_sidebar": "Contents",
   "toc_cell": false,
   "toc_position": {},
   "toc_section_display": true,
   "toc_window_display": false
  }
 },
 "nbformat": 4,
 "nbformat_minor": 2
}
