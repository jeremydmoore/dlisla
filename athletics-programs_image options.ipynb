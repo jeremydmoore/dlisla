{
 "cells": [
  {
   "cell_type": "code",
   "execution_count": 186,
   "metadata": {},
   "outputs": [],
   "source": [
    "# variables\n",
    "colors = ['RGB', 'Grayscale']\n",
    "bit_depths = [8, 16]\n",
    "sampling_frequencies = [400, 600]\n",
    "possible_outputs_list = [(color, bit_depth, sampling_frequency) for color in colors for bit_depth in bit_depths for sampling_frequency in sampling_frequencies]\n",
    "bits_per_byte = 2*4\n",
    "# https://en.wikipedia.org/wiki/Gigabyte\n",
    "bits_per_kilobyte = 1024\n",
    "bits_per_megabyte = 1024**2\n",
    "bits_per_gigabyte = 1024**3"
   ]
  },
  {
   "cell_type": "code",
   "execution_count": 187,
   "metadata": {},
   "outputs": [
    {
     "data": {
      "text/plain": [
       "[('RGB', 8, 400),\n",
       " ('RGB', 8, 600),\n",
       " ('RGB', 16, 400),\n",
       " ('RGB', 16, 600),\n",
       " ('Grayscale', 8, 400),\n",
       " ('Grayscale', 8, 600),\n",
       " ('Grayscale', 16, 400),\n",
       " ('Grayscale', 16, 600)]"
      ]
     },
     "execution_count": 187,
     "metadata": {},
     "output_type": "execute_result"
    }
   ],
   "source": [
    "possible_outputs_list"
   ]
  },
  {
   "cell_type": "code",
   "execution_count": 188,
   "metadata": {},
   "outputs": [
    {
     "data": {
      "text/plain": [
       "(1073741824, 1048576, 1024, 8)"
      ]
     },
     "execution_count": 188,
     "metadata": {},
     "output_type": "execute_result"
    }
   ],
   "source": [
    "bits_per_gigabyte, bits_per_megabyte, bits_per_kilobyte, bits_per_byte"
   ]
  },
  {
   "cell_type": "code",
   "execution_count": 189,
   "metadata": {
    "code_folding": []
   },
   "outputs": [],
   "source": [
    "# functions\n",
    "def how_much_storage(color, bit_depth, sampling_frequency, width_inches, height_inches, add_border=True, total_border_size=0.75):\n",
    "    if color == 'RGB':\n",
    "        number_of_channels = 3\n",
    "    elif color == 'Grayscale':\n",
    "        number_of_channels = 1\n",
    "    \n",
    "    bits_per_pixel = bit_depth * number_of_channels\n",
    "    if add_border:  # add border_size to height and width\n",
    "        width_inches += total_border_size\n",
    "        height_inches += total_border_size\n",
    "    pixel_area = width_inches * height_inches\n",
    "    number_of_pixels = pixel_area * sampling_frequency\n",
    "    number_of_bits = bits_per_pixel * number_of_pixels\n",
    "    return number_of_bits\n",
    "\n",
    "\n",
    "def get_file_size(number_of_bits):    \n",
    "#     if number_of_bits > bits_per_gigabyte:\n",
    "#         gigabytes = number_of_bits / bits_per_gigabyte\n",
    "#         file_size = f'{round(gigabytes, 2)} gigabytes'\n",
    "#     elif number_of_bits > bits_per_megabyte:\n",
    "#         megabytes = number_of_bits / bits_per_megabyte\n",
    "#         file_size = f'{round(megabytes, 2)} megabytes'\n",
    "#     elif number_of_bits > bits_per_kilobyte:\n",
    "#         kilobytes = number_of_bits / bits_per_kilobyte\n",
    "#         file_size = f'{round(kilobytes, 2)} kilobytes'\n",
    "#     else:\n",
    "#         number_of_bytes = number_of_bits / bits_per_byte\n",
    "#         file_size = f'{round(number_of_bytes, 2)} bytes'\n",
    "    megabytes = number_of_bits / bits_per_megabyte\n",
    "    file_size = f'{round(megabytes, 2)} megabytes'\n",
    "    return file_size\n",
    "\n",
    "\n",
    "def storage_size_for_possible_outputs(width_inches, height_inches, add_border=True, total_border_size=0.75):\n",
    "    # loop through all possibilities\n",
    "    data = [[\"\", 'Color', 'Bit Depth', 'PPI', 'File Size']]\n",
    "    for possible_output in possible_outputs_list:\n",
    "        color, bit_depth, sampling_frequency = possible_output\n",
    "        number_of_bits = how_much_storage(color,\n",
    "                                          bit_depth,\n",
    "                                          sampling_frequency,\n",
    "                                          width_inches,\n",
    "                                          height_inches,\n",
    "                                          add_border=add_border,\n",
    "                                          total_border_size=total_border_size\n",
    "                                         )\n",
    "        file_size = get_file_size(number_of_bits)\n",
    "        data.append([color, bit_depth, sampling_frequency, file_size])\n",
    "    return data"
   ]
  },
  {
   "cell_type": "code",
   "execution_count": 191,
   "metadata": {},
   "outputs": [
    {
     "name": "stdout",
     "output_type": "stream",
     "text": [
      "[['', 'Color', 'Bit Depth', 'PPI', 'File Size'], ['RGB', 8, 400, '1.0 megabytes'], ['RGB', 8, 600, '1.49 megabytes'], ['RGB', 16, 400, '1.99 megabytes'], ['RGB', 16, 600, '2.99 megabytes'], ['Grayscale', 8, 400, '0.33 megabytes'], ['Grayscale', 8, 600, '0.5 megabytes'], ['Grayscale', 16, 400, '0.66 megabytes'], ['Grayscale', 16, 600, '1.0 megabytes']]\n"
     ]
    }
   ],
   "source": [
    "width = 8.5\n",
    "height = 11.0\n",
    "\n",
    "data = storage_size_for_possible_outputs(width, height)\n",
    "print(data)"
   ]
  },
  {
   "cell_type": "code",
   "execution_count": 184,
   "metadata": {},
   "outputs": [],
   "source": [
    "import pandas as pd"
   ]
  },
  {
   "cell_type": "code",
   "execution_count": null,
   "metadata": {},
   "outputs": [],
   "source": [
    "dataframe = pd.DataFrame(xzAQA11Q)"
   ]
  }
 ],
 "metadata": {
  "kernelspec": {
   "display_name": "Python 3",
   "language": "python",
   "name": "python3"
  },
  "language_info": {
   "codemirror_mode": {
    "name": "ipython",
    "version": 3
   },
   "file_extension": ".py",
   "mimetype": "text/x-python",
   "name": "python",
   "nbconvert_exporter": "python",
   "pygments_lexer": "ipython3",
   "version": "3.7.3"
  }
 },
 "nbformat": 4,
 "nbformat_minor": 2
}
