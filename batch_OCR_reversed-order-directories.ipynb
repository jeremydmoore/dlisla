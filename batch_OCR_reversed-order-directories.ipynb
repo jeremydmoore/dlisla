{
 "cells": [
  {
   "cell_type": "code",
   "execution_count": null,
   "metadata": {
    "code_folding": [
     0
    ]
   },
   "outputs": [],
   "source": [
    "# imports\n",
    "import shutil\n",
    "from pathlib import Path\n",
    "\n",
    "from ipywidgets import IntProgress, Label, VBox\n",
    "from IPython.display import display"
   ]
  },
  {
   "cell_type": "code",
   "execution_count": null,
   "metadata": {
    "code_folding": [
     0
    ]
   },
   "outputs": [],
   "source": [
    "# set network path and get list of directories to process\n",
    "data_directory = Path('/Users/dlisla/Pictures')\n",
    "input_directory = data_directory.joinpath('1.toOCR')\n",
    "output_directory = data_directory.joinpath('2.OCRed')\n",
    "\n",
    "directories_to_convert_to_pdf_paths_list = sorted([x for x in input_directory.iterdir() if x.is_dir()])\n",
    "\n",
    "print(f'{len(directories_to_convert_to_pdf_paths_list)} directories to process')"
   ]
  },
  {
   "cell_type": "code",
   "execution_count": null,
   "metadata": {
    "code_folding": [
     0
    ]
   },
   "outputs": [],
   "source": [
    "# functions\n",
    "\n",
    "def get_tif_paths_list(directory_path, scantailor=False):\n",
    "    \n",
    "    # if directory_path not a Path-like object then make it one\n",
    "    if not isinstance(directory_path, Path):\n",
    "        directory_path = Path(directory_path)\n",
    "        \n",
    "    # add 'out' path to directory if processed with ScanTailor\n",
    "    if scantailor:\n",
    "        directory_path = Path(directory_path).joinpath('out')\n",
    "    \n",
    "    # get paths to *.tif to process\n",
    "    tif_paths_list = sorted(directory_path.glob('*.tif'))\n",
    "    \n",
    "    if len(tif_paths_list) == 0:\n",
    "        tif_paths_list = sorted(directory_path.glob('*.tiff'))\n",
    "    \n",
    "    # only keep *.tif that DO NOT start with '.' to exclude macOS index files\n",
    "    tif_paths_list = [x for x in tif_paths_list if not str(x.name).startswith('.')]\n",
    "    \n",
    "    return tif_paths_list\n",
    "\n",
    "\n",
    "def create_temporary_pdf_directory(directory_path):\n",
    "    \n",
    "    # if directory_path not a Path-like object then make it one\n",
    "    if not isinstance(directory_path, Path):\n",
    "        directory_path = Path(directory_path)\n",
    "        \n",
    "    temporary_pdf_directory_path = Path.home().joinpath(f'Desktop/local_temporary_pdfs/_temporary_pdfs_{directory_path.name}')\n",
    "    \n",
    "    try:  # creating the temporary directory\n",
    "        temporary_pdf_directory_path.mkdir(parents=True)\n",
    "    except FileExistsError:  # delete the directory & all contents then create it\n",
    "        shutil.rmtree(temporary_pdf_directory_path)\n",
    "        temporary_pdf_directory_path.mkdir()\n",
    "        \n",
    "    return temporary_pdf_directory_path\n",
    "\n",
    "\n",
    "def batch_ocr_tifs_into_pdfs(tif_paths_list, temporary_pdf_directory_path):\n",
    "    \n",
    "    number_of_tifs = len(tif_paths_list)\n",
    "    number_of_pdfs = 0\n",
    "    \n",
    "    # progress bar\n",
    "    progress_label = Label('OCR *.tif')\n",
    "    progress_bar = IntProgress(min=0, max=number_of_tifs)\n",
    "    progress_widget = VBox([progress_label, progress_bar])\n",
    "    display(progress_widget)\n",
    "    \n",
    "    for tif_path in tif_paths_list:\n",
    "        \n",
    "        label = f'OCRing {tif_path.name}'\n",
    "        progress_label.value = label\n",
    "\n",
    "        temporary_pdf_output_path = temporary_pdf_directory_path.joinpath(tif_path.stem)\n",
    "\n",
    "        # ocr *.tif with tesseract\n",
    "        # NOTE: output SHOULD NOT have extension on end!\n",
    "        !tesseract \"{str(tif_path)}\" \"{str(temporary_pdf_output_path)}\" pdf 2>/dev/null\n",
    "\n",
    "        # Add the suffix .pdf that tesseract didn't want\n",
    "        temporary_pdf_output_path = temporary_pdf_directory_path.joinpath(f'{tif_path.stem}.pdf') \n",
    "\n",
    "        if temporary_pdf_output_path.is_file():\n",
    "            number_of_pdfs += 1\n",
    "            progress_bar.value = number_of_pdfs\n",
    "        \n",
    "    if number_of_pdfs != number_of_tifs:\n",
    "        print(f'ERROR - ERROR - ERROR')\n",
    "        print(f'# of *.tif: {number_of_tifs}')\n",
    "        print(f'# of PDFs: {number_of_pdfs}')\n",
    "    else:\n",
    "        print(f'{number_of_pdfs} PDFs created and saved in {temporary_pdf_directory_path}')\n",
    "    \n",
    "    \n",
    "def concatenate_pdfs(temporary_pdf_directory_path):\n",
    "\n",
    "    # strip '_temporary_pdfs_' from beginning of directory path to get combined PDF name\n",
    "    combined_pdf_name = f\"{str(temporary_pdf_directory_path).split('_temporary_pdfs_')[1]}.pdf\"\n",
    "\n",
    "    combined_pdf_output_path = temporary_pdf_directory_path.joinpath(combined_pdf_name)\n",
    "\n",
    "    # concatenate with pdftk\n",
    "    !pdftk \"{str(temporary_pdf_directory_path)}\"/*.pdf cat output \"{str(combined_pdf_output_path)}\"\n",
    "\n",
    "    if combined_pdf_output_path.is_file() and combined_pdf_output_path.stat().st_size > 0:\n",
    "        print(f'{combined_pdf_output_path} created with size {round((combined_pdf_output_path.stat().st_size/1024/1024/1024), 2)} GB')\n",
    "\n",
    "    return combined_pdf_output_path"
   ]
  },
  {
   "cell_type": "code",
   "execution_count": 4,
   "metadata": {},
   "outputs": [
    {
     "data": {
      "text/plain": [
       "[PosixPath('/Users/dlisla/Pictures/1.toOCR/R_ BOT_1978-10-20_EX1-37'),\n",
       " PosixPath('/Users/dlisla/Pictures/1.toOCR/R_ BOT_1979-03-05_EX1-49'),\n",
       " PosixPath('/Users/dlisla/Pictures/1.toOCR/R_ BOT_1979-05-04_EX1-13'),\n",
       " PosixPath('/Users/dlisla/Pictures/1.toOCR/R_ BOT_1979-06-20_EX1-13'),\n",
       " PosixPath('/Users/dlisla/Pictures/1.toOCR/R_ BOT_1979-06-21_EX1-59'),\n",
       " PosixPath('/Users/dlisla/Pictures/1.toOCR/R_ BOT_1979-07-11_EX1-2'),\n",
       " PosixPath('/Users/dlisla/Pictures/1.toOCR/R_ BOT_1979-09-10_EX1-4'),\n",
       " PosixPath('/Users/dlisla/Pictures/1.toOCR/R_ BOT_1979-09-28_EX1-43'),\n",
       " PosixPath('/Users/dlisla/Pictures/1.toOCR/R_ BOT_1979-10-29_EX1-2'),\n",
       " PosixPath('/Users/dlisla/Pictures/1.toOCR/R_ BOT_1979-12-12_EX1-12'),\n",
       " PosixPath('/Users/dlisla/Pictures/1.toOCR/R_ BOT_1980-02-08_EX1-38'),\n",
       " PosixPath('/Users/dlisla/Pictures/1.toOCR/R_ BOT_1980-04-25_EX1-16'),\n",
       " PosixPath('/Users/dlisla/Pictures/1.toOCR/R_ BOT_1980-06-18_EX1-10'),\n",
       " PosixPath('/Users/dlisla/Pictures/1.toOCR/R_ BOT_1980-06-19_EX1-67'),\n",
       " PosixPath('/Users/dlisla/Pictures/1.toOCR/R_ BOT_1980-08-18_EX1-3'),\n",
       " PosixPath('/Users/dlisla/Pictures/1.toOCR/R_ BOT_1980-10-17_EX1-46'),\n",
       " PosixPath('/Users/dlisla/Pictures/1.toOCR/R_ BOT_1980-11-15_EX1-6_'),\n",
       " PosixPath('/Users/dlisla/Pictures/1.toOCR/R_ BOT_1980-12-12_EX1-2'),\n",
       " PosixPath('/Users/dlisla/Pictures/1.toOCR/R_ BOT_1981-03-19_EX1-6'),\n",
       " PosixPath('/Users/dlisla/Pictures/1.toOCR/R_ BOT_1981-05-11_EX1'),\n",
       " PosixPath('/Users/dlisla/Pictures/1.toOCR/R_ BOT_1981-05-29_EX1-4'),\n",
       " PosixPath('/Users/dlisla/Pictures/1.toOCR/R_ BOT_1981-06-17_EX1-8'),\n",
       " PosixPath('/Users/dlisla/Pictures/1.toOCR/R_ BOT_1981-06-18_EX1-54'),\n",
       " PosixPath('/Users/dlisla/Pictures/1.toOCR/R_ BOT_1981-07-30_EX1-7'),\n",
       " PosixPath('/Users/dlisla/Pictures/1.toOCR/R_ BOT_1981-09-25_EX1-28'),\n",
       " PosixPath('/Users/dlisla/Pictures/1.toOCR/R_ BOT_1981-10-24_EX1-9'),\n",
       " PosixPath('/Users/dlisla/Pictures/1.toOCR/R_ BOT_1981-12-19_EX1-10'),\n",
       " PosixPath('/Users/dlisla/Pictures/1.toOCR/R_ BOT_1982-02-12_EX1-23'),\n",
       " PosixPath('/Users/dlisla/Pictures/1.toOCR/R_ BOT_1982-03-10_EX1-5'),\n",
       " PosixPath('/Users/dlisla/Pictures/1.toOCR/R_ BOT_1982-04-23_EX1-8'),\n",
       " PosixPath('/Users/dlisla/Pictures/1.toOCR/R_ BOT_1982-06-17_EX1-68'),\n",
       " PosixPath('/Users/dlisla/Pictures/1.toOCR/R_ BOT_1982-08-14_EX1-6'),\n",
       " PosixPath('/Users/dlisla/Pictures/1.toOCR/R_ BOT_1982-10-15_EX1-38')]"
      ]
     },
     "execution_count": 4,
     "metadata": {},
     "output_type": "execute_result"
    }
   ],
   "source": [
    "directories_to_convert_to_pdf_paths_list"
   ]
  },
  {
   "cell_type": "code",
   "execution_count": 5,
   "metadata": {
    "code_folding": [],
    "scrolled": true
   },
   "outputs": [
    {
     "name": "stdout",
     "output_type": "stream",
     "text": [
      "604 *.tif to process in /Users/dlisla/Pictures/1.toOCR/R_ BOT_1982-10-15_EX1-38\n"
     ]
    },
    {
     "data": {
      "application/vnd.jupyter.widget-view+json": {
       "model_id": "247fcb384c99461da4a02a17329ee602",
       "version_major": 2,
       "version_minor": 0
      },
      "text/plain": [
       "VBox(children=(Label(value='OCR *.tif'), IntProgress(value=0, max=604)))"
      ]
     },
     "metadata": {},
     "output_type": "display_data"
    },
    {
     "name": "stdout",
     "output_type": "stream",
     "text": [
      "604 PDFs created and saved in /Users/dlisla/Desktop/local_temporary_pdfs/_temporary_pdfs_R_ BOT_1982-10-15_EX1-38\n"
     ]
    },
    {
     "ename": "IndexError",
     "evalue": "list index out of range",
     "output_type": "error",
     "traceback": [
      "\u001b[0;31m---------------------------------------------------------------------------\u001b[0m",
      "\u001b[0;31mIndexError\u001b[0m                                Traceback (most recent call last)",
      "\u001b[0;32m<ipython-input-5-75742f92b377>\u001b[0m in \u001b[0;36m<module>\u001b[0;34m\u001b[0m\n\u001b[1;32m     14\u001b[0m \u001b[0;34m\u001b[0m\u001b[0m\n\u001b[1;32m     15\u001b[0m     \u001b[0;31m# concatenate PDFs into single file\u001b[0m\u001b[0;34m\u001b[0m\u001b[0;34m\u001b[0m\u001b[0;34m\u001b[0m\u001b[0m\n\u001b[0;32m---> 16\u001b[0;31m     \u001b[0mcombined_pdf_path\u001b[0m \u001b[0;34m=\u001b[0m \u001b[0mconcatenate_pdfs\u001b[0m\u001b[0;34m(\u001b[0m\u001b[0mdir_path\u001b[0m\u001b[0;34m)\u001b[0m\u001b[0;34m\u001b[0m\u001b[0;34m\u001b[0m\u001b[0m\n\u001b[0m\u001b[1;32m     17\u001b[0m \u001b[0;34m\u001b[0m\u001b[0m\n\u001b[1;32m     18\u001b[0m     \u001b[0;31m# copy combined PDF to copy directory\u001b[0m\u001b[0;34m\u001b[0m\u001b[0;34m\u001b[0m\u001b[0;34m\u001b[0m\u001b[0m\n",
      "\u001b[0;32m<ipython-input-3-24439881e763>\u001b[0m in \u001b[0;36mconcatenate_pdfs\u001b[0;34m(temporary_pdf_directory_path)\u001b[0m\n\u001b[1;32m     80\u001b[0m \u001b[0;34m\u001b[0m\u001b[0m\n\u001b[1;32m     81\u001b[0m     \u001b[0;31m# strip '_temporary_pdfs_' from beginning of directory path to get combined PDF name\u001b[0m\u001b[0;34m\u001b[0m\u001b[0;34m\u001b[0m\u001b[0;34m\u001b[0m\u001b[0m\n\u001b[0;32m---> 82\u001b[0;31m     \u001b[0mcombined_pdf_name\u001b[0m \u001b[0;34m=\u001b[0m \u001b[0;34mf\"{str(temporary_pdf_directory_path).split('_temporary_pdfs_')[1]}.pdf\"\u001b[0m\u001b[0;34m\u001b[0m\u001b[0;34m\u001b[0m\u001b[0m\n\u001b[0m\u001b[1;32m     83\u001b[0m \u001b[0;34m\u001b[0m\u001b[0m\n\u001b[1;32m     84\u001b[0m     \u001b[0mcombined_pdf_output_path\u001b[0m \u001b[0;34m=\u001b[0m \u001b[0mtemporary_pdf_directory_path\u001b[0m\u001b[0;34m.\u001b[0m\u001b[0mjoinpath\u001b[0m\u001b[0;34m(\u001b[0m\u001b[0mcombined_pdf_name\u001b[0m\u001b[0;34m)\u001b[0m\u001b[0;34m\u001b[0m\u001b[0;34m\u001b[0m\u001b[0m\n",
      "\u001b[0;31mIndexError\u001b[0m: list index out of range"
     ]
    }
   ],
   "source": [
    "for dir_path in reversed(directories_to_convert_to_pdf_paths_list):\n",
    "    \n",
    "    # get list of *.tif to process\n",
    "    tif_paths_list = get_tif_paths_list(dir_path)\n",
    "    \n",
    "    number_of_tifs = len(tif_paths_list)\n",
    "    print(f'{number_of_tifs} *.tif to process in {dir_path}')\n",
    "    \n",
    "    # create temp directory\n",
    "    temp_pdf_dir_path = create_temporary_pdf_directory(dir_path)\n",
    "    \n",
    "    # OCR tifs into PDFs with progress bar\n",
    "    batch_ocr_tifs_into_pdfs(tif_paths_list, temp_pdf_dir_path)\n",
    "    \n",
    "    # concatenate PDFs into single file\n",
    "    combined_pdf_path = concatenate_pdfs(dir_path)\n",
    "    \n",
    "    # copy combined PDF to copy directory\n",
    "    output_pdf_path = output_directory.joinpath(combined_pdf_path.name)\n",
    "    shutil.copy(combined_pdf_path, output_pdf_path)\n",
    "    \n",
    "    if output_pdf_path.is_file():  # move processed dir_path into output_directory\n",
    "        renamed_dir_path = output_directory.joinpath(dir_path.name)\n",
    "        dir_path.rename(renamed_dir_path)\n",
    "\n",
    "    print('')\n",
    "    print('*****')    \n",
    "    print(f'{dir_path.name} finished')\n",
    "    print('*****')\n",
    "    print('')"
   ]
  },
  {
   "cell_type": "code",
   "execution_count": null,
   "metadata": {},
   "outputs": [],
   "source": [
    "dir_path = Path('/Users/dlisla/Desktop/_temporary_pdfs_R_ BOT_1977-06-16_EX1-76')\n",
    "dir_path"
   ]
  },
  {
   "cell_type": "code",
   "execution_count": null,
   "metadata": {},
   "outputs": [],
   "source": [
    "combined_pdf_path = concatenate_pdfs(dir_path)"
   ]
  },
  {
   "cell_type": "code",
   "execution_count": null,
   "metadata": {
    "code_folding": []
   },
   "outputs": [],
   "source": [
    "# open output_directory_path for visual Quality Assurance\n",
    "!open {str(output_directory)}"
   ]
  },
  {
   "cell_type": "code",
   "execution_count": null,
   "metadata": {},
   "outputs": [],
   "source": [
    "# delete all '_temporary_pdfs_*' directories on the desktop\n",
    "all_temp_dir_paths = sorted(Path('/Users/dlisla/Desktop/').glob('_temporary_pdfs_*'))\n",
    "number_of_dir_paths = len(all_temp_dir_paths)\n",
    "for temp_dir_path in all_temp_dir_paths:\n",
    "    shutil.rmtree(temp_dir_path)\n",
    "\n",
    "all_temp_dir_paths = sorted(Path('/Users/dlisla/Desktop/').glob('_temporary_pdfs_*'))\n",
    "number_of_deleted_dir_paths = number_of_dir_paths - len(all_temp_dir_paths)\n",
    "\n",
    "print(f'{number_of_deleted_dir_paths} _temporary_pdf_* directories deleted')"
   ]
  },
  {
   "cell_type": "code",
   "execution_count": null,
   "metadata": {},
   "outputs": [],
   "source": [
    "temp_pdf_dir_path"
   ]
  },
  {
   "cell_type": "code",
   "execution_count": null,
   "metadata": {},
   "outputs": [],
   "source": [
    "pdf_paths_list = sorted(temp_pdf_dir_path.glob('*.pdf'))\n",
    "len(pdf_paths_list)"
   ]
  },
  {
   "cell_type": "code",
   "execution_count": null,
   "metadata": {},
   "outputs": [],
   "source": [
    "max_pdfs_to_combine = 999\n",
    "count = 0\n",
    "for index, pdf_path in enumerate(pdf_paths_list, start = 1):\n",
    "    sub_dir_path = temp_pdf_dir_path.joinpath(f'pdfs_to_combine_{str(count).zfill(2)}')\n",
    "    if not sub_dir_path.is_dir():\n",
    "        sub_dir_path.mkdir()\n",
    "    \n",
    "    # move pdf to that directory\n",
    "    pdf_path.rename(sub_dir_path.joinpath(pdf_path.name))\n",
    "    \n",
    "    \n",
    "    if index % max_pdfs_to_combine == 0:\n",
    "        count += 1"
   ]
  },
  {
   "cell_type": "code",
   "execution_count": null,
   "metadata": {},
   "outputs": [],
   "source": [
    "directories_to_convert_to_pdf_paths_list = sorted([x for x in temp_pdf_dir_path.iterdir() if x.is_dir()])\n",
    "len(directories_to_convert_to_pdf_paths_list)"
   ]
  },
  {
   "cell_type": "code",
   "execution_count": null,
   "metadata": {},
   "outputs": [],
   "source": []
  }
 ],
 "metadata": {
  "kernelspec": {
   "display_name": "Python 3",
   "language": "python",
   "name": "python3"
  },
  "language_info": {
   "codemirror_mode": {
    "name": "ipython",
    "version": 3
   },
   "file_extension": ".py",
   "mimetype": "text/x-python",
   "name": "python",
   "nbconvert_exporter": "python",
   "pygments_lexer": "ipython3",
   "version": "3.7.4"
  },
  "toc": {
   "base_numbering": 1,
   "nav_menu": {},
   "number_sections": true,
   "sideBar": true,
   "skip_h1_title": false,
   "title_cell": "Table of Contents",
   "title_sidebar": "Contents",
   "toc_cell": false,
   "toc_position": {},
   "toc_section_display": true,
   "toc_window_display": false
  }
 },
 "nbformat": 4,
 "nbformat_minor": 2
}
