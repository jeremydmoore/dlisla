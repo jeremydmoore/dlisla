{
 "cells": [
  {
   "cell_type": "code",
   "execution_count": 6,
   "metadata": {},
   "outputs": [],
   "source": [
    "# for the future theses, I need a utility that will identify the sheet-feed to-be-replaced BEFORE I run ScanTailor\n",
    "# Renaming the files afterwards means the relationship of final output to original input file is lost\n",
    "\n",
    "# So . . . I should write a script that identifies the \"sheet-feed replace\" images\n",
    "# It could use computer vision to identify the \"replace\" pages\n",
    "# granted . . . at what point do I just write my own book processing software (can I find a grant?)"
   ]
  },
  {
   "cell_type": "code",
   "execution_count": 7,
   "metadata": {},
   "outputs": [],
   "source": [
    "# imports\n",
    "import shutil\n",
    "from pathlib import Path\n",
    "\n",
    "from ipywidgets import IntProgress, Label, VBox\n",
    "from IPython.display import display"
   ]
  },
  {
   "cell_type": "code",
   "execution_count": 8,
   "metadata": {},
   "outputs": [
    {
     "data": {
      "text/plain": [
       "118"
      ]
     },
     "execution_count": 8,
     "metadata": {},
     "output_type": "execute_result"
    }
   ],
   "source": [
    "root_dir_path = Path('/Users/dlisla/Pictures/utk_ProjectCeres/0.toScanTailor/MoehlWilliam_1965')\n",
    "input_dir_path = root_dir_path.joinpath('out')  # our input is ScanTailor's output\n",
    "\n",
    "tif_path_list = sorted(input_dir_path.glob('*.tif'))\n",
    "len(tif_path_list)"
   ]
  },
  {
   "cell_type": "code",
   "execution_count": 9,
   "metadata": {
    "collapsed": true
   },
   "outputs": [
    {
     "data": {
      "text/plain": [
       "[PosixPath('/Users/dlisla/Pictures/utk_ProjectCeres/0.toScanTailor/MoehlWilliam_1965/out/MoehlWilliam_1965_0001.tif'),\n",
       " PosixPath('/Users/dlisla/Pictures/utk_ProjectCeres/0.toScanTailor/MoehlWilliam_1965/out/MoehlWilliam_1965_0009.tif'),\n",
       " PosixPath('/Users/dlisla/Pictures/utk_ProjectCeres/0.toScanTailor/MoehlWilliam_1965/out/MoehlWilliam_1965_0018.tif'),\n",
       " PosixPath('/Users/dlisla/Pictures/utk_ProjectCeres/0.toScanTailor/MoehlWilliam_1965/out/MoehlWilliam_1965_0030.tif'),\n",
       " PosixPath('/Users/dlisla/Pictures/utk_ProjectCeres/0.toScanTailor/MoehlWilliam_1965/out/MoehlWilliam_1965_0040.tif'),\n",
       " PosixPath('/Users/dlisla/Pictures/utk_ProjectCeres/0.toScanTailor/MoehlWilliam_1965/out/MoehlWilliam_1965_0049.tif'),\n",
       " PosixPath('/Users/dlisla/Pictures/utk_ProjectCeres/0.toScanTailor/MoehlWilliam_1965/out/MoehlWilliam_1965_0057.tif'),\n",
       " PosixPath('/Users/dlisla/Pictures/utk_ProjectCeres/0.toScanTailor/MoehlWilliam_1965/out/MoehlWilliam_1965_0070.tif'),\n",
       " PosixPath('/Users/dlisla/Pictures/utk_ProjectCeres/0.toScanTailor/MoehlWilliam_1965/out/MoehlWilliam_1965_0083.tif'),\n",
       " PosixPath('/Users/dlisla/Pictures/utk_ProjectCeres/0.toScanTailor/MoehlWilliam_1965/out/MoehlWilliam_1965_0094.tif'),\n",
       " PosixPath('/Users/dlisla/Pictures/utk_ProjectCeres/0.toScanTailor/MoehlWilliam_1965/out/MoehlWilliam_1965_0103.tif'),\n",
       " PosixPath('/Users/dlisla/Pictures/utk_ProjectCeres/0.toScanTailor/MoehlWilliam_1965/out/MoehlWilliam_1965_0112.tif'),\n",
       " PosixPath('/Users/dlisla/Pictures/utk_ProjectCeres/0.toScanTailor/MoehlWilliam_1965/out/MoehlWilliam_camera_002.tif'),\n",
       " PosixPath('/Users/dlisla/Pictures/utk_ProjectCeres/0.toScanTailor/MoehlWilliam_1965/out/MoehlWilliam_camera_010.tif'),\n",
       " PosixPath('/Users/dlisla/Pictures/utk_ProjectCeres/0.toScanTailor/MoehlWilliam_1965/out/MoehlWilliam_camera_018.tif')]"
      ]
     },
     "execution_count": 9,
     "metadata": {},
     "output_type": "execute_result"
    }
   ],
   "source": [
    "tif_path_list[::8]"
   ]
  },
  {
   "cell_type": "code",
   "execution_count": 10,
   "metadata": {},
   "outputs": [
    {
     "data": {
      "text/plain": [
       "95"
      ]
     },
     "execution_count": 10,
     "metadata": {},
     "output_type": "execute_result"
    }
   ],
   "source": [
    "# identifier can be pulled from the image directory (in this case: root_dir_path.name)\n",
    "identifier_path_list = sorted(input_dir_path.glob(f'{root_dir_path.name}*.tif'))\n",
    "len(identifier_path_list)"
   ]
  },
  {
   "cell_type": "code",
   "execution_count": 16,
   "metadata": {
    "scrolled": true
   },
   "outputs": [
    {
     "data": {
      "text/plain": [
       "23"
      ]
     },
     "execution_count": 16,
     "metadata": {},
     "output_type": "execute_result"
    }
   ],
   "source": [
    "missing_identifier_list = []  # what numbers are we missing \n",
    "for index in range(len(tif_path_list)):\n",
    "    index += 1  # filenames start counting at 1, but computers at 0\n",
    "    test_tif_name = f'{root_dir_path.name}_{str(index).zfill(4)}.tif'  # zeropad to 4 digits\n",
    "    test_tif_path = input_dir_path.joinpath(test_tif_name)\n",
    "    if not test_tif_path.is_file():  # we're missing this image\n",
    "        missing_identifier_list.append(test_tif_path)\n",
    "len(missing_identifier_list)"
   ]
  },
  {
   "cell_type": "code",
   "execution_count": 17,
   "metadata": {},
   "outputs": [
    {
     "data": {
      "text/plain": [
       "23"
      ]
     },
     "execution_count": 17,
     "metadata": {},
     "output_type": "execute_result"
    }
   ],
   "source": [
    "replacement_tif_path_list = sorted(input_dir_path.glob('*camera*.tif'))\n",
    "len(replacement_tif_path_list)"
   ]
  },
  {
   "cell_type": "code",
   "execution_count": 26,
   "metadata": {},
   "outputs": [
    {
     "name": "stdout",
     "output_type": "stream",
     "text": [
      "\tCopy from ------------> Copy to\n",
      "MoehlWilliam_camera_001.tif --> MoehlWilliam_1965_0014.tif\n",
      "MoehlWilliam_camera_002.tif --> MoehlWilliam_1965_0021.tif\n",
      "MoehlWilliam_camera_003.tif --> MoehlWilliam_1965_0023.tif\n",
      "MoehlWilliam_camera_004.tif --> MoehlWilliam_1965_0026.tif\n",
      "MoehlWilliam_camera_005.tif --> MoehlWilliam_1965_0027.tif\n",
      "MoehlWilliam_camera_006.tif --> MoehlWilliam_1965_0032.tif\n",
      "MoehlWilliam_camera_007.tif --> MoehlWilliam_1965_0036.tif\n",
      "MoehlWilliam_camera_008.tif --> MoehlWilliam_1965_0045.tif\n",
      "MoehlWilliam_camera_009.tif --> MoehlWilliam_1965_0061.tif\n",
      "MoehlWilliam_camera_010.tif --> MoehlWilliam_1965_0063.tif\n",
      "MoehlWilliam_camera_011.tif --> MoehlWilliam_1965_0065.tif\n",
      "MoehlWilliam_camera_012.tif --> MoehlWilliam_1965_0067.tif\n",
      "MoehlWilliam_camera_013.tif --> MoehlWilliam_1965_0069.tif\n",
      "MoehlWilliam_camera_014.tif --> MoehlWilliam_1965_0071.tif\n",
      "MoehlWilliam_camera_015.tif --> MoehlWilliam_1965_0074.tif\n",
      "MoehlWilliam_camera_016.tif --> MoehlWilliam_1965_0078.tif\n",
      "MoehlWilliam_camera_017.tif --> MoehlWilliam_1965_0079.tif\n",
      "MoehlWilliam_camera_018.tif --> MoehlWilliam_1965_0082.tif\n",
      "MoehlWilliam_camera_019.tif --> MoehlWilliam_1965_0084.tif\n",
      "MoehlWilliam_camera_020.tif --> MoehlWilliam_1965_0085.tif\n",
      "MoehlWilliam_camera_021.tif --> MoehlWilliam_1965_0090.tif\n",
      "MoehlWilliam_camera_022.tif --> MoehlWilliam_1965_0096.tif\n",
      "MoehlWilliam_camera_023.tif --> MoehlWilliam_1965_0110.tif\n"
     ]
    }
   ],
   "source": [
    "print('\\tCopy from ------------> Copy to')\n",
    "for index, copy_to_path in enumerate(missing_identifier_list):\n",
    "    copy_from_path = replacement_tif_path_list[index]\n",
    "    print(f'{copy_from_path.name} --> {copy_to_path.name}')"
   ]
  },
  {
   "cell_type": "code",
   "execution_count": 18,
   "metadata": {},
   "outputs": [],
   "source": [
    "for index, copy_to_path in enumerate(missing_identifier_list):\n",
    "    copy_from_path = replacement_tif_path_list[index]\n",
    "    shutil.copy(copy_from_path, copy_to_path)"
   ]
  },
  {
   "cell_type": "code",
   "execution_count": null,
   "metadata": {},
   "outputs": [],
   "source": []
  }
 ],
 "metadata": {
  "kernelspec": {
   "display_name": "Python 3",
   "language": "python",
   "name": "python3"
  },
  "language_info": {
   "codemirror_mode": {
    "name": "ipython",
    "version": 3
   },
   "file_extension": ".py",
   "mimetype": "text/x-python",
   "name": "python",
   "nbconvert_exporter": "python",
   "pygments_lexer": "ipython3",
   "version": "3.7.7"
  }
 },
 "nbformat": 4,
 "nbformat_minor": 4
}
