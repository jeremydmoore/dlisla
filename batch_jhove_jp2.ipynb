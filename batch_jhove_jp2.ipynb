{
 "cells": [
  {
   "cell_type": "code",
   "execution_count": 8,
   "metadata": {},
   "outputs": [],
   "source": [
    "from pathlib import Path\n",
    "\n",
    "from ipywidgets import IntProgress, Label, VBox\n",
    "from IPython.display import display"
   ]
  },
  {
   "cell_type": "code",
   "execution_count": 9,
   "metadata": {},
   "outputs": [],
   "source": [
    "# functions\n",
    "def batch_process(root_path):\n",
    "    dir_path_list = sorted([x for x in root_path.iterdir() if x.is_dir()])\n",
    "    for dir_path in dir_path_list:\n",
    "        print(f'processing {dir_path} . . . ')\n",
    "        errors = jhove_jp2(dir_path)\n",
    "        if errors:\n",
    "            print(f'errors: {errors}\\n')\n",
    "        else:\n",
    "            print('No errors found\\n')\n",
    "            \n",
    "def delete_dot_files(directory):\n",
    "    dir_path = Path(directory)\n",
    "    dot_file_path_list = list(dir_path.glob('**/.*'))\n",
    "    print(f'Number of dot files before delete: {len(dot_file_path_list)}')\n",
    "    for dot_file_path in dot_file_path_list:\n",
    "        dot_file_path.unlink()\n",
    "    dot_file_path_list = list(dir_path.glob('**/.*'))\n",
    "    print(f'After delete: {len(dot_file_path_list)}')\n",
    "\n",
    "    \n",
    "def jhove_jp2(directory):\n",
    "    dir_path = Path(directory)\n",
    "    print(f'Processing JP2s in {dir_path}')\n",
    "    \n",
    "    # get list of jp2 files & delete all .*.jp2 dot files\n",
    "    jp2_path_list = sorted(dir_path.glob('**/*.jp2'))\n",
    "    delete_dot_files(dir_path)\n",
    "    jp2_path_list = sorted(dir_path.glob('**/*.jp2'))\n",
    "    number_of_jp2 = len(jp2_path_list)\n",
    "\n",
    "    # instantiate error dictionary\n",
    "    error_dict = {}\n",
    "    for i, jp2_path in enumerate(jp2_path_list):\n",
    "        if i % 10 == 0:\n",
    "            print(f'processing image: {jp2_path.name}\\nimage {i+1} of {number_of_jp2}')\n",
    "        status = !{jhove} \"{str(jp2_path)}\" | grep -e 'Status:'\n",
    "        status = status[0]\n",
    "        if status == '  Status: Well-Formed and valid':\n",
    "            continue\n",
    "        else:\n",
    "            error_dict.update( {jp2_path.name : status} )\n",
    "\n",
    "    return error_dict"
   ]
  },
  {
   "cell_type": "code",
   "execution_count": 6,
   "metadata": {},
   "outputs": [],
   "source": [
    "# variables\n",
    "#root_path = Path('/Users/dlisla/Pictures/athletics_programs/Output/jp2_toJhove')\n",
    "root_path = Path('/Users/dlisla/Pictures/athletics-programs/Output/jp2_toJhove')\n",
    "jhove = f'~/jhove/jhove -m JPEG2000-hul'"
   ]
  },
  {
   "cell_type": "code",
   "execution_count": 7,
   "metadata": {},
   "outputs": [
    {
     "name": "stdout",
     "output_type": "stream",
     "text": [
      "processing /Users/dlisla/Pictures/athletics-programs/Output/jp2_toJhove/lady-vols-tennis_1992 . . . \n",
      "Processing JP2s in /Users/dlisla/Pictures/athletics-programs/Output/jp2_toJhove/lady-vols-tennis_1992\n",
      "Number of dot files before delete: 0\n",
      "After delete: 0\n",
      "processing image: lady-vols-tennis_1992_001.jp2\n",
      "image 1 of 36\n",
      "processing image: lady-vols-tennis_1992_011.jp2\n",
      "image 11 of 36\n",
      "processing image: lady-vols-tennis_1992_021.jp2\n",
      "image 21 of 36\n",
      "processing image: lady-vols-tennis_1992_031.jp2\n",
      "image 31 of 36\n",
      "No errors found\n",
      "\n"
     ]
    }
   ],
   "source": [
    "batch_process(root_path)"
   ]
  },
  {
   "cell_type": "code",
   "execution_count": 6,
   "metadata": {},
   "outputs": [],
   "source": [
    "!open {str(root_path)}"
   ]
  },
  {
   "cell_type": "code",
   "execution_count": null,
   "metadata": {},
   "outputs": [],
   "source": []
  }
 ],
 "metadata": {
  "kernelspec": {
   "display_name": "Python 3",
   "language": "python",
   "name": "python3"
  },
  "language_info": {
   "codemirror_mode": {
    "name": "ipython",
    "version": 3
   },
   "file_extension": ".py",
   "mimetype": "text/x-python",
   "name": "python",
   "nbconvert_exporter": "python",
   "pygments_lexer": "ipython3",
   "version": "3.7.7"
  }
 },
 "nbformat": 4,
 "nbformat_minor": 4
}
