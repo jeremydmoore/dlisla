{
 "cells": [
  {
   "cell_type": "code",
   "execution_count": 2,
   "metadata": {},
   "outputs": [],
   "source": [
    "# imports\n",
    "import shutil\n",
    "from pathlib import Path\n",
    "\n",
    "from ipywidgets import IntProgress, Label, VBox\n",
    "from IPython.display import display"
   ]
  },
  {
   "cell_type": "code",
   "execution_count": 3,
   "metadata": {},
   "outputs": [
    {
     "name": "stdout",
     "output_type": "stream",
     "text": [
      "166 directories to process\n"
     ]
    }
   ],
   "source": [
    "# set network path and get list of directories to process\n",
    "data_directory = Path('/Volumes/fluffy/0_JeremysWorkingSpace/2019-10/board-of-regents_toOCR')\n",
    "input_directory = data_directory.joinpath('1.toOCR')\n",
    "output_directory = data_directory.joinpath('2.OCRed')\n",
    "\n",
    "directories_to_convert_to_pdf_paths_list = sorted([x for x in input_directory.iterdir() if x.is_dir()])\n",
    "\n",
    "print(f'{len(directories_to_convert_to_pdf_paths_list)} directories to process')"
   ]
  },
  {
   "cell_type": "code",
   "execution_count": 5,
   "metadata": {
    "code_folding": [
     75
    ]
   },
   "outputs": [],
   "source": [
    "# functions\n",
    "\n",
    "def get_tif_paths_list(directory_path, scantailor=False):\n",
    "    \n",
    "    # if directory_path not a Path-like object then make it one\n",
    "    if not isinstance(directory_path, Path):\n",
    "        directory_path = Path(directory_path)\n",
    "        \n",
    "    # add 'out' path to directory if processed with ScanTailor\n",
    "    if scantailor:\n",
    "        directory_path = Path(directory_path).joinpath('out')\n",
    "    \n",
    "    # get paths to *.tif to process\n",
    "    tif_paths_list = sorted(directory_path.glob('*.tif'))\n",
    "    \n",
    "    if len(tif_paths_list) == 0:\n",
    "        tif_paths_list = sorted(directory_path.glob('*.tiff'))\n",
    "    \n",
    "    # only keep *.tif that DO NOT start with '.' to exclude macOS index files\n",
    "    tif_paths_list = [x for x in tif_paths_list if not str(x.name).startswith('.')]\n",
    "    \n",
    "    return tif_paths_list\n",
    "\n",
    "\n",
    "def create_temporary_pdf_directory(directory_path):\n",
    "    \n",
    "    # if directory_path not a Path-like object then make it one\n",
    "    if not isinstance(directory_path, Path):\n",
    "        directory_path = Path(directory_path)\n",
    "        \n",
    "    temporary_pdf_directory_path = Path.home().joinpath(f'Desktop/_temporary_pdfs_{directory_path.name}')\n",
    "    \n",
    "    try:  # creating the temporary directory\n",
    "        temporary_pdf_directory_path.mkdir()\n",
    "    except FileExistsError:  # delete the directory & all contents then create it\n",
    "        shutil.rmtree(temporary_pdf_directory_path)\n",
    "        temporary_pdf_directory_path.mkdir()\n",
    "        \n",
    "    return temporary_pdf_directory_path\n",
    "\n",
    "\n",
    "def batch_ocr_tifs_into_pdfs(tif_paths_list, temporary_pdf_directory_path):\n",
    "    \n",
    "    number_of_tifs = len(tif_paths_list)\n",
    "    number_of_pdfs = 0\n",
    "    \n",
    "    # progress bar\n",
    "    progress_label = Label('OCR *.tif')\n",
    "    progress_bar = IntProgress(min=0, max=number_of_tifs)\n",
    "    progress_widget = VBox([progress_label, progress_bar])\n",
    "    display(progress_widget)\n",
    "    \n",
    "    for tif_path in tif_paths_list:\n",
    "        \n",
    "        label = f'OCRing {tif_path.name}'\n",
    "        progress_label.value = label\n",
    "\n",
    "        temporary_pdf_output_path = temporary_pdf_directory_path.joinpath(tif_path.stem)\n",
    "\n",
    "        # ocr *.tif with tesseract\n",
    "        # NOTE: output SHOULD NOT have extension on end!\n",
    "        !tesseract \"{str(tif_path)}\" \"{str(temporary_pdf_output_path)}\" pdf 2>/dev/null\n",
    "\n",
    "        # Add the suffix .pdf that tesseract didn't want\n",
    "        temporary_pdf_output_path = temporary_pdf_directory_path.joinpath(f'{tif_path.stem}.pdf') \n",
    "\n",
    "        if temporary_pdf_output_path.is_file():\n",
    "            number_of_pdfs += 1\n",
    "            progress_bar.value = number_of_pdfs\n",
    "        \n",
    "    if number_of_pdfs != number_of_tifs:\n",
    "        print(f'ERROR - ERROR - ERROR')\n",
    "        print(f'# of *.tif: {number_of_tifs}')\n",
    "        print(f'# of PDFs: {number_of_pdfs}')\n",
    "    else:\n",
    "        print(f'{number_of_pdfs} PDFs created and saved in {temporary_pdf_directory_path}')\n",
    "    \n",
    "    \n",
    "def concatenate_pdfs(temporary_pdf_directory_path):\n",
    "\n",
    "    # strip '_temporary_pdfs_' from beginning of directory path to get combined PDF name\n",
    "    combined_pdf_name = f\"{str(temporary_pdf_directory_path).split('_temporary_pdfs_')[1]}.pdf\"\n",
    "\n",
    "    combined_pdf_output_path = temporary_pdf_directory_path.joinpath(combined_pdf_name)\n",
    "\n",
    "    # concatenate with pdftk\n",
    "    !pdftk \"{str(temporary_pdf_directory_path)}\"/*.pdf cat output \"{str(combined_pdf_output_path)}\"\n",
    "\n",
    "    if combined_pdf_output_path.is_file() and combined_pdf_output_path.stat().st_size > 0:\n",
    "        print(f'{combined_pdf_output_path} created with size {round((combined_pdf_output_path.stat().st_size/1024/1024/1024), 2)} GB')\n",
    "\n",
    "    return combined_pdf_output_path"
   ]
  },
  {
   "cell_type": "code",
   "execution_count": 6,
   "metadata": {
    "code_folding": [],
    "scrolled": false
   },
   "outputs": [
    {
     "name": "stdout",
     "output_type": "stream",
     "text": [
      "961 *.tif to process in /Volumes/fluffy/0_JeremysWorkingSpace/2019-10/board-of-regents_toOCR/1.toOCR/R_ BOT_1958-02-24_EX1-33\n"
     ]
    },
    {
     "data": {
      "application/vnd.jupyter.widget-view+json": {
       "model_id": "4b7dd9b85f3d433298f3d96c96951901",
       "version_major": 2,
       "version_minor": 0
      },
      "text/plain": [
       "VBox(children=(Label(value='OCR *.tif'), IntProgress(value=0, max=961)))"
      ]
     },
     "metadata": {},
     "output_type": "display_data"
    },
    {
     "name": "stdout",
     "output_type": "stream",
     "text": [
      "961 PDFs created and saved in /Users/dlisla/Desktop/_temporary_pdfs_R_ BOT_1958-02-24_EX1-33\n",
      "/Users/dlisla/Desktop/_temporary_pdfs_R_ BOT_1958-02-24_EX1-33/R_ BOT_1958-02-24_EX1-33.pdf created with size 0.25 GB\n",
      "\n",
      "*****\n",
      "R_ BOT_1958-02-24_EX1-33 is now /Volumes/fluffy/0_JeremysWorkingSpace/2019-10/board-of-regents_toOCR/2.OCRed/R_ BOT_1958-02-24_EX1-33\n",
      "*****\n",
      "\n",
      "345 *.tif to process in /Volumes/fluffy/0_JeremysWorkingSpace/2019-10/board-of-regents_toOCR/1.toOCR/R_ BOT_1958-05-09_EX1-126\n"
     ]
    },
    {
     "data": {
      "application/vnd.jupyter.widget-view+json": {
       "model_id": "e73e55d671064115903d42f005f7d240",
       "version_major": 2,
       "version_minor": 0
      },
      "text/plain": [
       "VBox(children=(Label(value='OCR *.tif'), IntProgress(value=0, max=345)))"
      ]
     },
     "metadata": {},
     "output_type": "display_data"
    },
    {
     "name": "stdout",
     "output_type": "stream",
     "text": [
      "345 PDFs created and saved in /Users/dlisla/Desktop/_temporary_pdfs_R_ BOT_1958-05-09_EX1-126\n",
      "/Users/dlisla/Desktop/_temporary_pdfs_R_ BOT_1958-05-09_EX1-126/R_ BOT_1958-05-09_EX1-126.pdf created with size 0.03 GB\n",
      "\n",
      "*****\n",
      "R_ BOT_1958-05-09_EX1-126 is now /Volumes/fluffy/0_JeremysWorkingSpace/2019-10/board-of-regents_toOCR/2.OCRed/R_ BOT_1958-05-09_EX1-126\n",
      "*****\n",
      "\n",
      "97 *.tif to process in /Volumes/fluffy/0_JeremysWorkingSpace/2019-10/board-of-regents_toOCR/1.toOCR/R_ BOT_1958-06-19_EX1-14\n"
     ]
    },
    {
     "data": {
      "application/vnd.jupyter.widget-view+json": {
       "model_id": "bf66adbaa80b401099092a1992e982ac",
       "version_major": 2,
       "version_minor": 0
      },
      "text/plain": [
       "VBox(children=(Label(value='OCR *.tif'), IntProgress(value=0, max=97)))"
      ]
     },
     "metadata": {},
     "output_type": "display_data"
    },
    {
     "name": "stdout",
     "output_type": "stream",
     "text": [
      "97 PDFs created and saved in /Users/dlisla/Desktop/_temporary_pdfs_R_ BOT_1958-06-19_EX1-14\n",
      "/Users/dlisla/Desktop/_temporary_pdfs_R_ BOT_1958-06-19_EX1-14/R_ BOT_1958-06-19_EX1-14.pdf created with size 0.02 GB\n",
      "\n",
      "*****\n",
      "R_ BOT_1958-06-19_EX1-14 is now /Volumes/fluffy/0_JeremysWorkingSpace/2019-10/board-of-regents_toOCR/2.OCRed/R_ BOT_1958-06-19_EX1-14\n",
      "*****\n",
      "\n",
      "2 *.tif to process in /Volumes/fluffy/0_JeremysWorkingSpace/2019-10/board-of-regents_toOCR/1.toOCR/R_ BOT_1958-09-11_EX1\n"
     ]
    },
    {
     "data": {
      "application/vnd.jupyter.widget-view+json": {
       "model_id": "df31fe3356f9430e80a0ed59afb9f0ab",
       "version_major": 2,
       "version_minor": 0
      },
      "text/plain": [
       "VBox(children=(Label(value='OCR *.tif'), IntProgress(value=0, max=2)))"
      ]
     },
     "metadata": {},
     "output_type": "display_data"
    },
    {
     "name": "stdout",
     "output_type": "stream",
     "text": [
      "2 PDFs created and saved in /Users/dlisla/Desktop/_temporary_pdfs_R_ BOT_1958-09-11_EX1\n",
      "/Users/dlisla/Desktop/_temporary_pdfs_R_ BOT_1958-09-11_EX1/R_ BOT_1958-09-11_EX1.pdf created with size 0.0 GB\n",
      "\n",
      "*****\n",
      "R_ BOT_1958-09-11_EX1 is now /Volumes/fluffy/0_JeremysWorkingSpace/2019-10/board-of-regents_toOCR/2.OCRed/R_ BOT_1958-09-11_EX1\n",
      "*****\n",
      "\n",
      "379 *.tif to process in /Volumes/fluffy/0_JeremysWorkingSpace/2019-10/board-of-regents_toOCR/1.toOCR/R_ BOT_1958-10-17_EX1-227\n"
     ]
    },
    {
     "data": {
      "application/vnd.jupyter.widget-view+json": {
       "model_id": "8ada9ff394bd440baeb3a7feef8e03b4",
       "version_major": 2,
       "version_minor": 0
      },
      "text/plain": [
       "VBox(children=(Label(value='OCR *.tif'), IntProgress(value=0, max=379)))"
      ]
     },
     "metadata": {},
     "output_type": "display_data"
    },
    {
     "name": "stdout",
     "output_type": "stream",
     "text": [
      "379 PDFs created and saved in /Users/dlisla/Desktop/_temporary_pdfs_R_ BOT_1958-10-17_EX1-227\n",
      "/Users/dlisla/Desktop/_temporary_pdfs_R_ BOT_1958-10-17_EX1-227/R_ BOT_1958-10-17_EX1-227.pdf created with size 0.08 GB\n",
      "\n",
      "*****\n",
      "R_ BOT_1958-10-17_EX1-227 is now /Volumes/fluffy/0_JeremysWorkingSpace/2019-10/board-of-regents_toOCR/2.OCRed/R_ BOT_1958-10-17_EX1-227\n",
      "*****\n",
      "\n",
      "285 *.tif to process in /Volumes/fluffy/0_JeremysWorkingSpace/2019-10/board-of-regents_toOCR/1.toOCR/R_ BOT_1958-12-01_EX1-28\n"
     ]
    },
    {
     "data": {
      "application/vnd.jupyter.widget-view+json": {
       "model_id": "3e68ac2bace34223b887e3c94c2ae011",
       "version_major": 2,
       "version_minor": 0
      },
      "text/plain": [
       "VBox(children=(Label(value='OCR *.tif'), IntProgress(value=0, max=285)))"
      ]
     },
     "metadata": {},
     "output_type": "display_data"
    },
    {
     "name": "stdout",
     "output_type": "stream",
     "text": [
      "285 PDFs created and saved in /Users/dlisla/Desktop/_temporary_pdfs_R_ BOT_1958-12-01_EX1-28\n",
      "/Users/dlisla/Desktop/_temporary_pdfs_R_ BOT_1958-12-01_EX1-28/R_ BOT_1958-12-01_EX1-28.pdf created with size 0.06 GB\n",
      "\n",
      "*****\n",
      "R_ BOT_1958-12-01_EX1-28 is now /Volumes/fluffy/0_JeremysWorkingSpace/2019-10/board-of-regents_toOCR/2.OCRed/R_ BOT_1958-12-01_EX1-28\n",
      "*****\n",
      "\n",
      "246 *.tif to process in /Volumes/fluffy/0_JeremysWorkingSpace/2019-10/board-of-regents_toOCR/1.toOCR/R_ BOT_1959-03-18_EX1-149\n"
     ]
    },
    {
     "data": {
      "application/vnd.jupyter.widget-view+json": {
       "model_id": "706968a5f4c4408cba70749dfae26ece",
       "version_major": 2,
       "version_minor": 0
      },
      "text/plain": [
       "VBox(children=(Label(value='OCR *.tif'), IntProgress(value=0, max=246)))"
      ]
     },
     "metadata": {},
     "output_type": "display_data"
    },
    {
     "name": "stdout",
     "output_type": "stream",
     "text": [
      "246 PDFs created and saved in /Users/dlisla/Desktop/_temporary_pdfs_R_ BOT_1959-03-18_EX1-149\n",
      "/Users/dlisla/Desktop/_temporary_pdfs_R_ BOT_1959-03-18_EX1-149/R_ BOT_1959-03-18_EX1-149.pdf created with size 0.05 GB\n",
      "\n",
      "*****\n",
      "R_ BOT_1959-03-18_EX1-149 is now /Volumes/fluffy/0_JeremysWorkingSpace/2019-10/board-of-regents_toOCR/2.OCRed/R_ BOT_1959-03-18_EX1-149\n",
      "*****\n",
      "\n",
      "166 *.tif to process in /Volumes/fluffy/0_JeremysWorkingSpace/2019-10/board-of-regents_toOCR/1.toOCR/R_ BOT_1959-06-18_EX1-15\n"
     ]
    },
    {
     "data": {
      "application/vnd.jupyter.widget-view+json": {
       "model_id": "21cbb67e613e410798de09f70a293298",
       "version_major": 2,
       "version_minor": 0
      },
      "text/plain": [
       "VBox(children=(Label(value='OCR *.tif'), IntProgress(value=0, max=166)))"
      ]
     },
     "metadata": {},
     "output_type": "display_data"
    },
    {
     "name": "stdout",
     "output_type": "stream",
     "text": [
      "166 PDFs created and saved in /Users/dlisla/Desktop/_temporary_pdfs_R_ BOT_1959-06-18_EX1-15\n",
      "/Users/dlisla/Desktop/_temporary_pdfs_R_ BOT_1959-06-18_EX1-15/R_ BOT_1959-06-18_EX1-15.pdf created with size 0.04 GB\n",
      "\n",
      "*****\n",
      "R_ BOT_1959-06-18_EX1-15 is now /Volumes/fluffy/0_JeremysWorkingSpace/2019-10/board-of-regents_toOCR/2.OCRed/R_ BOT_1959-06-18_EX1-15\n",
      "*****\n",
      "\n",
      "101 *.tif to process in /Volumes/fluffy/0_JeremysWorkingSpace/2019-10/board-of-regents_toOCR/1.toOCR/R_ BOT_1959-10-02_EX1-19\n"
     ]
    },
    {
     "data": {
      "application/vnd.jupyter.widget-view+json": {
       "model_id": "84bb7c7f4a0a4ce6bef545cc4f98ba6d",
       "version_major": 2,
       "version_minor": 0
      },
      "text/plain": [
       "VBox(children=(Label(value='OCR *.tif'), IntProgress(value=0, max=101)))"
      ]
     },
     "metadata": {},
     "output_type": "display_data"
    },
    {
     "name": "stdout",
     "output_type": "stream",
     "text": [
      "101 PDFs created and saved in /Users/dlisla/Desktop/_temporary_pdfs_R_ BOT_1959-10-02_EX1-19\n",
      "/Users/dlisla/Desktop/_temporary_pdfs_R_ BOT_1959-10-02_EX1-19/R_ BOT_1959-10-02_EX1-19.pdf created with size 0.02 GB\n",
      "\n",
      "*****\n",
      "R_ BOT_1959-10-02_EX1-19 is now /Volumes/fluffy/0_JeremysWorkingSpace/2019-10/board-of-regents_toOCR/2.OCRed/R_ BOT_1959-10-02_EX1-19\n",
      "*****\n",
      "\n",
      "372 *.tif to process in /Volumes/fluffy/0_JeremysWorkingSpace/2019-10/board-of-regents_toOCR/1.toOCR/R_ BOT_1959-11-07_EX1-255\n"
     ]
    },
    {
     "data": {
      "application/vnd.jupyter.widget-view+json": {
       "model_id": "270ccd8ce920461bbfb751e841398eee",
       "version_major": 2,
       "version_minor": 0
      },
      "text/plain": [
       "VBox(children=(Label(value='OCR *.tif'), IntProgress(value=0, max=372)))"
      ]
     },
     "metadata": {},
     "output_type": "display_data"
    },
    {
     "name": "stdout",
     "output_type": "stream",
     "text": [
      "372 PDFs created and saved in /Users/dlisla/Desktop/_temporary_pdfs_R_ BOT_1959-11-07_EX1-255\n",
      "/Users/dlisla/Desktop/_temporary_pdfs_R_ BOT_1959-11-07_EX1-255/R_ BOT_1959-11-07_EX1-255.pdf created with size 0.06 GB\n",
      "\n",
      "*****\n",
      "R_ BOT_1959-11-07_EX1-255 is now /Volumes/fluffy/0_JeremysWorkingSpace/2019-10/board-of-regents_toOCR/2.OCRed/R_ BOT_1959-11-07_EX1-255\n",
      "*****\n",
      "\n",
      "178 *.tif to process in /Volumes/fluffy/0_JeremysWorkingSpace/2019-10/board-of-regents_toOCR/1.toOCR/R_ BOT_1960-01-25_EX1-11\n"
     ]
    },
    {
     "data": {
      "application/vnd.jupyter.widget-view+json": {
       "model_id": "45a4612cc5cf4b0e80420e919f9bf1fa",
       "version_major": 2,
       "version_minor": 0
      },
      "text/plain": [
       "VBox(children=(Label(value='OCR *.tif'), IntProgress(value=0, max=178)))"
      ]
     },
     "metadata": {},
     "output_type": "display_data"
    },
    {
     "name": "stdout",
     "output_type": "stream",
     "text": [
      "^C\n",
      "^C\n",
      "^C\n",
      "^C\n",
      "^C\n",
      "^C\n",
      "^C\n",
      "^C\n",
      "^C\n",
      "^C\n",
      "^C\n",
      "^C\n"
     ]
    },
    {
     "name": "stderr",
     "output_type": "stream",
     "text": [
      "ERROR:root:Internal Python error in the inspect module.\n",
      "Below is the traceback from this internal error.\n",
      "\n"
     ]
    },
    {
     "name": "stdout",
     "output_type": "stream",
     "text": [
      "Traceback (most recent call last):\n",
      "  File \"/Users/dlisla/miniconda3/envs/dlisla/lib/python3.7/site-packages/IPython/utils/_process_posix.py\", line 156, in system\n",
      "    child = pexpect.spawn(self.sh, args=['-c', cmd])  # Vanilla Pexpect\n",
      "  File \"/Users/dlisla/miniconda3/envs/dlisla/lib/python3.7/site-packages/pexpect/pty_spawn.py\", line 204, in __init__\n",
      "    self._spawn(command, args, preexec_fn, dimensions)\n",
      "  File \"/Users/dlisla/miniconda3/envs/dlisla/lib/python3.7/site-packages/pexpect/pty_spawn.py\", line 303, in _spawn\n",
      "    cwd=self.cwd, **kwargs)\n",
      "KeyboardInterrupt\n",
      "\n",
      "During handling of the above exception, another exception occurred:\n",
      "\n",
      "Traceback (most recent call last):\n",
      "  File \"/Users/dlisla/miniconda3/envs/dlisla/lib/python3.7/site-packages/IPython/core/interactiveshell.py\", line 3326, in run_code\n",
      "    exec(code_obj, self.user_global_ns, self.user_ns)\n",
      "  File \"<ipython-input-6-3f4e788d56b1>\", line 13, in <module>\n",
      "    batch_ocr_tifs_into_pdfs(tif_paths_list, temp_pdf_dir_path)\n",
      "  File \"<ipython-input-5-c50c01989b60>\", line 62, in batch_ocr_tifs_into_pdfs\n",
      "    get_ipython().system('tesseract \"{str(tif_path)}\" \"{str(temporary_pdf_output_path)}\" pdf 2>/dev/null')\n",
      "  File \"/Users/dlisla/miniconda3/envs/dlisla/lib/python3.7/site-packages/IPython/core/interactiveshell.py\", line 2453, in system_piped\n",
      "    self.user_ns['_exit_code'] = system(self.var_expand(cmd, depth=1))\n",
      "  File \"/Users/dlisla/miniconda3/envs/dlisla/lib/python3.7/site-packages/IPython/utils/_process_posix.py\", line 172, in system\n",
      "    child.sendline(chr(3))\n",
      "UnboundLocalError: local variable 'child' referenced before assignment\n",
      "\n",
      "During handling of the above exception, another exception occurred:\n",
      "\n",
      "Traceback (most recent call last):\n",
      "  File \"/Users/dlisla/miniconda3/envs/dlisla/lib/python3.7/site-packages/IPython/core/interactiveshell.py\", line 2040, in showtraceback\n",
      "    stb = value._render_traceback_()\n",
      "AttributeError: 'UnboundLocalError' object has no attribute '_render_traceback_'\n",
      "\n",
      "During handling of the above exception, another exception occurred:\n",
      "\n",
      "Traceback (most recent call last):\n",
      "  File \"/Users/dlisla/miniconda3/envs/dlisla/lib/python3.7/site-packages/IPython/core/ultratb.py\", line 1101, in get_records\n",
      "    return _fixed_getinnerframes(etb, number_of_lines_of_context, tb_offset)\n",
      "  File \"/Users/dlisla/miniconda3/envs/dlisla/lib/python3.7/site-packages/IPython/core/ultratb.py\", line 319, in wrapped\n",
      "    return f(*args, **kwargs)\n",
      "  File \"/Users/dlisla/miniconda3/envs/dlisla/lib/python3.7/site-packages/IPython/core/ultratb.py\", line 353, in _fixed_getinnerframes\n",
      "    records = fix_frame_records_filenames(inspect.getinnerframes(etb, context))\n",
      "  File \"/Users/dlisla/miniconda3/envs/dlisla/lib/python3.7/inspect.py\", line 1502, in getinnerframes\n",
      "    frameinfo = (tb.tb_frame,) + getframeinfo(tb, context)\n",
      "  File \"/Users/dlisla/miniconda3/envs/dlisla/lib/python3.7/inspect.py\", line 1460, in getframeinfo\n",
      "    filename = getsourcefile(frame) or getfile(frame)\n",
      "  File \"/Users/dlisla/miniconda3/envs/dlisla/lib/python3.7/inspect.py\", line 693, in getsourcefile\n",
      "    if os.path.exists(filename):\n",
      "  File \"/Users/dlisla/miniconda3/envs/dlisla/lib/python3.7/genericpath.py\", line 19, in exists\n",
      "    os.stat(path)\n",
      "KeyboardInterrupt\n"
     ]
    },
    {
     "ename": "UnboundLocalError",
     "evalue": "local variable 'child' referenced before assignment",
     "output_type": "error",
     "traceback": [
      "\u001b[0;31m---------------------------------------------------------------------------\u001b[0m",
      "\nDuring handling of the above exception, another exception occurred:\n",
      "\u001b[0;31mUnboundLocalError\u001b[0m                         Traceback (most recent call last)",
      "\u001b[0;32m<ipython-input-6-3f4e788d56b1>\u001b[0m in \u001b[0;36m<module>\u001b[0;34m\u001b[0m\n\u001b[1;32m     11\u001b[0m \u001b[0;34m\u001b[0m\u001b[0m\n\u001b[1;32m     12\u001b[0m     \u001b[0;31m# OCR tifs into PDFs with progress bar\u001b[0m\u001b[0;34m\u001b[0m\u001b[0;34m\u001b[0m\u001b[0;34m\u001b[0m\u001b[0m\n\u001b[0;32m---> 13\u001b[0;31m     \u001b[0mbatch_ocr_tifs_into_pdfs\u001b[0m\u001b[0;34m(\u001b[0m\u001b[0mtif_paths_list\u001b[0m\u001b[0;34m,\u001b[0m \u001b[0mtemp_pdf_dir_path\u001b[0m\u001b[0;34m)\u001b[0m\u001b[0;34m\u001b[0m\u001b[0;34m\u001b[0m\u001b[0m\n\u001b[0m\u001b[1;32m     14\u001b[0m \u001b[0;34m\u001b[0m\u001b[0m\n\u001b[1;32m     15\u001b[0m     \u001b[0;31m# concatenate PDFs into single file\u001b[0m\u001b[0;34m\u001b[0m\u001b[0;34m\u001b[0m\u001b[0;34m\u001b[0m\u001b[0m\n",
      "\u001b[0;32m<ipython-input-5-c50c01989b60>\u001b[0m in \u001b[0;36mbatch_ocr_tifs_into_pdfs\u001b[0;34m(tif_paths_list, temporary_pdf_directory_path)\u001b[0m\n\u001b[1;32m     60\u001b[0m         \u001b[0;31m# ocr *.tif with tesseract\u001b[0m\u001b[0;34m\u001b[0m\u001b[0;34m\u001b[0m\u001b[0;34m\u001b[0m\u001b[0m\n\u001b[1;32m     61\u001b[0m         \u001b[0;31m# NOTE: output SHOULD NOT have extension on end!\u001b[0m\u001b[0;34m\u001b[0m\u001b[0;34m\u001b[0m\u001b[0;34m\u001b[0m\u001b[0m\n\u001b[0;32m---> 62\u001b[0;31m         \u001b[0mget_ipython\u001b[0m\u001b[0;34m(\u001b[0m\u001b[0;34m)\u001b[0m\u001b[0;34m.\u001b[0m\u001b[0msystem\u001b[0m\u001b[0;34m(\u001b[0m\u001b[0;34m'tesseract \"{str(tif_path)}\" \"{str(temporary_pdf_output_path)}\" pdf 2>/dev/null'\u001b[0m\u001b[0;34m)\u001b[0m\u001b[0;34m\u001b[0m\u001b[0;34m\u001b[0m\u001b[0m\n\u001b[0m\u001b[1;32m     63\u001b[0m \u001b[0;34m\u001b[0m\u001b[0m\n\u001b[1;32m     64\u001b[0m         \u001b[0;31m# Add the suffix .pdf that tesseract didn't want\u001b[0m\u001b[0;34m\u001b[0m\u001b[0;34m\u001b[0m\u001b[0;34m\u001b[0m\u001b[0m\n",
      "\u001b[0;32m~/miniconda3/envs/dlisla/lib/python3.7/site-packages/IPython/core/interactiveshell.py\u001b[0m in \u001b[0;36msystem_piped\u001b[0;34m(self, cmd)\u001b[0m\n\u001b[1;32m   2451\u001b[0m         \u001b[0;31m# a non-None value would trigger :func:`sys.displayhook` calls.\u001b[0m\u001b[0;34m\u001b[0m\u001b[0;34m\u001b[0m\u001b[0;34m\u001b[0m\u001b[0m\n\u001b[1;32m   2452\u001b[0m         \u001b[0;31m# Instead, we store the exit_code in user_ns.\u001b[0m\u001b[0;34m\u001b[0m\u001b[0;34m\u001b[0m\u001b[0;34m\u001b[0m\u001b[0m\n\u001b[0;32m-> 2453\u001b[0;31m         \u001b[0mself\u001b[0m\u001b[0;34m.\u001b[0m\u001b[0muser_ns\u001b[0m\u001b[0;34m[\u001b[0m\u001b[0;34m'_exit_code'\u001b[0m\u001b[0;34m]\u001b[0m \u001b[0;34m=\u001b[0m \u001b[0msystem\u001b[0m\u001b[0;34m(\u001b[0m\u001b[0mself\u001b[0m\u001b[0;34m.\u001b[0m\u001b[0mvar_expand\u001b[0m\u001b[0;34m(\u001b[0m\u001b[0mcmd\u001b[0m\u001b[0;34m,\u001b[0m \u001b[0mdepth\u001b[0m\u001b[0;34m=\u001b[0m\u001b[0;36m1\u001b[0m\u001b[0;34m)\u001b[0m\u001b[0;34m)\u001b[0m\u001b[0;34m\u001b[0m\u001b[0;34m\u001b[0m\u001b[0m\n\u001b[0m\u001b[1;32m   2454\u001b[0m \u001b[0;34m\u001b[0m\u001b[0m\n\u001b[1;32m   2455\u001b[0m     \u001b[0;32mdef\u001b[0m \u001b[0msystem_raw\u001b[0m\u001b[0;34m(\u001b[0m\u001b[0mself\u001b[0m\u001b[0;34m,\u001b[0m \u001b[0mcmd\u001b[0m\u001b[0;34m)\u001b[0m\u001b[0;34m:\u001b[0m\u001b[0;34m\u001b[0m\u001b[0;34m\u001b[0m\u001b[0m\n",
      "\u001b[0;32m~/miniconda3/envs/dlisla/lib/python3.7/site-packages/IPython/utils/_process_posix.py\u001b[0m in \u001b[0;36msystem\u001b[0;34m(self, cmd)\u001b[0m\n\u001b[1;32m    170\u001b[0m             \u001b[0;31m# (the character is known as ETX for 'End of Text', see\u001b[0m\u001b[0;34m\u001b[0m\u001b[0;34m\u001b[0m\u001b[0;34m\u001b[0m\u001b[0m\n\u001b[1;32m    171\u001b[0m             \u001b[0;31m# curses.ascii.ETX).\u001b[0m\u001b[0;34m\u001b[0m\u001b[0;34m\u001b[0m\u001b[0;34m\u001b[0m\u001b[0m\n\u001b[0;32m--> 172\u001b[0;31m             \u001b[0mchild\u001b[0m\u001b[0;34m.\u001b[0m\u001b[0msendline\u001b[0m\u001b[0;34m(\u001b[0m\u001b[0mchr\u001b[0m\u001b[0;34m(\u001b[0m\u001b[0;36m3\u001b[0m\u001b[0;34m)\u001b[0m\u001b[0;34m)\u001b[0m\u001b[0;34m\u001b[0m\u001b[0;34m\u001b[0m\u001b[0m\n\u001b[0m\u001b[1;32m    173\u001b[0m             \u001b[0;31m# Read and print any more output the program might produce on its\u001b[0m\u001b[0;34m\u001b[0m\u001b[0;34m\u001b[0m\u001b[0;34m\u001b[0m\u001b[0m\n\u001b[1;32m    174\u001b[0m             \u001b[0;31m# way out.\u001b[0m\u001b[0;34m\u001b[0m\u001b[0;34m\u001b[0m\u001b[0;34m\u001b[0m\u001b[0m\n",
      "\u001b[0;31mUnboundLocalError\u001b[0m: local variable 'child' referenced before assignment"
     ]
    }
   ],
   "source": [
    "for dir_path in directories_to_convert_to_pdf_paths_list:\n",
    "    \n",
    "    # get list of *.tif to process\n",
    "    tif_paths_list = get_tif_paths_list(dir_path)\n",
    "    \n",
    "    number_of_tifs = len(tif_paths_list)\n",
    "    print(f'{number_of_tifs} *.tif to process in {dir_path}')\n",
    "    \n",
    "    # create temp directory\n",
    "    temp_pdf_dir_path = create_temporary_pdf_directory(dir_path)\n",
    "    \n",
    "    # OCR tifs into PDFs with progress bar\n",
    "    batch_ocr_tifs_into_pdfs(tif_paths_list, temp_pdf_dir_path)\n",
    "    \n",
    "    # concatenate PDFs into single file\n",
    "    combined_pdf_path = concatenate_pdfs(temp_pdf_dir_path)\n",
    "    \n",
    "    # copy combined PDF to copy directory\n",
    "    output_pdf_path = output_directory.joinpath(combined_pdf_path.name)\n",
    "    shutil.copy(combined_pdf_path, output_pdf_path)\n",
    "    \n",
    "    if output_pdf_path.is_file():  # move processed dir_path into output_directory\n",
    "        renamed_dir_path = output_directory.joinpath(dir_path.name)\n",
    "        dir_path.rename(renamed_dir_path)\n",
    "\n",
    "    print('')\n",
    "    print('*****')    \n",
    "    print(f'{dir_path.name} is now {renamed_dir_path}')\n",
    "    print('*****')\n",
    "    print('')"
   ]
  },
  {
   "cell_type": "code",
   "execution_count": null,
   "metadata": {
    "code_folding": [
     0
    ]
   },
   "outputs": [],
   "source": [
    "# open output_directory_path for visual Quality Assurance\n",
    "!open {str(output_directory)}"
   ]
  },
  {
   "cell_type": "code",
   "execution_count": 4,
   "metadata": {},
   "outputs": [
    {
     "name": "stdout",
     "output_type": "stream",
     "text": [
      "25 _temporary_pdf_* directories deleted\n"
     ]
    }
   ],
   "source": [
    "# delete all '_temporary_pdfs_*' directories on the desktop\n",
    "all_temp_dir_paths = sorted(Path('/Users/dlisla/Desktop/').glob('_temporary_pdfs_*'))\n",
    "number_of_dir_paths = len(all_temp_dir_paths)\n",
    "for temp_dir_path in all_temp_dir_paths:\n",
    "    shutil.rmtree(temp_dir_path)\n",
    "\n",
    "all_temp_dir_paths = sorted(Path('/Users/dlisla/Desktop/').glob('_temporary_pdfs_*'))\n",
    "number_of_deleted_dir_paths = number_of_dir_paths - len(all_temp_dir_paths)\n",
    "\n",
    "print(f'{number_of_deleted_dir_paths} _temporary_pdf_* directories deleted')"
   ]
  },
  {
   "cell_type": "code",
   "execution_count": null,
   "metadata": {},
   "outputs": [],
   "source": []
  }
 ],
 "metadata": {
  "kernelspec": {
   "display_name": "Python 3",
   "language": "python",
   "name": "python3"
  },
  "toc": {
   "base_numbering": 1,
   "nav_menu": {},
   "number_sections": true,
   "sideBar": true,
   "skip_h1_title": false,
   "title_cell": "Table of Contents",
   "title_sidebar": "Contents",
   "toc_cell": false,
   "toc_position": {},
   "toc_section_display": true,
   "toc_window_display": false
  }
 },
 "nbformat": 4,
 "nbformat_minor": 2
}
